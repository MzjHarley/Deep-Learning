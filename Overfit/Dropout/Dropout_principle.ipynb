{
 "cells": [
  {
   "cell_type": "code",
   "execution_count": 1,
   "id": "8401e6e8",
   "metadata": {},
   "outputs": [],
   "source": [
    "import tensorflow as tf"
   ]
  },
  {
   "cell_type": "markdown",
   "id": "50657fdd",
   "metadata": {},
   "source": [
    "$dropout(x_i)=\\begin{cases}0, & if ~ x_i ~ is ~ dropped  \\\\\\frac{x_i}{1-drop\\_rate}, & if ~ x_i ~ is ~  not ~ dropped\\end{cases}$"
   ]
  },
  {
   "cell_type": "code",
   "execution_count": 2,
   "id": "cb23f751",
   "metadata": {},
   "outputs": [
    {
     "name": "stdout",
     "output_type": "stream",
     "text": [
      "[0 1 1 0 1 1 1 0 1 1]\n",
      "[ 0.  2.  3.  0.  5.  6.  7.  0.  9. 10.]\n"
     ]
    },
    {
     "data": {
      "text/plain": [
       "array([ 0.       ,  3.3333333,  5.       ,  0.       ,  8.333333 ,\n",
       "       10.       , 11.666666 ,  0.       , 14.999999 , 16.666666 ],\n",
       "      dtype=float32)"
      ]
     },
     "execution_count": 2,
     "metadata": {},
     "output_type": "execute_result"
    }
   ],
   "source": [
    "import numpy as np\n",
    "\n",
    "def dropout(x, drop_rate):\n",
    "    if drop_rate < 0. or drop_rate >= 1: \n",
    "        raise ValueError('Dropout rate must be in interval [0, 1).')\n",
    "    retain_rate = 1. - drop_rate\n",
    "    random_tensor = np.random.binomial(n=1, p=retain_rate, size=x.shape) \n",
    "    #A vector of 0, 1 distribution is about to be generated, 0 means that this neuron is masked\n",
    "    #eg. Toss {n} coin at a time, the probability of heads is {p}, do {x.shape} times experiments, find {the number of coins} that land heads in each test\n",
    "    print(random_tensor)\n",
    "    x *= random_tensor\n",
    "    print(x)\n",
    "    x /= retain_rate\n",
    "    return x\n",
    "\n",
    "x=np.asarray([1,2,3,4,5,6,7,8,9,10],dtype=np.float32)\n",
    "dropout(x,0.4)"
   ]
  },
  {
   "cell_type": "code",
   "execution_count": 3,
   "id": "a0dd7703",
   "metadata": {},
   "outputs": [
    {
     "data": {
      "text/plain": [
       "array([[ 1.6666666,  0.       ,  0.       ,  6.6666665,  8.333333 ,\n",
       "        10.       , 11.666666 , 13.333333 , 15.       , 16.666666 ]],\n",
       "      dtype=float32)"
      ]
     },
     "execution_count": 3,
     "metadata": {},
     "output_type": "execute_result"
    }
   ],
   "source": [
    "tf.random.set_seed(0)\n",
    "x = tf.cast([1,2,3,4,5,6,7,8,9,10],dtype=tf.float32)\n",
    "tf.nn.dropout(x, rate = 0.4, noise_shape=[1,10], seed=1).numpy()"
   ]
  }
 ],
 "metadata": {
  "kernelspec": {
   "display_name": "Python [conda env:tensorflow-gpu] *",
   "language": "python",
   "name": "conda-env-tensorflow-gpu-py"
  },
  "language_info": {
   "codemirror_mode": {
    "name": "ipython",
    "version": 3
   },
   "file_extension": ".py",
   "mimetype": "text/x-python",
   "name": "python",
   "nbconvert_exporter": "python",
   "pygments_lexer": "ipython3",
   "version": "3.7.13"
  }
 },
 "nbformat": 4,
 "nbformat_minor": 5
}
