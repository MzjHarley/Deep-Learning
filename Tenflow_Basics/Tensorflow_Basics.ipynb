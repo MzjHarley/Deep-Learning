{
 "cells": [
  {
   "cell_type": "markdown",
   "metadata": {
    "collapsed": true
   },
   "source": [
    "# TensorFlow基础"
   ]
  },
  {
   "cell_type": "code",
   "execution_count": 1,
   "metadata": {},
   "outputs": [
    {
     "ename": "AssertionError",
     "evalue": "Not enough GPU hardware devices available",
     "output_type": "error",
     "traceback": [
      "\u001b[1;31m---------------------------------------------------------------------------\u001b[0m",
      "\u001b[1;31mAssertionError\u001b[0m                            Traceback (most recent call last)",
      "\u001b[1;32m~\\AppData\\Local\\Temp\\ipykernel_7004\\2182563147.py\u001b[0m in \u001b[0;36m<module>\u001b[1;34m\u001b[0m\n\u001b[0;32m      4\u001b[0m \u001b[1;33m\u001b[0m\u001b[0m\n\u001b[0;32m      5\u001b[0m \u001b[0mphysical_devices\u001b[0m \u001b[1;33m=\u001b[0m \u001b[0mtf\u001b[0m\u001b[1;33m.\u001b[0m\u001b[0mconfig\u001b[0m\u001b[1;33m.\u001b[0m\u001b[0mexperimental\u001b[0m\u001b[1;33m.\u001b[0m\u001b[0mlist_physical_devices\u001b[0m\u001b[1;33m(\u001b[0m\u001b[1;34m'GPU'\u001b[0m\u001b[1;33m)\u001b[0m\u001b[1;33m\u001b[0m\u001b[1;33m\u001b[0m\u001b[0m\n\u001b[1;32m----> 6\u001b[1;33m \u001b[1;32massert\u001b[0m \u001b[0mlen\u001b[0m\u001b[1;33m(\u001b[0m\u001b[0mphysical_devices\u001b[0m\u001b[1;33m)\u001b[0m \u001b[1;33m>\u001b[0m \u001b[1;36m0\u001b[0m\u001b[1;33m,\u001b[0m \u001b[1;34m\"Not enough GPU hardware devices available\"\u001b[0m\u001b[1;33m\u001b[0m\u001b[1;33m\u001b[0m\u001b[0m\n\u001b[0m\u001b[0;32m      7\u001b[0m \u001b[0mtf\u001b[0m\u001b[1;33m.\u001b[0m\u001b[0mconfig\u001b[0m\u001b[1;33m.\u001b[0m\u001b[0mexperimental\u001b[0m\u001b[1;33m.\u001b[0m\u001b[0mset_memory_growth\u001b[0m\u001b[1;33m(\u001b[0m\u001b[0mphysical_devices\u001b[0m\u001b[1;33m[\u001b[0m\u001b[1;36m0\u001b[0m\u001b[1;33m]\u001b[0m\u001b[1;33m,\u001b[0m \u001b[1;32mTrue\u001b[0m\u001b[1;33m)\u001b[0m\u001b[1;33m\u001b[0m\u001b[1;33m\u001b[0m\u001b[0m\n\u001b[0;32m      8\u001b[0m \u001b[1;31m#需安装tensorflow-gpu版本可运行成功\u001b[0m\u001b[1;33m\u001b[0m\u001b[1;33m\u001b[0m\u001b[1;33m\u001b[0m\u001b[0m\n",
      "\u001b[1;31mAssertionError\u001b[0m: Not enough GPU hardware devices available"
     ]
    }
   ],
   "source": [
    "import tensorflow as tf\n",
    "import tensorflow.keras as keras\n",
    "import tensorflow.keras.layers as layers\n",
    "\n",
    "physical_devices = tf.config.experimental.list_physical_devices('GPU')\n",
    "assert len(physical_devices) > 0, \"Not enough GPU hardware devices available\"\n",
    "tf.config.experimental.set_memory_growth(physical_devices[0], True)\n",
    "#需安装tensorflow-gpu版本可运行成功"
   ]
  },
  {
   "cell_type": "markdown",
   "metadata": {},
   "source": [
    "## 数据类型\n",
    "\n",
    "### 数值类型\n",
    "\n",
    "标量在 TensorFlow 是如何创建的"
   ]
  },
  {
   "cell_type": "code",
   "execution_count": 2,
   "metadata": {},
   "outputs": [
    {
     "data": {
      "text/plain": [
       "(float, tensorflow.python.framework.ops.EagerTensor, True, 0)"
      ]
     },
     "execution_count": 2,
     "metadata": {},
     "output_type": "execute_result"
    }
   ],
   "source": [
    "# python 语言方式创建标量\n",
    "a = 1.2 \n",
    "# TF 方式创建标量\n",
    "aa = tf.constant(1.2)\n",
    "\n",
    "type(a), type(aa), tf.is_tensor(aa),aa.ndim"
   ]
  },
  {
   "cell_type": "markdown",
   "metadata": {},
   "source": [
    "如果要使用 TensorFlow 提供的功能函数， 须通过 TensorFlow 规定的方式去创建张量，而不能使用 Python 语言的标准变量创建方式。"
   ]
  },
  {
   "cell_type": "code",
   "execution_count": 3,
   "metadata": {},
   "outputs": [
    {
     "data": {
      "text/plain": [
       "<tf.Tensor: shape=(3,), dtype=float32, numpy=array([1. , 2. , 3.3], dtype=float32)>"
      ]
     },
     "execution_count": 3,
     "metadata": {},
     "output_type": "execute_result"
    }
   ],
   "source": [
    "x = tf.constant([1,2.,3.3])\n",
    "# 打印 TF 张量的相关信息                \n",
    "x"
   ]
  },
  {
   "cell_type": "code",
   "execution_count": 4,
   "metadata": {},
   "outputs": [
    {
     "data": {
      "text/plain": [
       "array([1. , 2. , 3.3], dtype=float32)"
      ]
     },
     "execution_count": 4,
     "metadata": {},
     "output_type": "execute_result"
    }
   ],
   "source": [
    "# 将 TF 张量的数据导出为 numpy 数组格式\n",
    "x.numpy() "
   ]
  },
  {
   "cell_type": "markdown",
   "metadata": {},
   "source": [
    "与标量不同，向量的定义须通过 List 容器传给 tf.constant()函数。\n",
    "\n",
    "创建一个元素的向量："
   ]
  },
  {
   "cell_type": "code",
   "execution_count": 5,
   "metadata": {},
   "outputs": [
    {
     "data": {
      "text/plain": [
       "(<tf.Tensor: shape=(1,), dtype=float32, numpy=array([1.2], dtype=float32)>,\n",
       " TensorShape([1]),\n",
       " 1)"
      ]
     },
     "execution_count": 5,
     "metadata": {},
     "output_type": "execute_result"
    }
   ],
   "source": [
    "# 创建一个元素的向量\n",
    "a = tf.constant([1.2]) \n",
    "a, a.shape,a.ndim"
   ]
  },
  {
   "cell_type": "markdown",
   "metadata": {},
   "source": [
    "创建 3 个元素的向量："
   ]
  },
  {
   "cell_type": "code",
   "execution_count": 6,
   "metadata": {},
   "outputs": [
    {
     "data": {
      "text/plain": [
       "(<tf.Tensor: shape=(3,), dtype=float32, numpy=array([1., 2., 3.], dtype=float32)>,\n",
       " TensorShape([3]),\n",
       " 1)"
      ]
     },
     "execution_count": 6,
     "metadata": {},
     "output_type": "execute_result"
    }
   ],
   "source": [
    " # 创建 3 个元素的向量\n",
    "a = tf.constant([1,2, 3.])\n",
    "a, a.shape,a.ndim"
   ]
  },
  {
   "cell_type": "markdown",
   "metadata": {},
   "source": [
    "定义矩阵"
   ]
  },
  {
   "cell_type": "code",
   "execution_count": 7,
   "metadata": {},
   "outputs": [
    {
     "data": {
      "text/plain": [
       "(<tf.Tensor: shape=(2, 2), dtype=int32, numpy=\n",
       " array([[1, 2],\n",
       "        [3, 4]])>,\n",
       " TensorShape([2, 2]),\n",
       " 2)"
      ]
     },
     "execution_count": 7,
     "metadata": {},
     "output_type": "execute_result"
    }
   ],
   "source": [
    "# 创建 2 行 2 列的矩阵\n",
    "a = tf.constant([[1,2],[3,4]]) \n",
    "a, a.shape,a.ndim"
   ]
  },
  {
   "cell_type": "markdown",
   "metadata": {},
   "source": [
    "三维张量可以定义为："
   ]
  },
  {
   "cell_type": "code",
   "execution_count": 8,
   "metadata": {},
   "outputs": [
    {
     "data": {
      "text/plain": [
       "<tf.Tensor: shape=(2, 2, 2), dtype=int32, numpy=\n",
       "array([[[1, 2],\n",
       "        [3, 4]],\n",
       "\n",
       "       [[5, 6],\n",
       "        [7, 8]]])>"
      ]
     },
     "execution_count": 8,
     "metadata": {},
     "output_type": "execute_result"
    }
   ],
   "source": [
    "# 创建 3 维张量\n",
    "tf.constant([[[1,2],[3,4]],[[5,6],[7,8]]]) "
   ]
  },
  {
   "cell_type": "markdown",
   "metadata": {},
   "source": [
    "### 字符串类型\n",
    "\n",
    "通过传入字符串对象即可创建字符串类型的张量"
   ]
  },
  {
   "cell_type": "code",
   "execution_count": 9,
   "metadata": {},
   "outputs": [
    {
     "data": {
      "text/plain": [
       "<tf.Tensor: shape=(), dtype=string, numpy=b'Hello, Deep Learning.'>"
      ]
     },
     "execution_count": 9,
     "metadata": {},
     "output_type": "execute_result"
    }
   ],
   "source": [
    "# 创建字符串\n",
    "a = tf.constant('Hello, Deep Learning.') \n",
    "a"
   ]
  },
  {
   "cell_type": "markdown",
   "metadata": {},
   "source": [
    "在 tf.strings 模块中，提供了常见的字符串类型的工具函数，如小写化 lower()、 拼接\n",
    "join()、 长度 length()、 切分 split()等。"
   ]
  },
  {
   "cell_type": "code",
   "execution_count": 10,
   "metadata": {},
   "outputs": [
    {
     "data": {
      "text/plain": [
       "<tf.Tensor: shape=(), dtype=string, numpy=b'hello, deep learning.'>"
      ]
     },
     "execution_count": 10,
     "metadata": {},
     "output_type": "execute_result"
    }
   ],
   "source": [
    "# 小写化字符串\n",
    "tf.strings.lower(a) "
   ]
  },
  {
   "cell_type": "markdown",
   "metadata": {},
   "source": [
    "### 布尔类型\n",
    "布尔类型的张量只需要传入 Python 语言的布尔类型数据，转换成 TensorFlow 内部布尔型即可。"
   ]
  },
  {
   "cell_type": "code",
   "execution_count": 11,
   "metadata": {},
   "outputs": [
    {
     "data": {
      "text/plain": [
       "<tf.Tensor: shape=(), dtype=bool, numpy=True>"
      ]
     },
     "execution_count": 11,
     "metadata": {},
     "output_type": "execute_result"
    }
   ],
   "source": [
    "# 创建布尔类型标量\n",
    "tf.constant(True) "
   ]
  },
  {
   "cell_type": "markdown",
   "metadata": {},
   "source": [
    "创建布尔类型的向量"
   ]
  },
  {
   "cell_type": "code",
   "execution_count": 12,
   "metadata": {},
   "outputs": [
    {
     "data": {
      "text/plain": [
       "<tf.Tensor: shape=(2,), dtype=bool, numpy=array([ True, False])>"
      ]
     },
     "execution_count": 12,
     "metadata": {},
     "output_type": "execute_result"
    }
   ],
   "source": [
    " # 创建布尔类型向量\n",
    "tf.constant([True, False])"
   ]
  },
  {
   "cell_type": "markdown",
   "metadata": {},
   "source": [
    "需要注意的是， TensorFlow 的布尔类型和 Python 语言的布尔类型并不等价，不能通用"
   ]
  },
  {
   "cell_type": "code",
   "execution_count": 13,
   "metadata": {},
   "outputs": [
    {
     "name": "stdout",
     "output_type": "stream",
     "text": [
      "False\n"
     ]
    },
    {
     "data": {
      "text/plain": [
       "<tf.Tensor: shape=(), dtype=bool, numpy=True>"
      ]
     },
     "execution_count": 13,
     "metadata": {},
     "output_type": "execute_result"
    }
   ],
   "source": [
    "# 创建 TF 布尔张量\n",
    "a = tf.constant(True) \n",
    "# TF 布尔类型张量与 python 布尔类型比较\n",
    "print(a is True)\n",
    "# 仅数值比较\n",
    "a == True "
   ]
  },
  {
   "cell_type": "markdown",
   "metadata": {},
   "source": [
    "## 数值精度\n",
    "\n",
    "在创建张量时，可以指定张量的保存精度"
   ]
  },
  {
   "cell_type": "code",
   "execution_count": 14,
   "metadata": {},
   "outputs": [
    {
     "data": {
      "text/plain": [
       "<tf.Tensor: shape=(), dtype=int16, numpy=-13035>"
      ]
     },
     "execution_count": 14,
     "metadata": {},
     "output_type": "execute_result"
    }
   ],
   "source": [
    "# 创建指定精度的张量\n",
    "tf.constant(123456789, dtype=tf.int16)#overflow,get wrong result"
   ]
  },
  {
   "cell_type": "code",
   "execution_count": 15,
   "metadata": {},
   "outputs": [
    {
     "data": {
      "text/plain": [
       "<tf.Tensor: shape=(), dtype=int32, numpy=123456789>"
      ]
     },
     "execution_count": 15,
     "metadata": {},
     "output_type": "execute_result"
    }
   ],
   "source": [
    "tf.constant(123456789, dtype=tf.int32)"
   ]
  },
  {
   "cell_type": "markdown",
   "metadata": {},
   "source": [
    "对于浮点数， 高精度的张量可以表示更精准的数据，例如采用 tf.float32 精度保存π时，实际保存的数据为 3.1415927"
   ]
  },
  {
   "cell_type": "code",
   "execution_count": 16,
   "metadata": {},
   "outputs": [
    {
     "data": {
      "text/plain": [
       "<tf.Tensor: shape=(), dtype=float32, numpy=3.1415927>"
      ]
     },
     "execution_count": 16,
     "metadata": {},
     "output_type": "execute_result"
    }
   ],
   "source": [
    "import numpy as np\n",
    "# 从 numpy 中导入 pi 常量\n",
    "np.pi \n",
    "# 32 位\n",
    "tf.constant(np.pi, dtype=tf.float32) "
   ]
  },
  {
   "cell_type": "markdown",
   "metadata": {},
   "source": [
    "如果采用 tf.float64 精度保存π，则能获得更高的精度"
   ]
  },
  {
   "cell_type": "code",
   "execution_count": 17,
   "metadata": {},
   "outputs": [
    {
     "data": {
      "text/plain": [
       "<tf.Tensor: shape=(), dtype=float64, numpy=3.141592653589793>"
      ]
     },
     "execution_count": 17,
     "metadata": {},
     "output_type": "execute_result"
    }
   ],
   "source": [
    "tf.constant(np.pi, dtype=tf.float64) # 64 位"
   ]
  },
  {
   "cell_type": "markdown",
   "metadata": {},
   "source": [
    "### 读取精度\n",
    "\n",
    "通过访问张量的 dtype 成员属性可以判断张量的保存精度"
   ]
  },
  {
   "cell_type": "code",
   "execution_count": 18,
   "metadata": {},
   "outputs": [
    {
     "name": "stdout",
     "output_type": "stream",
     "text": [
      "before: <dtype: 'float16'>\n",
      "after : <dtype: 'float32'>\n"
     ]
    }
   ],
   "source": [
    "a = tf.constant(np.pi, dtype=tf.float16)\n",
    "\n",
    "# 读取原有张量的数值精度\n",
    "print('before:',a.dtype) \n",
    "# 如果精度不符合要求，则进行转换\n",
    "if a.dtype != tf.float32: \n",
    "    # tf.cast 函数可以完成精度转换\n",
    "    a = tf.cast(a,tf.float32) \n",
    "# 打印转换后的精度\n",
    "print('after :',a.dtype) "
   ]
  },
  {
   "cell_type": "markdown",
   "metadata": {},
   "source": [
    "### 类型转换\n",
    "系统的每个模块使用的数据类型、 数值精度可能各不相同， 对于不符合要求的张量的类型及精度， 需要通过 tf.cast 函数进行转换"
   ]
  },
  {
   "cell_type": "code",
   "execution_count": 19,
   "metadata": {},
   "outputs": [
    {
     "data": {
      "text/plain": [
       "<tf.Tensor: shape=(), dtype=float64, numpy=3.140625>"
      ]
     },
     "execution_count": 19,
     "metadata": {},
     "output_type": "execute_result"
    }
   ],
   "source": [
    "# 创建 tf.float16 低精度张量\n",
    "a = tf.constant(np.pi, dtype=tf.float16) \n",
    "# 转换为高精度张量\n",
    "tf.cast(a, tf.double) "
   ]
  },
  {
   "cell_type": "markdown",
   "metadata": {},
   "source": [
    "进行类型转换时，需要保证转换操作的合法性， 例如将高精度的张量转换为低精度的张量时，可能发生数据溢出隐患："
   ]
  },
  {
   "cell_type": "code",
   "execution_count": 20,
   "metadata": {},
   "outputs": [
    {
     "data": {
      "text/plain": [
       "<tf.Tensor: shape=(), dtype=int16, numpy=-13035>"
      ]
     },
     "execution_count": 20,
     "metadata": {},
     "output_type": "execute_result"
    }
   ],
   "source": [
    "a = tf.constant(123456789, dtype=tf.int32)\n",
    "# 转换为低精度整型\n",
    "tf.cast(a, tf.int16) "
   ]
  },
  {
   "cell_type": "markdown",
   "metadata": {},
   "source": [
    "布尔类型与整型之间相互转换也是合法的， 是比较常见的操作"
   ]
  },
  {
   "cell_type": "code",
   "execution_count": 21,
   "metadata": {},
   "outputs": [
    {
     "data": {
      "text/plain": [
       "<tf.Tensor: shape=(2,), dtype=int32, numpy=array([1, 0])>"
      ]
     },
     "execution_count": 21,
     "metadata": {},
     "output_type": "execute_result"
    }
   ],
   "source": [
    "a = tf.constant([True, False])\n",
    "# 布尔类型转整型\n",
    "tf.cast(a, tf.int32) "
   ]
  },
  {
   "cell_type": "markdown",
   "metadata": {},
   "source": [
    "一般默认 0 表示 False， 1 表示 True，在 TensorFlow 中，将非 0 数字都视为 True，"
   ]
  },
  {
   "cell_type": "code",
   "execution_count": 22,
   "metadata": {},
   "outputs": [
    {
     "data": {
      "text/plain": [
       "<tf.Tensor: shape=(4,), dtype=bool, numpy=array([ True, False,  True,  True])>"
      ]
     },
     "execution_count": 22,
     "metadata": {},
     "output_type": "execute_result"
    }
   ],
   "source": [
    "a = tf.constant([-1, 0, 1, 2])\n",
    "# 整型转布尔类型\n",
    "tf.cast(a, tf.bool) "
   ]
  },
  {
   "cell_type": "markdown",
   "metadata": {},
   "source": [
    "## 待优化张量\n",
    "\n",
    "TensorFlow 增加了一种专门的数据类型来支持梯度信息的记录： tf.Variable。 tf.Variable 类型在普通的张量类型基础上添加了 name， trainable 等属性来支持计算图的构建。"
   ]
  },
  {
   "cell_type": "code",
   "execution_count": 23,
   "metadata": {},
   "outputs": [
    {
     "data": {
      "text/plain": [
       "('Variable:0', True)"
      ]
     },
     "execution_count": 23,
     "metadata": {},
     "output_type": "execute_result"
    }
   ],
   "source": [
    "# 创建 TF 张量\n",
    "a = tf.constant([-1, 0, 1, 2]) \n",
    "# 转换为 Variable 类型\n",
    "aa = tf.Variable(a) \n",
    "# Variable 类型张量的属性\n",
    "aa.name, aa.trainable "
   ]
  },
  {
   "cell_type": "markdown",
   "metadata": {},
   "source": [
    "name 属性用于命名计算图中的变量，这套命名体系是 TensorFlow 内部维护的， 一般不需要用户关注 name 属性；   \n",
    "trainable属性表征当前张量是否需要被优化，创建 Variable 对象时是默认启用优化标志，可以设置trainable=False 来设置张量不需要优化。"
   ]
  },
  {
   "cell_type": "code",
   "execution_count": 24,
   "metadata": {},
   "outputs": [
    {
     "data": {
      "text/plain": [
       "<tf.Variable 'Variable:0' shape=(2, 2) dtype=int32, numpy=\n",
       "array([[1, 2],\n",
       "       [3, 4]])>"
      ]
     },
     "execution_count": 24,
     "metadata": {},
     "output_type": "execute_result"
    }
   ],
   "source": [
    "# 直接创建 Variable 张量\n",
    "tf.Variable([[1,2],[3,4]]) "
   ]
  },
  {
   "cell_type": "markdown",
   "metadata": {},
   "source": [
    "待优化张量可视为普通张量的特殊类型，普通张量其实也可以通过 GradientTape.watch()方法临时加入跟踪梯度信息的列表，从而支持自动求导功能"
   ]
  },
  {
   "cell_type": "markdown",
   "metadata": {},
   "source": [
    "## 创建张量\n",
    "\n",
    "### 从数组、列表对象创建"
   ]
  },
  {
   "cell_type": "markdown",
   "metadata": {},
   "source": [
    "通过 tf.convert_to_tensor 函数可以创建新 Tensor，并将保存在 Python List 对象或者Numpy Array 对象中的数据导入到新 Tensor 中。"
   ]
  },
  {
   "cell_type": "code",
   "execution_count": 25,
   "metadata": {},
   "outputs": [
    {
     "data": {
      "text/plain": [
       "<tf.Tensor: shape=(2,), dtype=float32, numpy=array([1., 2.], dtype=float32)>"
      ]
     },
     "execution_count": 25,
     "metadata": {},
     "output_type": "execute_result"
    }
   ],
   "source": [
    "# 从列表创建张量\n",
    "tf.convert_to_tensor([1,2.]) "
   ]
  },
  {
   "cell_type": "code",
   "execution_count": 26,
   "metadata": {},
   "outputs": [
    {
     "data": {
      "text/plain": [
       "<tf.Tensor: shape=(2, 2), dtype=float64, numpy=\n",
       "array([[1., 2.],\n",
       "       [3., 4.]])>"
      ]
     },
     "execution_count": 26,
     "metadata": {},
     "output_type": "execute_result"
    }
   ],
   "source": [
    "# 从数组中创建张量\n",
    "tf.convert_to_tensor(np.array([[1,2.],[3,4]])) "
   ]
  },
  {
   "cell_type": "markdown",
   "metadata": {},
   "source": [
    "### 创建全0或全1张量\n",
    "tf.zeros(shape）,tf.ones(shape)"
   ]
  },
  {
   "cell_type": "code",
   "execution_count": 27,
   "metadata": {},
   "outputs": [
    {
     "data": {
      "text/plain": [
       "(<tf.Tensor: shape=(), dtype=float32, numpy=0.0>,\n",
       " <tf.Tensor: shape=(), dtype=float32, numpy=1.0>)"
      ]
     },
     "execution_count": 27,
     "metadata": {},
     "output_type": "execute_result"
    }
   ],
   "source": [
    "# 创建全 0，全 1 的标量\n",
    "tf.zeros([]),tf.ones([]) "
   ]
  },
  {
   "cell_type": "code",
   "execution_count": 28,
   "metadata": {},
   "outputs": [
    {
     "data": {
      "text/plain": [
       "(<tf.Tensor: shape=(1,), dtype=float32, numpy=array([0.], dtype=float32)>,\n",
       " <tf.Tensor: shape=(1,), dtype=float32, numpy=array([1.], dtype=float32)>)"
      ]
     },
     "execution_count": 28,
     "metadata": {},
     "output_type": "execute_result"
    }
   ],
   "source": [
    "# 创建全 0，全 1 的向量\n",
    "tf.zeros([1]),tf.ones([1]) "
   ]
  },
  {
   "cell_type": "markdown",
   "metadata": {},
   "source": [
    "创建全 0 的矩阵"
   ]
  },
  {
   "cell_type": "code",
   "execution_count": 29,
   "metadata": {},
   "outputs": [
    {
     "data": {
      "text/plain": [
       "<tf.Tensor: shape=(2, 2), dtype=float32, numpy=\n",
       "array([[0., 0.],\n",
       "       [0., 0.]], dtype=float32)>"
      ]
     },
     "execution_count": 29,
     "metadata": {},
     "output_type": "execute_result"
    }
   ],
   "source": [
    "# 创建全 0 矩阵，指定 shape 为 2 行 2 列\n",
    "tf.zeros([2,2]) "
   ]
  },
  {
   "cell_type": "markdown",
   "metadata": {},
   "source": [
    "创建全 1 的矩阵"
   ]
  },
  {
   "cell_type": "code",
   "execution_count": 30,
   "metadata": {},
   "outputs": [
    {
     "data": {
      "text/plain": [
       "<tf.Tensor: shape=(3, 2), dtype=float32, numpy=\n",
       "array([[1., 1.],\n",
       "       [1., 1.],\n",
       "       [1., 1.]], dtype=float32)>"
      ]
     },
     "execution_count": 30,
     "metadata": {},
     "output_type": "execute_result"
    }
   ],
   "source": [
    "# 创建全 1 矩阵，指定 shape 为 3 行 2 列\n",
    "tf.ones([3,2]) "
   ]
  },
  {
   "cell_type": "markdown",
   "metadata": {},
   "source": [
    "通过 tf.zeros_like, tf.ones_like 可以方便地新建与某个张量 shape 一致， 且内容为全 0 或全 1 的张量。"
   ]
  },
  {
   "cell_type": "code",
   "execution_count": 31,
   "metadata": {},
   "outputs": [
    {
     "data": {
      "text/plain": [
       "<tf.Tensor: shape=(2, 3), dtype=float32, numpy=\n",
       "array([[0., 0., 0.],\n",
       "       [0., 0., 0.]], dtype=float32)>"
      ]
     },
     "execution_count": 31,
     "metadata": {},
     "output_type": "execute_result"
    }
   ],
   "source": [
    "# 创建一个矩阵\n",
    "a = tf.ones([2,3]) \n",
    "# 创建一个与 a 形状相同，但是全 0 的新矩阵\n",
    "tf.zeros_like(a) "
   ]
  },
  {
   "cell_type": "markdown",
   "metadata": {},
   "source": [
    "创建与张量A形状一样的全 1 张量"
   ]
  },
  {
   "cell_type": "code",
   "execution_count": 32,
   "metadata": {},
   "outputs": [
    {
     "data": {
      "text/plain": [
       "<tf.Tensor: shape=(3, 2), dtype=float32, numpy=\n",
       "array([[1., 1.],\n",
       "       [1., 1.],\n",
       "       [1., 1.]], dtype=float32)>"
      ]
     },
     "execution_count": 32,
     "metadata": {},
     "output_type": "execute_result"
    }
   ],
   "source": [
    "# 创建一个矩阵\n",
    "a = tf.zeros([3,2]) \n",
    "# 创建一个与 a 形状相同，但是全 1 的新矩阵\n",
    "tf.ones_like(a) "
   ]
  },
  {
   "cell_type": "markdown",
   "metadata": {},
   "source": [
    "### 创建自定义数值张量\n",
    "\n",
    "通过 tf.fill(shape, value)可以创建全为自定义数值 value 的张量，形状由 shape 参数指定。"
   ]
  },
  {
   "cell_type": "code",
   "execution_count": 33,
   "metadata": {},
   "outputs": [
    {
     "data": {
      "text/plain": [
       "<tf.Tensor: shape=(), dtype=int32, numpy=-1>"
      ]
     },
     "execution_count": 33,
     "metadata": {},
     "output_type": "execute_result"
    }
   ],
   "source": [
    "# 创建-1 的标量\n",
    "tf.fill([], -1) "
   ]
  },
  {
   "cell_type": "code",
   "execution_count": 34,
   "metadata": {},
   "outputs": [
    {
     "data": {
      "text/plain": [
       "<tf.Tensor: shape=(1,), dtype=int32, numpy=array([-1])>"
      ]
     },
     "execution_count": 34,
     "metadata": {},
     "output_type": "execute_result"
    }
   ],
   "source": [
    "# 创建-1 的向量\n",
    "tf.fill([1], -1) "
   ]
  },
  {
   "cell_type": "code",
   "execution_count": 35,
   "metadata": {},
   "outputs": [
    {
     "data": {
      "text/plain": [
       "<tf.Tensor: shape=(2, 2), dtype=int32, numpy=\n",
       "array([[99, 99],\n",
       "       [99, 99]])>"
      ]
     },
     "execution_count": 35,
     "metadata": {},
     "output_type": "execute_result"
    }
   ],
   "source": [
    "# 创建 2 行 2 列，元素全为 99 的矩阵\n",
    "tf.fill([2,2], 99) "
   ]
  },
  {
   "cell_type": "markdown",
   "metadata": {},
   "source": [
    "### 创建已知分布的张量"
   ]
  },
  {
   "cell_type": "markdown",
   "metadata": {},
   "source": [
    "通过 tf.random.normal(shape, mean=0.0, stddev=1.0,dtype=tf.float32)可以创建形状为 shape，均值为mean，标准差为 stddev 的正态分布$\\mathcal{N}(mean, stddev^2)$。"
   ]
  },
  {
   "cell_type": "code",
   "execution_count": 36,
   "metadata": {},
   "outputs": [
    {
     "data": {
      "text/plain": [
       "<tf.Tensor: shape=(2, 2), dtype=float32, numpy=\n",
       "array([[-0.12005481, -0.89149904],\n",
       "       [-0.10116489,  0.7433044 ]], dtype=float32)>"
      ]
     },
     "execution_count": 36,
     "metadata": {},
     "output_type": "execute_result"
    }
   ],
   "source": [
    "# 创建标准正态分布的张量\n",
    "tf.random.normal([2,2]) "
   ]
  },
  {
   "cell_type": "code",
   "execution_count": 37,
   "metadata": {},
   "outputs": [
    {
     "data": {
      "text/plain": [
       "<tf.Tensor: shape=(2, 2), dtype=float32, numpy=\n",
       "array([[-1.9810698 , -2.9681606 ],\n",
       "       [ 0.11106831, -2.2183657 ]], dtype=float32)>"
      ]
     },
     "execution_count": 37,
     "metadata": {},
     "output_type": "execute_result"
    }
   ],
   "source": [
    "# 创建均值为 1，标准差为 2 的正态分布的张量\n",
    "tf.random.normal([2,2], mean=1,stddev=2) "
   ]
  },
  {
   "cell_type": "markdown",
   "metadata": {},
   "source": [
    "通过 tf.random.uniform(shape, minval=0, maxval=None, dtype=tf.float32)可以创建采样自[minval, maxval)区间的均匀分布的张量"
   ]
  },
  {
   "cell_type": "code",
   "execution_count": 38,
   "metadata": {},
   "outputs": [
    {
     "data": {
      "text/plain": [
       "<tf.Tensor: shape=(3, 2), dtype=float32, numpy=\n",
       "array([[0.36782038, 0.43967593],\n",
       "       [0.95087206, 0.84788215],\n",
       "       [0.67067635, 0.046839  ]], dtype=float32)>"
      ]
     },
     "execution_count": 38,
     "metadata": {},
     "output_type": "execute_result"
    }
   ],
   "source": [
    "# 创建采样自[0,1)均匀分布的矩阵,如果是浮点数则最大值默认为1\n",
    "tf.random.uniform([3,2]) "
   ]
  },
  {
   "cell_type": "code",
   "execution_count": 39,
   "metadata": {},
   "outputs": [
    {
     "data": {
      "text/plain": [
       "<tf.Tensor: shape=(2, 2), dtype=float32, numpy=\n",
       "array([[6.83151  , 2.3206902],\n",
       "       [1.1785054, 3.4216368]], dtype=float32)>"
      ]
     },
     "execution_count": 39,
     "metadata": {},
     "output_type": "execute_result"
    }
   ],
   "source": [
    "# 创建采样自[0,10)均匀分布的矩阵\n",
    "tf.random.uniform([2,2],maxval=10) "
   ]
  },
  {
   "cell_type": "markdown",
   "metadata": {},
   "source": [
    "如果需要均匀采样整形类型的数据，必须指定采样区间的最大值 maxval 参数，同时指定数据类型为 tf.int*型"
   ]
  },
  {
   "cell_type": "code",
   "execution_count": 40,
   "metadata": {},
   "outputs": [
    {
     "data": {
      "text/plain": [
       "<tf.Tensor: shape=(2, 2), dtype=int32, numpy=\n",
       "array([[64, 41],\n",
       "       [69, 12]])>"
      ]
     },
     "execution_count": 40,
     "metadata": {},
     "output_type": "execute_result"
    }
   ],
   "source": [
    "# 创建采样自[0,100)均匀分布的整型矩阵\n",
    "tf.random.uniform([2,2],maxval=100,dtype=tf.int32)"
   ]
  },
  {
   "cell_type": "markdown",
   "metadata": {},
   "source": [
    "### 创建序列\n",
    "\n",
    "tf.range(limit, delta=1)可以创建[0, limit)之间，步长为 delta 的整型序列，不包含 limit 本身。"
   ]
  },
  {
   "cell_type": "code",
   "execution_count": 41,
   "metadata": {},
   "outputs": [
    {
     "data": {
      "text/plain": [
       "<tf.Tensor: shape=(10,), dtype=int32, numpy=array([0, 1, 2, 3, 4, 5, 6, 7, 8, 9])>"
      ]
     },
     "execution_count": 41,
     "metadata": {},
     "output_type": "execute_result"
    }
   ],
   "source": [
    "# 0~10，不包含 10\n",
    "tf.range(10) "
   ]
  },
  {
   "cell_type": "code",
   "execution_count": 42,
   "metadata": {},
   "outputs": [
    {
     "data": {
      "text/plain": [
       "<tf.Tensor: shape=(5,), dtype=int32, numpy=array([0, 2, 4, 6, 8])>"
      ]
     },
     "execution_count": 42,
     "metadata": {},
     "output_type": "execute_result"
    }
   ],
   "source": [
    "# 创建 0~10，步长为 2 的整形序列\n",
    "tf.range(10,delta=2)"
   ]
  },
  {
   "cell_type": "code",
   "execution_count": 43,
   "metadata": {},
   "outputs": [
    {
     "data": {
      "text/plain": [
       "<tf.Tensor: shape=(5,), dtype=int32, numpy=array([1, 3, 5, 7, 9])>"
      ]
     },
     "execution_count": 43,
     "metadata": {},
     "output_type": "execute_result"
    }
   ],
   "source": [
    "tf.range(1,10,delta=2) # 1~10"
   ]
  },
  {
   "cell_type": "markdown",
   "metadata": {},
   "source": [
    "## 张量的典型应用\n",
    "\n",
    "### 标量"
   ]
  },
  {
   "cell_type": "code",
   "execution_count": 44,
   "metadata": {},
   "outputs": [
    {
     "name": "stdout",
     "output_type": "stream",
     "text": [
      "tf.Tensor(0.37382483, shape=(), dtype=float32)\n"
     ]
    }
   ],
   "source": [
    "# 随机模拟网络输出\n",
    "out = tf.random.uniform([4,10]) \n",
    "# 随机构造样本真实标签\n",
    "y = tf.constant([2,3,2,0]) \n",
    "# one-hot 编码\n",
    "y = tf.one_hot(y, depth=10) \n",
    "# 计算每个样本的 MSE\n",
    "loss = tf.keras.losses.mse(y, out) \n",
    "# 平均 MSE,loss 应是标量\n",
    "loss = tf.reduce_mean(loss) \n",
    "print(loss)"
   ]
  },
  {
   "cell_type": "markdown",
   "metadata": {},
   "source": [
    "### 向量\n",
    "\n",
    "考虑 2 个输出节点的网络层， 我们创建长度为 2 的偏置向量b，并累加在每个输出节点上："
   ]
  },
  {
   "cell_type": "code",
   "execution_count": 45,
   "metadata": {},
   "outputs": [
    {
     "data": {
      "text/plain": [
       "<tf.Tensor: shape=(4, 2), dtype=float32, numpy=\n",
       "array([[-0.714706  ,  0.05763658],\n",
       "       [ 0.44503176,  1.1185707 ],\n",
       "       [-0.96824694,  2.871083  ],\n",
       "       [ 1.9381356 , -0.96515054]], dtype=float32)>"
      ]
     },
     "execution_count": 45,
     "metadata": {},
     "output_type": "execute_result"
    }
   ],
   "source": [
    "# z=wx,模拟获得激活函数的输入 z\n",
    "z = tf.random.normal([4,2])\n",
    "# 创建偏置向量\n",
    "b = tf.zeros([2])\n",
    "# 累加上偏置向量\n",
    "z = z + b \n",
    "z"
   ]
  },
  {
   "cell_type": "markdown",
   "metadata": {},
   "source": [
    "创建输入节点数为 4，输出节点数为 3 的线性层网络，那么它的偏置向量 b 的长度应为 3"
   ]
  },
  {
   "cell_type": "code",
   "execution_count": 46,
   "metadata": {},
   "outputs": [
    {
     "data": {
      "text/plain": [
       "<tf.Variable 'bias:0' shape=(3,) dtype=float32, numpy=array([0., 0., 0.], dtype=float32)>"
      ]
     },
     "execution_count": 46,
     "metadata": {},
     "output_type": "execute_result"
    }
   ],
   "source": [
    "# 创建一层 Wx+b，输出节点为 3\n",
    "fc = tf.keras.layers.Dense(3) \n",
    "# 通过 build 函数创建 W,b 张量，输入节点为 4\n",
    "fc.build(input_shape=(1,4))\n",
    "# 查看偏置向量\n",
    "fc.bias "
   ]
  },
  {
   "cell_type": "markdown",
   "metadata": {},
   "source": [
    "### 矩阵"
   ]
  },
  {
   "cell_type": "code",
   "execution_count": 47,
   "metadata": {},
   "outputs": [
    {
     "data": {
      "text/plain": [
       "<tf.Tensor: shape=(2, 3), dtype=float32, numpy=\n",
       "array([[1.485795 , 1.485795 , 1.485795 ],\n",
       "       [1.4204538, 1.4204538, 1.4204538]], dtype=float32)>"
      ]
     },
     "execution_count": 47,
     "metadata": {},
     "output_type": "execute_result"
    }
   ],
   "source": [
    "# 2 个样本，特征长度为 4 的张量\n",
    "x = tf.random.normal([2,4]) \n",
    "# 定义 W 张量\n",
    "w = tf.ones([4,3])\n",
    "# 定义 b 张量\n",
    "b = tf.zeros([3]) \n",
    "# X@W+b 运算\n",
    "o = x@w+b \n",
    "o"
   ]
  },
  {
   "cell_type": "code",
   "execution_count": 48,
   "metadata": {},
   "outputs": [
    {
     "name": "stdout",
     "output_type": "stream",
     "text": [
      "[array([[ 0.0315935 ,  0.16546237, -0.90166557],\n",
      "       [ 0.58333564,  0.13615656, -0.38872004],\n",
      "       [ 0.52373314, -0.034154  , -0.5695597 ],\n",
      "       [-0.6321295 , -0.01819497, -0.54688823]], dtype=float32), array([0., 0., 0.], dtype=float32)]\n",
      "[<tf.Variable 'kernel:0' shape=(4, 3) dtype=float32, numpy=\n",
      "array([[ 0.0315935 ,  0.16546237, -0.90166557],\n",
      "       [ 0.58333564,  0.13615656, -0.38872004],\n",
      "       [ 0.52373314, -0.034154  , -0.5695597 ],\n",
      "       [-0.6321295 , -0.01819497, -0.54688823]], dtype=float32)>, <tf.Variable 'bias:0' shape=(3,) dtype=float32, numpy=array([0., 0., 0.], dtype=float32)>]\n"
     ]
    },
    {
     "data": {
      "text/plain": [
       "<tf.Variable 'kernel:0' shape=(4, 3) dtype=float32, numpy=\n",
       "array([[ 0.0315935 ,  0.16546237, -0.90166557],\n",
       "       [ 0.58333564,  0.13615656, -0.38872004],\n",
       "       [ 0.52373314, -0.034154  , -0.5695597 ],\n",
       "       [-0.6321295 , -0.01819497, -0.54688823]], dtype=float32)>"
      ]
     },
     "execution_count": 48,
     "metadata": {},
     "output_type": "execute_result"
    }
   ],
   "source": [
    "# 定义全连接层的输出节点为 3\n",
    "fc = tf.keras.layers.Dense(3) \n",
    "# 定义全连接层的输入节点为 4\n",
    "fc.build(input_shape=(2,4)) \n",
    "print(fc.get_weights())\n",
    "print(fc.weights)\n",
    "# 查看权值矩阵 W\n",
    "fc.kernel "
   ]
  },
  {
   "cell_type": "markdown",
   "metadata": {},
   "source": [
    "### 三维张量"
   ]
  },
  {
   "cell_type": "code",
   "execution_count": 54,
   "metadata": {},
   "outputs": [
    {
     "data": {
      "text/plain": [
       "(25000, 80)"
      ]
     },
     "execution_count": 54,
     "metadata": {},
     "output_type": "execute_result"
    }
   ],
   "source": [
    "# 自动加载 IMDB 电影评价数据集\n",
    "(x_train,y_train),(x_test,y_test)=keras.datasets.imdb.load_data(num_words=10000)#将数据限定为前10000个最常出现的单词，不经常出现的单词被抛弃\n",
    "# 将句子填充、截断为等长 80 个单词的句子\n",
    "x_train = keras.preprocessing.sequence.pad_sequences(x_train,maxlen=80)#maxlen：None或整数，为序列的最大长度。大于此长度的将被截断，小于此长度的序列将在后面填0.\n",
    "x_train.shape"
   ]
  },
  {
   "cell_type": "markdown",
   "metadata": {},
   "source": [
    "可以看到 x_train 张量的 shape 为[25000,80]，其中 25000 表示句子个数， 80 表示每个句子共 80 个单词，每个单词使用数字编码方式表示。\n",
    "\n",
    "我们通过 layers.Embedding 层将数字编码的单词转换为长度为 100 个词向量："
   ]
  },
  {
   "cell_type": "code",
   "execution_count": 55,
   "metadata": {},
   "outputs": [
    {
     "data": {
      "text/plain": [
       "TensorShape([25000, 80, 100])"
      ]
     },
     "execution_count": 55,
     "metadata": {},
     "output_type": "execute_result"
    }
   ],
   "source": [
    "# 创建词向量 Embedding 层类\n",
    "embedding = tf.keras.layers.Embedding(10000, 100) #10000个单词，每个单词转换成长度为100的向量\n",
    "# 将数字编码的单词转换为词向量\n",
    "out = embedding(x_train)\n",
    "out.shape"
   ]
  },
  {
   "cell_type": "markdown",
   "metadata": {},
   "source": [
    "可以看到，经过 Embedding 层编码后，句子张量的 shape 变为[25000,80,100]，其中 100 表示每个单词编码为长度是 100 的向量。"
   ]
  },
  {
   "cell_type": "markdown",
   "metadata": {},
   "source": [
    "### 四维张量"
   ]
  },
  {
   "cell_type": "code",
   "execution_count": 56,
   "metadata": {
    "scrolled": false
   },
   "outputs": [
    {
     "data": {
      "text/plain": [
       "TensorShape([4, 30, 30, 16])"
      ]
     },
     "execution_count": 56,
     "metadata": {},
     "output_type": "execute_result"
    }
   ],
   "source": [
    "# 创建 32x32 的彩色图片输入，个数为 4\n",
    "x = tf.random.normal([4,32,32,3])\n",
    "# 创建卷积神经网络\n",
    "layer = layers.Conv2D(16, kernel_size=3)#[3,3,3]这样的卷积核有16个，因此经过卷积层后，会得到4个16通道30*30的矩阵。\n",
    "# 前向计算\n",
    "out = layer(x)\n",
    "# 输出大小\n",
    "out.shape"
   ]
  },
  {
   "cell_type": "code",
   "execution_count": 57,
   "metadata": {},
   "outputs": [
    {
     "data": {
      "text/plain": [
       "TensorShape([3, 3, 3, 16])"
      ]
     },
     "execution_count": 57,
     "metadata": {},
     "output_type": "execute_result"
    }
   ],
   "source": [
    "# 访问卷积核张量\n",
    "layer.kernel.shape "
   ]
  },
  {
   "cell_type": "markdown",
   "metadata": {},
   "source": [
    "## 索引与切片\n",
    "### 索引"
   ]
  },
  {
   "cell_type": "code",
   "execution_count": 58,
   "metadata": {},
   "outputs": [],
   "source": [
    "# 创建4维张量\n",
    "x = tf.random.normal([4,32,32,3]) "
   ]
  },
  {
   "cell_type": "code",
   "execution_count": 59,
   "metadata": {
    "scrolled": true
   },
   "outputs": [
    {
     "data": {
      "text/plain": [
       "<tf.Tensor: shape=(32, 32, 3), dtype=float32, numpy=\n",
       "array([[[ 0.56132954,  1.0240716 , -0.695265  ],\n",
       "        [ 0.30553484, -0.9748528 , -0.3334454 ],\n",
       "        [-2.0479376 , -0.91174793, -0.45997626],\n",
       "        ...,\n",
       "        [-0.5992921 , -0.4015634 , -0.48222786],\n",
       "        [-0.3929014 , -1.6305777 , -0.8734571 ],\n",
       "        [ 0.34042674,  1.1267968 ,  0.41962907]],\n",
       "\n",
       "       [[-0.80559283,  0.4040911 , -0.84643364],\n",
       "        [ 1.2207829 ,  0.5733357 ,  0.27591863],\n",
       "        [-0.42436305, -1.8920491 ,  1.9671875 ],\n",
       "        ...,\n",
       "        [ 0.78289473,  0.6905323 , -0.43980932],\n",
       "        [ 0.5259124 ,  0.74883085,  0.45092174],\n",
       "        [-1.0944672 , -1.0788081 ,  0.6706025 ]],\n",
       "\n",
       "       [[ 1.4613035 ,  0.13465251,  1.8708674 ],\n",
       "        [-1.2515901 , -1.2327672 , -0.73722744],\n",
       "        [ 1.1814649 , -0.20128182, -0.50636333],\n",
       "        ...,\n",
       "        [-1.6747677 ,  0.64008003,  0.36425805],\n",
       "        [-1.4294685 ,  0.75576574, -0.6863536 ],\n",
       "        [-0.72690636, -0.29798338,  0.8318101 ]],\n",
       "\n",
       "       ...,\n",
       "\n",
       "       [[ 0.43002963,  1.1428841 ,  0.7827187 ],\n",
       "        [-0.06482813, -0.77266747, -1.4249599 ],\n",
       "        [-1.158697  , -1.6275252 , -0.6516665 ],\n",
       "        ...,\n",
       "        [-1.2731057 , -1.8456956 ,  1.0740007 ],\n",
       "        [-1.3087794 , -0.5843872 , -0.53248286],\n",
       "        [ 0.32072553,  2.5007434 ,  1.1839352 ]],\n",
       "\n",
       "       [[ 0.4722067 ,  0.71284705, -0.23398215],\n",
       "        [-3.3269308 ,  0.07699855,  0.8059961 ],\n",
       "        [ 0.21768934,  2.1603928 ,  0.69448274],\n",
       "        ...,\n",
       "        [-1.2731514 , -0.23556468,  0.5412656 ],\n",
       "        [ 0.31555557, -0.08451528,  0.855468  ],\n",
       "        [ 0.5180218 ,  0.30611563,  1.7856265 ]],\n",
       "\n",
       "       [[-0.06641077,  0.6701414 ,  1.708203  ],\n",
       "        [ 1.0045624 ,  0.48866737, -0.44568092],\n",
       "        [ 0.0157121 ,  1.4344662 , -0.21048911],\n",
       "        ...,\n",
       "        [ 0.79773647,  1.1427248 ,  0.77908015],\n",
       "        [ 0.50095254, -0.9969487 ,  1.4788735 ],\n",
       "        [-0.44358414,  0.03561971, -1.0386966 ]]], dtype=float32)>"
      ]
     },
     "execution_count": 59,
     "metadata": {},
     "output_type": "execute_result"
    }
   ],
   "source": [
    "# 取第 1 张图片的数据\n",
    "x[0]"
   ]
  },
  {
   "cell_type": "code",
   "execution_count": 60,
   "metadata": {
    "scrolled": true
   },
   "outputs": [
    {
     "data": {
      "text/plain": [
       "<tf.Tensor: shape=(32, 3), dtype=float32, numpy=\n",
       "array([[-0.80559283,  0.4040911 , -0.84643364],\n",
       "       [ 1.2207829 ,  0.5733357 ,  0.27591863],\n",
       "       [-0.42436305, -1.8920491 ,  1.9671875 ],\n",
       "       [ 1.0676625 , -0.14453442, -0.44366768],\n",
       "       [-0.11034721,  0.68550944, -1.8465581 ],\n",
       "       [ 1.7585673 ,  1.1833974 ,  1.3173681 ],\n",
       "       [-0.22177438,  0.98509234, -0.5816487 ],\n",
       "       [-0.59577924,  1.6136149 ,  0.67506593],\n",
       "       [-0.1011188 ,  0.3346612 ,  1.2177188 ],\n",
       "       [ 0.8624578 , -0.8500602 , -0.07364078],\n",
       "       [ 0.9429823 ,  0.2710342 , -0.06769212],\n",
       "       [-0.1815276 ,  0.7321146 , -0.75649935],\n",
       "       [-1.085658  ,  0.25998333,  0.178231  ],\n",
       "       [-0.35312602, -0.35323015,  0.302885  ],\n",
       "       [-0.0489605 , -0.3486175 ,  0.71964854],\n",
       "       [-0.44715032, -0.45575297,  0.73565453],\n",
       "       [-0.20593886, -0.49678773,  0.68824625],\n",
       "       [-0.7551396 ,  0.8197193 , -0.14241251],\n",
       "       [ 0.02974381, -1.2329326 ,  0.9171778 ],\n",
       "       [-2.165373  , -1.6385571 ,  0.1665903 ],\n",
       "       [ 0.0897903 ,  0.02232791,  1.1903644 ],\n",
       "       [ 0.41937408, -0.00274809, -1.0443907 ],\n",
       "       [ 0.65334755,  0.80386525, -1.3066208 ],\n",
       "       [ 0.8288944 , -0.6969864 ,  1.9404297 ],\n",
       "       [-1.5566573 ,  0.1870296 , -1.9853506 ],\n",
       "       [-0.36964336,  0.7794675 ,  1.4251161 ],\n",
       "       [-0.02802584,  0.32304648, -0.59036565],\n",
       "       [ 0.13892227,  1.6392013 , -1.1868519 ],\n",
       "       [-0.98781973,  1.277934  ,  1.2455678 ],\n",
       "       [ 0.78289473,  0.6905323 , -0.43980932],\n",
       "       [ 0.5259124 ,  0.74883085,  0.45092174],\n",
       "       [-1.0944672 , -1.0788081 ,  0.6706025 ]], dtype=float32)>"
      ]
     },
     "execution_count": 60,
     "metadata": {},
     "output_type": "execute_result"
    }
   ],
   "source": [
    "# 取第 1 张图片的第 2 行\n",
    "x[0][1]"
   ]
  },
  {
   "cell_type": "code",
   "execution_count": 61,
   "metadata": {},
   "outputs": [
    {
     "data": {
      "text/plain": [
       "<tf.Tensor: shape=(3,), dtype=float32, numpy=array([-0.42436305, -1.8920491 ,  1.9671875 ], dtype=float32)>"
      ]
     },
     "execution_count": 61,
     "metadata": {},
     "output_type": "execute_result"
    }
   ],
   "source": [
    "# 取第 1 张图片，第 2 行，第 3 列的数据\n",
    "x[0][1][2]"
   ]
  },
  {
   "cell_type": "code",
   "execution_count": 62,
   "metadata": {},
   "outputs": [
    {
     "data": {
      "text/plain": [
       "<tf.Tensor: shape=(), dtype=float32, numpy=0.6706184>"
      ]
     },
     "execution_count": 62,
     "metadata": {},
     "output_type": "execute_result"
    }
   ],
   "source": [
    "# 取第 3 张图片，第 2 行，第 1 列的像素， B 通道(第 2 个通道)颜色强度值\n",
    "x[2][1][0][1]"
   ]
  },
  {
   "cell_type": "code",
   "execution_count": 63,
   "metadata": {},
   "outputs": [
    {
     "data": {
      "text/plain": [
       "<tf.Tensor: shape=(3,), dtype=float32, numpy=array([0.10191809, 1.3791635 , 0.06647474], dtype=float32)>"
      ]
     },
     "execution_count": 63,
     "metadata": {},
     "output_type": "execute_result"
    }
   ],
   "source": [
    "# 取第 2 张图片，第 10 行，第 3 列的数据\n",
    "x[1,9,2]"
   ]
  },
  {
   "cell_type": "markdown",
   "metadata": {},
   "source": [
    "### 切片"
   ]
  },
  {
   "cell_type": "code",
   "execution_count": 64,
   "metadata": {
    "scrolled": true
   },
   "outputs": [
    {
     "data": {
      "text/plain": [
       "<tf.Tensor: shape=(2, 32, 32, 3), dtype=float32, numpy=\n",
       "array([[[[ 1.6741270e+00, -5.7527298e-01,  1.6495043e-01],\n",
       "         [-3.7657741e-01,  7.2483367e-01, -8.5025537e-01],\n",
       "         [ 2.0016260e+00,  2.0015779e+00, -1.2772887e+00],\n",
       "         ...,\n",
       "         [-7.8604048e-01,  2.5375748e-01,  2.7030128e-01],\n",
       "         [ 3.0131266e-01, -1.0002141e+00, -2.2603220e-01],\n",
       "         [-3.1529716e-01, -1.3276199e+00, -1.2411907e+00]],\n",
       "\n",
       "        [[-6.3182062e-01,  4.2279711e-01,  1.4948167e+00],\n",
       "         [-2.3454182e+00, -4.6802530e-01,  2.3029145e-02],\n",
       "         [ 2.8627288e-01,  2.3491980e-01,  1.5992329e-01],\n",
       "         ...,\n",
       "         [ 1.8941858e-01,  1.4146873e+00, -3.5354163e-02],\n",
       "         [ 1.3018798e+00, -1.0040305e+00, -6.4206243e-01],\n",
       "         [ 2.6368988e-01,  9.1697156e-01,  1.9523838e-01]],\n",
       "\n",
       "        [[ 4.4351327e-01,  2.4326675e-01,  5.1995605e-01],\n",
       "         [-4.3405473e-01,  2.2621698e+00, -1.1509615e-01],\n",
       "         [ 2.0542336e-01, -1.1978177e+00,  2.3717134e-01],\n",
       "         ...,\n",
       "         [-6.2229980e-02,  1.3869562e+00,  1.1622152e+00],\n",
       "         [ 9.3019895e-02,  1.1185763e+00,  1.3391113e+00],\n",
       "         [ 2.2213581e-01, -1.0569091e+00,  6.3004637e-01]],\n",
       "\n",
       "        ...,\n",
       "\n",
       "        [[-1.8904456e+00, -1.0567596e-01,  9.5419145e-01],\n",
       "         [-1.8388271e+00, -3.1573814e-01, -2.1789150e-01],\n",
       "         [ 4.9042779e-01, -4.6310252e-01, -9.6604067e-01],\n",
       "         ...,\n",
       "         [-1.9405535e+00,  7.5974220e-01,  7.2949490e-04],\n",
       "         [ 4.5775196e-01,  1.5869949e+00,  6.2657639e-02],\n",
       "         [ 3.1852469e-01, -1.2010049e+00,  5.8678305e-01]],\n",
       "\n",
       "        [[ 4.2509621e-01,  5.8327347e-01, -8.4559613e-01],\n",
       "         [ 3.2509232e+00,  8.9132470e-01,  2.0585432e+00],\n",
       "         [ 8.8426363e-01,  1.0619280e+00, -5.0891709e-01],\n",
       "         ...,\n",
       "         [ 4.8000646e-01,  1.1481626e+00,  3.0884111e-01],\n",
       "         [-3.5218322e-03, -1.0530811e-01, -5.5654222e-01],\n",
       "         [-2.2430633e-01,  1.8804312e+00, -3.6694184e-01]],\n",
       "\n",
       "        [[-8.2472187e-01, -4.8590828e-02, -6.5254170e-01],\n",
       "         [-4.5302647e-01, -1.1908484e+00, -1.1190449e+00],\n",
       "         [ 2.8363344e-01, -9.2548635e-03, -2.3871708e+00],\n",
       "         ...,\n",
       "         [-1.2895195e+00,  1.4368614e+00,  2.5915301e-01],\n",
       "         [-1.2028180e+00,  1.1304182e+00,  1.6069180e+00],\n",
       "         [-7.7245736e-01,  4.9793541e-01,  8.6354196e-01]]],\n",
       "\n",
       "\n",
       "       [[[ 1.0609952e+00, -7.7676415e-01, -3.6970386e-01],\n",
       "         [ 8.7656850e-01,  6.1139768e-01,  2.1875384e-01],\n",
       "         [-7.0460725e-01, -7.9347736e-01, -3.7901822e-01],\n",
       "         ...,\n",
       "         [-1.3471639e-02, -2.5424826e-01, -1.7173471e-01],\n",
       "         [-5.9015036e-01, -5.3886217e-01,  3.9203969e-01],\n",
       "         [-4.7675785e-01, -3.3036113e-01,  5.3752440e-01]],\n",
       "\n",
       "        [[-1.5375264e+00,  6.7061841e-01, -1.4098004e-01],\n",
       "         [ 9.5971423e-01, -2.1974051e-01, -1.0263911e+00],\n",
       "         [ 5.9880054e-01,  4.4668049e-02, -5.9093070e-01],\n",
       "         ...,\n",
       "         [ 3.6978951e-01, -2.2801857e-01,  2.2798641e-02],\n",
       "         [-4.7826469e-02,  1.9453692e+00, -4.1502374e-01],\n",
       "         [-1.1149412e+00,  7.8537512e-01, -1.7768772e+00]],\n",
       "\n",
       "        [[ 3.4292734e-01,  1.3107197e+00, -6.9205171e-01],\n",
       "         [-1.3162544e-01, -2.1561072e+00, -2.3779778e+00],\n",
       "         [ 1.3860373e-01,  1.0099201e+00,  1.7550053e-01],\n",
       "         ...,\n",
       "         [ 7.6416588e-01,  1.2844554e+00,  1.3397994e+00],\n",
       "         [ 1.6035073e+00, -3.5152423e-01,  3.2467121e-01],\n",
       "         [ 1.5732963e-01,  1.3469560e-01, -2.7578717e-01]],\n",
       "\n",
       "        ...,\n",
       "\n",
       "        [[-3.4240684e-01, -2.6645562e-01, -4.2686877e-01],\n",
       "         [ 2.6711133e-01,  1.7145859e+00, -1.1213259e+00],\n",
       "         [-9.1642126e-02, -3.3577439e-01, -2.3592451e+00],\n",
       "         ...,\n",
       "         [-2.2900380e-01,  1.0380669e+00, -1.1987166e+00],\n",
       "         [ 5.9201670e-01,  8.8095576e-01,  2.0120223e+00],\n",
       "         [-8.0635005e-01,  1.0617309e+00,  4.6366489e-01]],\n",
       "\n",
       "        [[-1.0720926e-01, -8.4260419e-02,  1.3405147e+00],\n",
       "         [ 1.6640444e+00, -1.1701443e+00,  2.5343540e+00],\n",
       "         [ 3.9343360e-01, -9.8746103e-01, -2.0801501e-01],\n",
       "         ...,\n",
       "         [-7.1512800e-01,  2.7803078e+00, -6.3082367e-01],\n",
       "         [-4.3485209e-01,  1.5346404e+00, -2.0635421e+00],\n",
       "         [-2.5354442e-01, -4.7096244e-01, -7.7851677e-01]],\n",
       "\n",
       "        [[-2.9919576e-02, -4.9600804e-01,  2.4871881e+00],\n",
       "         [ 1.7136210e+00,  4.9006715e-02,  8.8018548e-01],\n",
       "         [ 1.1596403e-01, -6.6671032e-01,  2.1492128e-01],\n",
       "         ...,\n",
       "         [ 2.0782635e+00, -7.7250582e-01, -8.8478559e-01],\n",
       "         [-5.0671053e-01, -6.8331093e-02, -1.1522820e+00],\n",
       "         [ 9.1318482e-01,  7.6325452e-01,  8.2668148e-02]]]],\n",
       "      dtype=float32)>"
      ]
     },
     "execution_count": 64,
     "metadata": {},
     "output_type": "execute_result"
    }
   ],
   "source": [
    "# 读取第 2,3 张图片\n",
    "x[1:3]"
   ]
  },
  {
   "cell_type": "code",
   "execution_count": 65,
   "metadata": {
    "scrolled": true
   },
   "outputs": [
    {
     "data": {
      "text/plain": [
       "<tf.Tensor: shape=(32, 32, 3), dtype=float32, numpy=\n",
       "array([[[ 0.56132954,  1.0240716 , -0.695265  ],\n",
       "        [ 0.30553484, -0.9748528 , -0.3334454 ],\n",
       "        [-2.0479376 , -0.91174793, -0.45997626],\n",
       "        ...,\n",
       "        [-0.5992921 , -0.4015634 , -0.48222786],\n",
       "        [-0.3929014 , -1.6305777 , -0.8734571 ],\n",
       "        [ 0.34042674,  1.1267968 ,  0.41962907]],\n",
       "\n",
       "       [[-0.80559283,  0.4040911 , -0.84643364],\n",
       "        [ 1.2207829 ,  0.5733357 ,  0.27591863],\n",
       "        [-0.42436305, -1.8920491 ,  1.9671875 ],\n",
       "        ...,\n",
       "        [ 0.78289473,  0.6905323 , -0.43980932],\n",
       "        [ 0.5259124 ,  0.74883085,  0.45092174],\n",
       "        [-1.0944672 , -1.0788081 ,  0.6706025 ]],\n",
       "\n",
       "       [[ 1.4613035 ,  0.13465251,  1.8708674 ],\n",
       "        [-1.2515901 , -1.2327672 , -0.73722744],\n",
       "        [ 1.1814649 , -0.20128182, -0.50636333],\n",
       "        ...,\n",
       "        [-1.6747677 ,  0.64008003,  0.36425805],\n",
       "        [-1.4294685 ,  0.75576574, -0.6863536 ],\n",
       "        [-0.72690636, -0.29798338,  0.8318101 ]],\n",
       "\n",
       "       ...,\n",
       "\n",
       "       [[ 0.43002963,  1.1428841 ,  0.7827187 ],\n",
       "        [-0.06482813, -0.77266747, -1.4249599 ],\n",
       "        [-1.158697  , -1.6275252 , -0.6516665 ],\n",
       "        ...,\n",
       "        [-1.2731057 , -1.8456956 ,  1.0740007 ],\n",
       "        [-1.3087794 , -0.5843872 , -0.53248286],\n",
       "        [ 0.32072553,  2.5007434 ,  1.1839352 ]],\n",
       "\n",
       "       [[ 0.4722067 ,  0.71284705, -0.23398215],\n",
       "        [-3.3269308 ,  0.07699855,  0.8059961 ],\n",
       "        [ 0.21768934,  2.1603928 ,  0.69448274],\n",
       "        ...,\n",
       "        [-1.2731514 , -0.23556468,  0.5412656 ],\n",
       "        [ 0.31555557, -0.08451528,  0.855468  ],\n",
       "        [ 0.5180218 ,  0.30611563,  1.7856265 ]],\n",
       "\n",
       "       [[-0.06641077,  0.6701414 ,  1.708203  ],\n",
       "        [ 1.0045624 ,  0.48866737, -0.44568092],\n",
       "        [ 0.0157121 ,  1.4344662 , -0.21048911],\n",
       "        ...,\n",
       "        [ 0.79773647,  1.1427248 ,  0.77908015],\n",
       "        [ 0.50095254, -0.9969487 ,  1.4788735 ],\n",
       "        [-0.44358414,  0.03561971, -1.0386966 ]]], dtype=float32)>"
      ]
     },
     "execution_count": 65,
     "metadata": {},
     "output_type": "execute_result"
    }
   ],
   "source": [
    "# 读取第一张图片\n",
    "x[0,::] "
   ]
  },
  {
   "cell_type": "code",
   "execution_count": 66,
   "metadata": {},
   "outputs": [
    {
     "data": {
      "text/plain": [
       "<tf.Tensor: shape=(4, 14, 14, 3), dtype=float32, numpy=\n",
       "array([[[[ 0.56132954,  1.0240716 , -0.695265  ],\n",
       "         [-2.0479376 , -0.91174793, -0.45997626],\n",
       "         [-0.47912043, -0.40068835,  0.67203045],\n",
       "         ...,\n",
       "         [-1.2807636 , -0.3384167 ,  2.157176  ],\n",
       "         [ 0.10868204,  0.3552552 , -0.5827466 ],\n",
       "         [-0.07533111, -0.8372107 ,  0.30599824]],\n",
       "\n",
       "        [[ 1.4613035 ,  0.13465251,  1.8708674 ],\n",
       "         [ 1.1814649 , -0.20128182, -0.50636333],\n",
       "         [ 1.0807685 , -0.70296943, -0.08981103],\n",
       "         ...,\n",
       "         [-0.5888172 ,  0.508318  , -1.682396  ],\n",
       "         [ 2.311887  , -0.46670192,  1.5736936 ],\n",
       "         [-2.2390554 ,  0.6785103 ,  0.09167726]],\n",
       "\n",
       "        [[-0.01689445,  0.24428028,  1.398478  ],\n",
       "         [ 2.0079107 ,  1.6125416 , -1.2239937 ],\n",
       "         [ 0.93338406,  1.1310692 ,  0.93183786],\n",
       "         ...,\n",
       "         [-0.33533534, -0.16484046,  1.0545899 ],\n",
       "         [ 0.1928536 ,  0.55326027,  0.3039886 ],\n",
       "         [-0.6081011 , -0.2990299 , -1.2675229 ]],\n",
       "\n",
       "        ...,\n",
       "\n",
       "        [[ 1.1736498 ,  0.56311643,  0.3153134 ],\n",
       "         [ 0.6021683 ,  0.20618449,  0.5418139 ],\n",
       "         [-0.9768517 , -0.6603453 ,  1.4827902 ],\n",
       "         ...,\n",
       "         [-0.32921082,  0.7736842 , -1.182438  ],\n",
       "         [-1.5372564 ,  0.6874429 ,  1.3937428 ],\n",
       "         [-1.3851658 ,  1.309051  ,  0.3594862 ]],\n",
       "\n",
       "        [[ 0.73956466, -0.2516214 , -1.6993846 ],\n",
       "         [ 2.3294413 ,  0.01308789, -0.6721442 ],\n",
       "         [-0.6572274 , -0.67579365, -1.8297601 ],\n",
       "         ...,\n",
       "         [-0.81868315, -0.14102295, -1.2044189 ],\n",
       "         [ 1.73087   , -1.4880415 ,  0.28682253],\n",
       "         [ 0.68408453, -2.0999904 ,  0.44342127]],\n",
       "\n",
       "        [[-1.182244  ,  0.18000294,  0.23499702],\n",
       "         [-0.5635702 ,  0.90751356,  2.5266616 ],\n",
       "         [-2.866983  ,  1.3237705 , -0.7900234 ],\n",
       "         ...,\n",
       "         [-0.35692626,  1.897423  , -0.22940284],\n",
       "         [-0.23857954, -0.09197738, -0.4576326 ],\n",
       "         [ 0.22408167, -0.6325161 , -0.315586  ]]],\n",
       "\n",
       "\n",
       "       [[[ 1.674127  , -0.575273  ,  0.16495043],\n",
       "         [ 2.001626  ,  2.0015779 , -1.2772887 ],\n",
       "         [ 1.1559117 , -0.06782692,  0.6230923 ],\n",
       "         ...,\n",
       "         [ 0.6217495 ,  0.5645923 ,  0.8005407 ],\n",
       "         [ 1.320833  , -1.1537782 , -2.2467034 ],\n",
       "         [ 0.53910244,  0.6816439 , -0.7819244 ]],\n",
       "\n",
       "        [[ 0.44351327,  0.24326675,  0.51995605],\n",
       "         [ 0.20542336, -1.1978177 ,  0.23717134],\n",
       "         [ 0.9245411 ,  0.6314173 , -0.3460611 ],\n",
       "         ...,\n",
       "         [ 0.55946326,  0.9149877 ,  0.22477406],\n",
       "         [-0.313965  , -0.68405765, -0.80445385],\n",
       "         [ 2.3964226 , -1.6320369 , -0.5277531 ]],\n",
       "\n",
       "        [[-1.3797445 ,  0.16422299, -0.5998962 ],\n",
       "         [ 0.49930787, -1.5134779 ,  1.4318646 ],\n",
       "         [-1.1358533 ,  0.1297245 , -1.4741535 ],\n",
       "         ...,\n",
       "         [ 0.8367642 ,  1.1089065 ,  0.57756555],\n",
       "         [ 0.56130224, -0.1074309 ,  0.71495324],\n",
       "         [ 0.7811912 ,  0.46821916, -0.41179624]],\n",
       "\n",
       "        ...,\n",
       "\n",
       "        [[-0.19082075,  0.2918007 , -1.1503073 ],\n",
       "         [ 0.0419281 ,  0.08242869,  1.0517421 ],\n",
       "         [ 0.8392632 ,  0.90565246,  0.6251172 ],\n",
       "         ...,\n",
       "         [-1.833467  ,  1.1194887 ,  0.73006094],\n",
       "         [-1.8371435 ,  1.0209029 , -0.5107277 ],\n",
       "         [ 0.5800686 , -1.0995251 , -0.26896724]],\n",
       "\n",
       "        [[ 0.47493687,  0.72542983, -1.0912064 ],\n",
       "         [ 0.57739997,  1.2782453 ,  0.4075914 ],\n",
       "         [ 0.04961043,  0.7993022 ,  0.33530274],\n",
       "         ...,\n",
       "         [ 1.3348874 , -0.9574087 , -1.1770828 ],\n",
       "         [ 0.05749137,  0.07932456,  1.2364854 ],\n",
       "         [ 0.6530047 ,  0.24109277, -1.2341678 ]],\n",
       "\n",
       "        [[ 0.7219859 , -1.4454535 ,  1.2156054 ],\n",
       "         [ 0.75005084, -0.18351172,  0.772286  ],\n",
       "         [-0.18821226,  0.35322052,  0.66544914],\n",
       "         ...,\n",
       "         [ 0.22511135, -1.5072013 , -0.903516  ],\n",
       "         [ 0.68552077, -1.467788  , -0.02390587],\n",
       "         [ 0.21572974, -0.6738436 , -0.24786544]]],\n",
       "\n",
       "\n",
       "       [[[ 1.0609952 , -0.77676415, -0.36970386],\n",
       "         [-0.70460725, -0.79347736, -0.37901822],\n",
       "         [-0.22575028,  0.44949362, -0.21946661],\n",
       "         ...,\n",
       "         [ 1.4252468 ,  0.37752032,  0.508831  ],\n",
       "         [ 0.868659  ,  0.00929796,  0.6338609 ],\n",
       "         [-0.83862656, -0.66316974,  1.1218978 ]],\n",
       "\n",
       "        [[ 0.34292734,  1.3107197 , -0.6920517 ],\n",
       "         [ 0.13860373,  1.0099201 ,  0.17550053],\n",
       "         [ 0.3315247 , -0.35811484,  0.4012743 ],\n",
       "         ...,\n",
       "         [ 1.537117  ,  1.2721939 , -0.5817176 ],\n",
       "         [ 0.10353286, -0.16014537,  1.7521563 ],\n",
       "         [ 2.04475   ,  0.06267507,  0.37484592]],\n",
       "\n",
       "        [[ 0.32959303,  0.46893826, -1.1795031 ],\n",
       "         [ 1.8291564 ,  1.7650688 ,  0.61094975],\n",
       "         [-0.5218066 , -0.19547355,  0.890587  ],\n",
       "         ...,\n",
       "         [ 0.7837581 , -1.2279363 , -1.0991173 ],\n",
       "         [-0.629227  , -0.12806568,  1.5054468 ],\n",
       "         [ 1.305832  , -0.46996012, -1.2002945 ]],\n",
       "\n",
       "        ...,\n",
       "\n",
       "        [[-0.54866385,  0.16767286,  0.45412105],\n",
       "         [ 0.25335258,  0.5984644 ,  2.3743434 ],\n",
       "         [-1.4081221 ,  0.50030977, -0.5581119 ],\n",
       "         ...,\n",
       "         [ 0.2385777 ,  0.40931997,  1.6062568 ],\n",
       "         [ 1.3498341 ,  0.03755782, -1.8452868 ],\n",
       "         [-0.04854882,  0.14479515, -0.52132034]],\n",
       "\n",
       "        [[-0.98203987, -1.0801209 ,  0.5716683 ],\n",
       "         [ 0.19285874, -1.2819891 ,  0.5527008 ],\n",
       "         [ 1.2280102 , -1.5728672 ,  0.6099608 ],\n",
       "         ...,\n",
       "         [-2.8417335 , -0.3994201 , -0.45674407],\n",
       "         [ 2.180982  , -0.41239676,  0.4391009 ],\n",
       "         [-0.1576606 , -0.8633423 , -1.2139633 ]],\n",
       "\n",
       "        [[ 2.0722435 , -0.05197957,  1.9729946 ],\n",
       "         [ 0.51635283, -0.32298926, -1.9586675 ],\n",
       "         [ 2.1455488 ,  1.1499953 ,  1.1869873 ],\n",
       "         ...,\n",
       "         [ 0.6186658 , -0.29250732, -0.03412035],\n",
       "         [ 0.44933078,  0.27145067, -1.2497674 ],\n",
       "         [-0.10171667,  0.02199609, -0.06414644]]],\n",
       "\n",
       "\n",
       "       [[[ 1.2276919 , -0.90867555, -0.13163465],\n",
       "         [-0.04992985, -0.15640798,  0.33357736],\n",
       "         [-0.13356434, -0.3577483 ,  0.06279109],\n",
       "         ...,\n",
       "         [ 0.25485238,  1.674018  ,  0.25857085],\n",
       "         [-0.19662344,  0.37106562, -0.40408337],\n",
       "         [ 0.03070546,  0.7802369 ,  0.17925191]],\n",
       "\n",
       "        [[-2.1793935 , -1.0645885 ,  0.9680888 ],\n",
       "         [-0.98492587,  1.6150299 , -0.28714764],\n",
       "         [ 0.14561966,  0.3700772 ,  0.49475986],\n",
       "         ...,\n",
       "         [ 0.18327361,  0.03377656, -1.2531816 ],\n",
       "         [ 1.0730128 ,  0.26673272, -1.0988835 ],\n",
       "         [-0.17029954,  0.21765718,  0.48736402]],\n",
       "\n",
       "        [[ 0.5394887 ,  1.0412549 ,  1.5253593 ],\n",
       "         [-0.25797498, -1.4359443 ,  2.0237195 ],\n",
       "         [ 0.6499911 , -0.40506235, -0.44134632],\n",
       "         ...,\n",
       "         [ 1.4073435 , -0.41092208, -0.45775217],\n",
       "         [-0.4426461 , -0.8031823 , -1.3575352 ],\n",
       "         [ 0.68597776,  0.13268557, -0.70593554]],\n",
       "\n",
       "        ...,\n",
       "\n",
       "        [[-1.2737291 ,  0.22897972, -1.3150166 ],\n",
       "         [-1.3652995 ,  1.4326146 ,  0.8319819 ],\n",
       "         [ 1.0773432 ,  0.8362808 ,  1.3232849 ],\n",
       "         ...,\n",
       "         [ 0.59121555, -0.24438281, -0.54194933],\n",
       "         [ 0.5538343 , -0.95189774, -0.18702956],\n",
       "         [-0.04487731,  0.73530316, -0.02529764]],\n",
       "\n",
       "        [[ 0.08209975,  0.73199916,  0.04814777],\n",
       "         [-1.3473479 ,  2.088917  ,  0.7885463 ],\n",
       "         [-0.45146555, -2.0674293 ,  1.1146023 ],\n",
       "         ...,\n",
       "         [-0.05463625, -1.7799639 , -0.6723281 ],\n",
       "         [ 0.7618963 , -1.1188664 ,  0.7234548 ],\n",
       "         [ 0.9493255 , -2.2612545 ,  1.9642838 ]],\n",
       "\n",
       "        [[ 1.7398442 , -0.16422425,  2.085335  ],\n",
       "         [-0.6465454 , -0.30071917, -0.0398914 ],\n",
       "         [ 0.978092  ,  0.49391973, -0.9805671 ],\n",
       "         ...,\n",
       "         [-0.18289745, -0.8252725 , -0.8174844 ],\n",
       "         [ 0.07415466,  0.86251915,  2.1445386 ],\n",
       "         [ 0.95054173, -0.85907835,  0.7666155 ]]]], dtype=float32)>"
      ]
     },
     "execution_count": 66,
     "metadata": {},
     "output_type": "execute_result"
    }
   ],
   "source": [
    "x[:,0:28:2,0:28:2,:]"
   ]
  },
  {
   "cell_type": "code",
   "execution_count": 67,
   "metadata": {},
   "outputs": [
    {
     "data": {
      "text/plain": [
       "<tf.Tensor: shape=(8,), dtype=int32, numpy=array([8, 7, 6, 5, 4, 3, 2, 1])>"
      ]
     },
     "execution_count": 67,
     "metadata": {},
     "output_type": "execute_result"
    }
   ],
   "source": [
    "# 考虑一个 0~9 的简单序列向量， 逆序取到第 1 号元素，不包含第 1 号\n",
    "# 创建 0~9 向量\n",
    "x = tf.range(9) \n",
    "# 从 8 取到 0，逆序，不包含 0\n",
    "x[8:0:-1] "
   ]
  },
  {
   "cell_type": "code",
   "execution_count": 68,
   "metadata": {},
   "outputs": [
    {
     "data": {
      "text/plain": [
       "<tf.Tensor: shape=(9,), dtype=int32, numpy=array([8, 7, 6, 5, 4, 3, 2, 1, 0])>"
      ]
     },
     "execution_count": 68,
     "metadata": {},
     "output_type": "execute_result"
    }
   ],
   "source": [
    "# 逆序全部元素\n",
    "x[::-1] "
   ]
  },
  {
   "cell_type": "code",
   "execution_count": 69,
   "metadata": {},
   "outputs": [
    {
     "data": {
      "text/plain": [
       "<tf.Tensor: shape=(5,), dtype=int32, numpy=array([8, 6, 4, 2, 0])>"
      ]
     },
     "execution_count": 69,
     "metadata": {},
     "output_type": "execute_result"
    }
   ],
   "source": [
    "# 逆序间隔采样\n",
    "x[::-2] "
   ]
  },
  {
   "cell_type": "markdown",
   "metadata": {},
   "source": [
    "读取每张图片的所有通道，其中行按着逆序隔行采样，列按着逆序隔行采样"
   ]
  },
  {
   "cell_type": "code",
   "execution_count": 70,
   "metadata": {},
   "outputs": [
    {
     "data": {
      "text/plain": [
       "<tf.Tensor: shape=(16, 16, 3), dtype=float32, numpy=\n",
       "array([[[ 2.36737058e-01, -2.14821172e+00,  2.35090065e+00],\n",
       "        [-2.98216492e-01,  1.09962976e+00, -5.33090055e-01],\n",
       "        [-5.62160492e-01,  3.45662571e-02, -2.13674402e+00],\n",
       "        [-3.51955444e-01,  2.16031879e-01, -1.47814798e+00],\n",
       "        [ 3.96228909e-01, -9.49557543e-01, -1.03401554e+00],\n",
       "        [ 3.40410438e-03, -1.45476341e+00, -3.34389776e-01],\n",
       "        [-3.93793821e-01,  4.53851640e-01,  6.61554158e-01],\n",
       "        [-1.57868195e+00, -7.66618431e-01,  2.04635143e+00],\n",
       "        [ 2.28901625e+00, -1.58218086e+00, -2.47457087e-01],\n",
       "        [ 3.90340537e-01, -6.00661278e-01, -1.06475365e+00],\n",
       "        [ 2.46542946e-01, -3.41126651e-01,  1.03897929e+00],\n",
       "        [ 1.83093226e+00, -2.25892410e-01,  9.83753800e-01],\n",
       "        [ 8.73290777e-01,  9.53373194e-01,  1.25863373e+00],\n",
       "        [ 2.28961587e+00,  6.36347115e-01, -1.04803884e+00],\n",
       "        [ 8.48179936e-01, -2.01501995e-01,  4.20074522e-01],\n",
       "        [-1.82771933e+00,  2.10180413e-03, -3.46294701e-01]],\n",
       "\n",
       "       [[-1.27933931e+00,  9.21691716e-01,  1.34464455e+00],\n",
       "        [-3.30718279e-01,  3.12717944e-01, -9.07131016e-01],\n",
       "        [-6.92494452e-01,  2.34246150e-01, -8.14049959e-01],\n",
       "        [-1.00436378e+00,  3.97320509e-01, -7.25632489e-01],\n",
       "        [ 2.57636023e+00,  4.61353481e-01, -5.12472153e-01],\n",
       "        [-3.79448235e-02, -1.19437885e+00, -8.35518092e-02],\n",
       "        [ 1.67420602e+00, -1.94532603e-01, -1.28745645e-01],\n",
       "        [ 4.12789136e-01,  1.28700006e+00, -9.17050183e-01],\n",
       "        [ 1.03822276e-01,  7.73959816e-01,  7.77430773e-01],\n",
       "        [ 6.19383335e-01, -6.49297893e-01,  2.80563354e-01],\n",
       "        [ 9.43535447e-01, -4.27154541e-01,  1.41415203e+00],\n",
       "        [-1.74984336e-01, -2.02702117e+00, -1.42866921e+00],\n",
       "        [ 4.69683677e-01,  8.92835706e-02,  3.90119582e-01],\n",
       "        [ 1.05632854e+00,  1.97833097e+00,  1.35371417e-01],\n",
       "        [-4.45568599e-02,  1.53215718e+00,  2.72275746e-01],\n",
       "        [-1.63488770e+00,  8.95012617e-01, -1.34322178e+00]],\n",
       "\n",
       "       [[-1.99935332e-01, -2.01963782e-01, -8.37760806e-01],\n",
       "        [ 7.63345480e-01, -9.30693865e-01,  8.66869509e-01],\n",
       "        [ 5.09520590e-01, -1.23386574e+00, -1.18349206e+00],\n",
       "        [ 9.84201133e-01,  5.72181605e-02, -9.24832702e-01],\n",
       "        [-3.51973087e-01, -7.74034798e-01, -1.05114627e+00],\n",
       "        [-2.31384844e-01,  4.34382223e-02,  5.54209590e-01],\n",
       "        [-3.90320607e-02, -1.17777318e-01,  5.65407693e-01],\n",
       "        [ 3.55386227e-01, -2.73932278e-01, -1.42357528e+00],\n",
       "        [ 8.20794523e-01,  1.32191396e+00, -5.33014596e-01],\n",
       "        [ 4.58289981e-01,  1.46747574e-01,  4.21777457e-01],\n",
       "        [ 1.17310882e+00, -1.85940039e+00,  4.81432736e-01],\n",
       "        [-3.24838310e-01,  9.00726676e-01, -4.38362151e-01],\n",
       "        [ 2.29565573e+00,  1.90407658e+00,  4.32749212e-01],\n",
       "        [-7.23343968e-01, -8.18362981e-02,  1.14113677e+00],\n",
       "        [ 5.09613872e-01, -2.06212938e-01,  7.07317889e-01],\n",
       "        [ 2.33775631e-01,  5.52311003e-01,  1.79321134e+00]],\n",
       "\n",
       "       [[ 8.31410229e-01, -1.17619836e+00, -6.36085689e-01],\n",
       "        [ 6.14832789e-02,  2.54314303e-01,  1.24279547e+00],\n",
       "        [ 1.26781750e+00,  1.34137058e+00, -1.59089327e-01],\n",
       "        [ 3.26058805e-01, -1.10785949e+00,  1.34719765e+00],\n",
       "        [-7.06891119e-01, -3.13964874e-01,  1.66382551e+00],\n",
       "        [-1.12720028e-01, -8.36913466e-01, -1.15134823e+00],\n",
       "        [ 1.65902162e+00, -6.90304160e-01,  1.24997258e+00],\n",
       "        [-6.41482890e-01, -1.78981972e+00, -2.68542886e-01],\n",
       "        [-2.36916408e-01,  1.34689486e+00,  7.60505348e-02],\n",
       "        [-1.72974691e-01,  4.03983369e-02, -1.03500164e+00],\n",
       "        [-7.63002098e-01,  6.49141848e-01,  8.88230681e-01],\n",
       "        [-8.76022518e-01, -1.02626532e-01, -9.09540355e-01],\n",
       "        [-7.21504033e-01,  6.88852549e-01, -1.69982827e+00],\n",
       "        [-2.19918236e-01,  9.04694855e-01, -7.69650459e-01],\n",
       "        [ 1.21694160e+00,  3.55550736e-01, -1.23053297e-01],\n",
       "        [ 6.81820631e-01, -5.03898084e-01, -3.84927452e-01]],\n",
       "\n",
       "       [[ 2.31886998e-01,  6.59344435e-01, -6.84197485e-01],\n",
       "        [ 1.15264785e+00,  1.85879326e+00, -4.54949737e-01],\n",
       "        [-2.51993990e+00, -2.10653257e+00,  4.38335203e-02],\n",
       "        [-1.40392101e+00, -5.22024155e-01, -7.79786706e-01],\n",
       "        [-1.46944070e+00,  2.57995158e-01, -8.18447709e-01],\n",
       "        [-5.29976428e-01,  1.03460991e+00,  2.47158155e-01],\n",
       "        [-6.95109367e-02,  3.01770985e-01,  6.59057915e-01],\n",
       "        [-4.75691825e-01, -1.62900269e+00, -3.58915716e-01],\n",
       "        [ 8.48824620e-01, -1.52906954e+00,  4.94879872e-01],\n",
       "        [-4.61400747e-01, -4.98297900e-01,  2.61421591e-01],\n",
       "        [-7.94304848e-01, -7.64158845e-01, -1.83468789e-01],\n",
       "        [ 1.73099291e+00,  1.68720216e-01,  1.18252897e+00],\n",
       "        [-1.08739054e+00, -2.55106163e+00,  8.43100846e-01],\n",
       "        [ 5.99447787e-01,  1.25151491e+00, -4.98121142e-01],\n",
       "        [-1.05754995e+00,  9.39967409e-02, -1.11564052e+00],\n",
       "        [ 1.27492404e+00, -6.17349744e-01, -4.81864959e-01]],\n",
       "\n",
       "       [[-8.19733441e-01,  4.77677315e-01, -9.87888098e-01],\n",
       "        [ 1.01272058e+00,  3.37628365e-01,  2.96626896e-01],\n",
       "        [-9.71114576e-01,  1.85732692e-01, -7.93439686e-01],\n",
       "        [-1.16529608e+00, -1.86853692e-01, -5.11402607e-01],\n",
       "        [-2.05839947e-01,  1.75762975e+00,  5.31955242e-01],\n",
       "        [-8.21515203e-01, -1.43328145e-01, -8.88292134e-01],\n",
       "        [ 1.09413660e+00,  2.84636199e-01,  7.20091343e-01],\n",
       "        [-1.38119555e+00, -8.82119954e-01,  6.23302341e-01],\n",
       "        [-2.61318833e-01,  1.47919357e+00, -1.37872234e-01],\n",
       "        [-3.48648846e-01,  8.65897536e-01,  2.06212848e-01],\n",
       "        [ 4.01684284e-01,  9.02829885e-01, -9.49938655e-01],\n",
       "        [ 4.61838871e-01, -2.63174534e-01, -4.62201536e-01],\n",
       "        [ 1.07149684e+00, -1.39123380e-01, -9.87316146e-02],\n",
       "        [ 1.72836637e+00,  1.27707911e+00, -4.83028293e-01],\n",
       "        [-6.45385906e-02, -4.23911422e-01,  4.02776450e-02],\n",
       "        [ 1.82168528e-01, -1.75705366e-02,  6.86563253e-01]],\n",
       "\n",
       "       [[ 8.21781278e-01,  1.18567741e+00, -1.90871382e+00],\n",
       "        [ 1.69332933e+00, -8.50591421e-01, -2.50770879e+00],\n",
       "        [ 1.55649054e+00, -4.08147037e-01, -1.11377561e+00],\n",
       "        [ 7.32615709e-01, -1.45190728e+00,  1.17295635e+00],\n",
       "        [-4.63816226e-01,  2.32974857e-01, -5.71635842e-01],\n",
       "        [ 1.96207929e+00,  9.47285771e-01,  1.18919837e+00],\n",
       "        [ 1.17550090e-01,  4.51610059e-01, -1.67158294e+00],\n",
       "        [ 1.84488416e+00,  2.70332545e-01, -5.73369086e-01],\n",
       "        [ 1.49767935e+00, -8.34202170e-01, -6.75111353e-01],\n",
       "        [ 1.23451674e+00, -2.68718958e-01,  2.51997530e-01],\n",
       "        [ 7.26979673e-01,  7.20498025e-01,  1.64939690e+00],\n",
       "        [ 4.01309013e-01,  8.65951329e-02, -1.95765305e+00],\n",
       "        [ 1.28580832e+00,  1.16059363e+00, -1.95162332e+00],\n",
       "        [-9.81800437e-01,  1.05300295e+00,  5.39943278e-01],\n",
       "        [ 1.37109712e-01, -3.48031968e-02,  1.65414190e+00],\n",
       "        [-1.17549300e+00, -6.89466953e-01, -8.13704729e-02]],\n",
       "\n",
       "       [[-2.19289035e-01,  1.26048529e+00,  6.01787388e-01],\n",
       "        [-2.59011889e+00,  3.90903838e-02, -1.02183247e+00],\n",
       "        [ 1.33061379e-01,  1.27327120e+00,  5.91594994e-01],\n",
       "        [ 3.56964469e-01, -1.81913459e+00, -5.88152170e-01],\n",
       "        [ 1.15692413e+00,  8.78456295e-01,  1.47605851e-01],\n",
       "        [-2.56104231e+00, -1.60602665e+00,  3.02027643e-01],\n",
       "        [ 8.43409970e-02,  1.00903845e+00, -1.52884573e-02],\n",
       "        [-4.46547329e-01,  2.32194275e-01, -4.83487658e-02],\n",
       "        [ 1.69698513e+00,  5.75239360e-01, -2.21343040e-01],\n",
       "        [ 8.07598293e-01,  5.30439377e-01, -1.02415514e+00],\n",
       "        [-1.16791792e-01,  2.82352298e-01,  1.62079239e+00],\n",
       "        [-5.16187131e-01,  1.35750604e+00,  5.87410443e-02],\n",
       "        [ 1.48129082e+00, -2.52657026e-01, -1.09098804e+00],\n",
       "        [ 3.83941442e-01,  7.68073946e-02,  8.78582895e-01],\n",
       "        [ 1.19427896e+00,  1.24836326e+00, -1.38211954e+00],\n",
       "        [-5.36744714e-01, -1.26931715e+00, -1.67691958e+00]],\n",
       "\n",
       "       [[-1.46345890e+00, -8.32400769e-02, -1.36676729e-01],\n",
       "        [-6.48274779e-01,  1.41681767e+00,  1.44554532e+00],\n",
       "        [ 1.75978336e-02,  1.49486318e-01, -3.36284250e-01],\n",
       "        [ 4.00267214e-01, -2.44159982e-01, -1.68218553e+00],\n",
       "        [ 4.11051512e-01, -2.04056811e+00, -2.96611220e-01],\n",
       "        [ 1.11889791e+00,  7.20780134e-01, -5.84714375e-02],\n",
       "        [ 1.21196322e-01,  1.45650163e-01,  3.79443944e-01],\n",
       "        [ 5.66292465e-01,  5.85597575e-01,  6.31902814e-01],\n",
       "        [ 1.29449666e+00,  1.80860770e+00, -4.33139950e-01],\n",
       "        [ 4.95251596e-01,  6.45627407e-03,  2.05913130e-02],\n",
       "        [ 1.92109291e-02,  9.24892545e-01, -7.15997815e-01],\n",
       "        [-9.61778820e-01,  7.43925646e-02,  2.57300138e-01],\n",
       "        [-1.32259738e+00, -1.62307665e-01,  1.09200545e-01],\n",
       "        [ 9.53463018e-01, -8.61281455e-01,  4.00595039e-01],\n",
       "        [-1.10855699e+00, -8.48021805e-01, -1.05154777e+00],\n",
       "        [ 1.59018016e+00,  1.01412404e+00, -1.60962749e+00]],\n",
       "\n",
       "       [[ 5.13241231e-01,  4.43934023e-01,  1.58365905e+00],\n",
       "        [ 5.22008121e-01,  2.17067599e+00, -1.52467740e+00],\n",
       "        [-3.39514196e-01,  4.38201487e-01,  1.47817600e+00],\n",
       "        [-1.25546563e+00, -1.95361525e-01,  1.99301589e+00],\n",
       "        [-5.49362540e-01,  9.99905765e-02, -1.64441037e+00],\n",
       "        [ 9.38065946e-01,  1.03035510e+00,  2.49916241e-01],\n",
       "        [ 1.42718291e+00,  7.56021500e-01, -7.99904943e-01],\n",
       "        [-4.49428223e-02, -4.32531178e-01,  1.23425663e+00],\n",
       "        [-1.04525304e+00, -4.27248955e-01,  8.32039475e-01],\n",
       "        [-1.75610232e+00,  1.00817621e+00, -1.74481034e+00],\n",
       "        [ 2.73362063e-02, -8.67546916e-01, -1.78669214e-01],\n",
       "        [-8.51432309e-02,  2.61099841e-02, -8.55931044e-01],\n",
       "        [-4.90509599e-01, -6.35114312e-01,  7.38564432e-02],\n",
       "        [ 2.37121984e-01, -8.49419057e-01, -1.31427610e+00],\n",
       "        [ 1.97363389e+00,  7.20361114e-01, -1.02270889e+00],\n",
       "        [-1.16805446e+00, -1.02465534e+00, -1.59044594e-01]],\n",
       "\n",
       "       [[-2.87312996e-02,  1.89791173e-01, -5.70846200e-01],\n",
       "        [-2.09542632e+00,  5.28386652e-01,  5.34863830e-01],\n",
       "        [ 7.89882720e-01, -9.92097437e-01, -1.27918971e+00],\n",
       "        [ 1.26709104e+00,  6.00543082e-01,  8.70946169e-01],\n",
       "        [-2.40157652e+00, -1.93164551e+00,  1.47792077e+00],\n",
       "        [ 4.49222445e-01,  2.46243048e-02, -2.47818366e-01],\n",
       "        [ 1.26893950e+00, -2.61060214e+00, -8.42814505e-01],\n",
       "        [ 6.52236462e-01,  1.10535097e+00,  9.85683978e-01],\n",
       "        [-5.83846308e-02, -1.26524949e+00, -1.11200082e+00],\n",
       "        [ 4.15902942e-01,  1.44169235e+00, -3.20661277e-01],\n",
       "        [ 1.16863564e-01, -6.62905753e-01, -6.42871976e-01],\n",
       "        [-6.98845506e-01,  2.40645200e-01, -4.80871111e-01],\n",
       "        [-1.03328693e+00,  1.12493277e+00,  1.44206905e+00],\n",
       "        [ 1.49410951e+00, -1.73793718e-01,  3.96036625e-01],\n",
       "        [ 5.88095963e-01, -2.41990849e-01, -1.15188241e+00],\n",
       "        [-1.98528695e+00, -1.01965475e+00,  1.34125590e+00]],\n",
       "\n",
       "       [[-3.00077319e-01,  8.11292052e-01, -2.07300529e-01],\n",
       "        [-1.98800534e-01, -1.47525096e+00,  3.95361632e-01],\n",
       "        [ 9.56655324e-01,  7.81165183e-01, -1.10850453e+00],\n",
       "        [-6.83819950e-02,  4.85282511e-01, -9.79614735e-01],\n",
       "        [-1.67171776e+00,  4.66760211e-02,  3.93501103e-01],\n",
       "        [ 3.93033087e-01, -1.08401036e+00,  5.43381944e-02],\n",
       "        [-1.41524374e-01,  2.86769837e-01,  1.66535544e+00],\n",
       "        [ 9.71415758e-01, -2.49581456e-01, -1.86256230e+00],\n",
       "        [-1.20507276e+00, -1.59465861e+00, -5.16514182e-01],\n",
       "        [-9.44611803e-02, -1.30519712e+00,  4.25213873e-01],\n",
       "        [ 4.03065771e-01,  6.89122617e-01, -9.99328434e-01],\n",
       "        [-1.12564765e-01, -3.48765939e-01, -9.30694401e-01],\n",
       "        [-1.94014341e-01, -9.90363598e-01, -8.07878450e-02],\n",
       "        [ 2.38297582e-01,  1.29064965e+00,  3.60276222e-01],\n",
       "        [-1.47899246e+00,  2.40665644e-01,  2.14555097e+00],\n",
       "        [-1.08024669e+00, -2.44012430e-01,  7.73774087e-02]],\n",
       "\n",
       "       [[ 1.14784789e+00,  9.18299139e-01,  3.98768872e-01],\n",
       "        [-1.04146659e-01, -7.37023711e-01,  5.92042267e-01],\n",
       "        [ 1.41496217e+00,  4.04800534e-01, -2.87110418e-01],\n",
       "        [-2.65189075e+00,  2.45941639e+00, -1.62075210e+00],\n",
       "        [-7.42234811e-02,  3.06490958e-01,  9.62849677e-01],\n",
       "        [ 6.29652739e-01, -1.40335709e-01,  9.77399409e-01],\n",
       "        [ 1.37339664e+00,  3.08002502e-01, -1.01421022e+00],\n",
       "        [ 2.14897156e+00, -6.72633111e-01,  2.01901984e+00],\n",
       "        [ 1.41230667e+00, -1.55580866e+00, -4.31244016e-01],\n",
       "        [-7.11266160e-01, -2.33965114e-01,  9.72492039e-01],\n",
       "        [-3.51172179e-01,  2.48600602e-01, -5.07716954e-01],\n",
       "        [-2.70959288e-01,  5.14068594e-03,  5.51498979e-02],\n",
       "        [ 1.79167461e+00, -1.19423628e+00, -4.58701164e-01],\n",
       "        [ 2.73053318e-01, -4.73014951e-01,  1.06886351e+00],\n",
       "        [-2.73087001e+00, -1.42235994e-01,  1.58783638e+00],\n",
       "        [-1.85944784e+00,  1.23755264e+00,  6.18189573e-01]],\n",
       "\n",
       "       [[ 1.09423411e+00,  2.07128406e-01,  1.03237474e+00],\n",
       "        [ 1.15475461e-01, -1.28449038e-01, -9.10741687e-01],\n",
       "        [-4.65529621e-01,  7.32437551e-01,  1.28096366e+00],\n",
       "        [-1.49838436e+00, -1.62921503e-01, -1.17669713e+00],\n",
       "        [-2.42039263e-01,  2.38834333e+00,  1.40208542e-01],\n",
       "        [ 1.33137500e+00,  5.40127568e-02,  1.12188101e+00],\n",
       "        [ 1.05293095e+00, -9.64134932e-01, -5.83461165e-01],\n",
       "        [-7.16841280e-01, -8.82032871e-01,  4.05626863e-01],\n",
       "        [ 1.09385252e+00, -2.51315206e-01,  3.84257287e-01],\n",
       "        [-5.48063278e-01, -2.94469267e-01,  6.52318120e-01],\n",
       "        [-7.55264282e-01, -9.36641634e-01,  1.62506208e-01],\n",
       "        [-9.61791039e-01, -4.96162504e-01,  6.14873409e-01],\n",
       "        [ 9.33168411e-01, -4.78189975e-01, -2.33430296e-01],\n",
       "        [-8.87027144e-01,  4.85263109e-01, -9.70402062e-01],\n",
       "        [ 2.77357548e-01, -1.31521553e-01, -9.21474695e-01],\n",
       "        [-1.06156480e+00, -5.39046407e-01, -7.27768540e-01]],\n",
       "\n",
       "       [[-1.29397857e+00, -2.38471746e+00,  1.02540779e+00],\n",
       "        [-8.41000259e-01, -1.26794600e+00, -5.75555980e-01],\n",
       "        [-1.07841647e+00, -6.71824962e-02, -8.68846595e-01],\n",
       "        [ 1.68299675e+00,  1.14493586e-01, -6.70512140e-01],\n",
       "        [ 1.03077281e+00, -9.12449777e-01,  1.00034380e+00],\n",
       "        [-4.78857756e-01,  1.12968409e+00, -1.01418710e+00],\n",
       "        [-5.45208752e-01, -7.02199489e-02, -3.53304476e-01],\n",
       "        [ 3.67552072e-01,  4.77214485e-01, -4.49137539e-01],\n",
       "        [-1.23130977e+00,  1.12141633e+00, -9.48624074e-01],\n",
       "        [ 1.06130695e+00,  9.08116937e-01,  1.84687543e+00],\n",
       "        [ 1.98551401e-01,  1.01878619e+00, -6.37196243e-01],\n",
       "        [ 3.50134790e-01,  6.43573523e-01,  9.31326210e-01],\n",
       "        [ 1.90697134e+00, -1.25851369e+00,  6.53953135e-01],\n",
       "        [-1.78197861e-01,  3.61446828e-01, -5.24266541e-01],\n",
       "        [ 1.95857584e+00,  1.42654335e+00,  8.94462168e-01],\n",
       "        [-1.72706440e-01,  1.96812880e+00,  1.50973606e+00]],\n",
       "\n",
       "       [[-1.05969198e-01, -2.00877525e-02, -4.74127412e-01],\n",
       "        [ 2.21172750e-01, -8.62191916e-01,  9.57023203e-01],\n",
       "        [ 2.01004535e-01, -1.77286267e+00,  8.41234922e-01],\n",
       "        [-1.51127934e+00,  9.63162899e-01, -1.98251593e+00],\n",
       "        [-1.49571431e+00,  9.46690500e-01,  1.12055624e+00],\n",
       "        [ 1.49074590e+00,  1.99014354e+00, -2.10563451e-01],\n",
       "        [ 1.10679558e-02,  1.72627771e+00, -9.87004042e-02],\n",
       "        [ 1.20711744e+00, -8.70337248e-01, -1.73722833e-01],\n",
       "        [-1.47022474e+00, -1.22536075e+00, -9.11508262e-01],\n",
       "        [ 1.08937848e+00, -1.29669094e+00, -1.25514984e+00],\n",
       "        [-8.60302746e-01,  8.24088454e-01,  3.70564222e-01],\n",
       "        [-5.02443671e-01,  8.79188001e-01,  5.52615076e-02],\n",
       "        [-4.31544393e-01, -2.21132469e+00, -5.77118099e-01],\n",
       "        [-1.12825799e+00,  5.06882846e-01,  1.26965508e-01],\n",
       "        [-1.00921035e+00,  7.63985217e-01,  7.14016438e-01],\n",
       "        [-4.35981423e-01, -1.17459095e+00,  5.79580545e-01]]],\n",
       "      dtype=float32)>"
      ]
     },
     "execution_count": 70,
     "metadata": {},
     "output_type": "execute_result"
    }
   ],
   "source": [
    "x = tf.random.normal([4,32,32,3])\n",
    "# 行、列逆序间隔采样\n",
    "x[0,::-2,::-2] "
   ]
  },
  {
   "cell_type": "code",
   "execution_count": 71,
   "metadata": {
    "scrolled": true
   },
   "outputs": [
    {
     "data": {
      "text/plain": [
       "<tf.Tensor: shape=(4, 32, 32), dtype=float32, numpy=\n",
       "array([[[-1.03862536e+00,  5.19991159e-01,  1.25529945e-01, ...,\n",
       "         -9.59230810e-02,  1.40601480e+00,  1.22627997e+00],\n",
       "        [ 8.54619563e-01, -1.17459095e+00, -1.30192423e+00, ...,\n",
       "         -8.62191916e-01,  8.58335868e-02, -2.00877525e-02],\n",
       "        [-4.09677207e-01,  1.18854189e+00, -5.99503458e-01, ...,\n",
       "          1.89400390e-01, -1.04004525e-01,  5.51722765e-01],\n",
       "        ...,\n",
       "        [-1.36972561e-01,  8.95012617e-01, -9.30583358e-01, ...,\n",
       "          3.12717944e-01,  6.24758720e-01,  9.21691716e-01],\n",
       "        [-3.54396284e-01,  3.31374168e-01, -2.40086615e-01, ...,\n",
       "          8.23955983e-02, -1.28802729e+00,  4.46416438e-01],\n",
       "        [ 6.99917436e-01,  2.10180413e-03,  2.49295104e-02, ...,\n",
       "          1.09962976e+00,  3.32235843e-01, -2.14821172e+00]],\n",
       "\n",
       "       [[-8.14973474e-01, -8.42658997e-01, -3.89963716e-01, ...,\n",
       "          5.08580923e-01, -1.46357095e+00,  5.91082692e-01],\n",
       "        [-9.37178373e-01,  1.61391467e-01,  1.06180802e-01, ...,\n",
       "         -9.27694499e-01,  1.82347155e+00, -5.65823853e-01],\n",
       "        [ 1.14817250e+00, -1.36705184e+00,  2.93308228e-01, ...,\n",
       "         -6.16046898e-02, -4.44709122e-01,  3.15608233e-01],\n",
       "        ...,\n",
       "        [-6.07390881e-01, -2.56494701e-01, -4.84224588e-01, ...,\n",
       "         -3.83308216e-04,  2.00926960e-02,  6.12070262e-01],\n",
       "        [-1.38973987e+00, -2.28674680e-01,  1.23348558e+00, ...,\n",
       "          6.98591117e-03, -1.72265208e+00,  2.23834252e+00],\n",
       "        [-1.44766045e+00, -1.08972371e-01, -4.77995902e-01, ...,\n",
       "          4.46355194e-02, -1.85277438e+00, -7.32624054e-01]],\n",
       "\n",
       "       [[-1.03492570e+00,  3.62774551e-01,  9.14300382e-01, ...,\n",
       "          2.36883378e+00, -1.87651545e-01,  5.84657133e-01],\n",
       "        [ 6.78434610e-01,  1.07234442e+00,  6.58936024e-01, ...,\n",
       "         -1.86725545e+00,  9.82444584e-01, -7.41998792e-01],\n",
       "        [-3.85336220e-01,  2.48472720e-01, -1.04293518e-01, ...,\n",
       "         -2.40458563e-01,  7.81369731e-02, -2.67542094e-01],\n",
       "        ...,\n",
       "        [ 2.67483473e-01, -2.04317570e-01,  1.37327802e+00, ...,\n",
       "          5.71204960e-01,  1.05931377e+00, -1.08482492e+00],\n",
       "        [-8.99715841e-01,  1.60198724e+00, -1.81784666e+00, ...,\n",
       "         -7.22951651e-01,  2.50333875e-01, -5.18835723e-01],\n",
       "        [ 2.20965624e-01,  1.74478248e-01,  4.98282313e-01, ...,\n",
       "         -9.97797430e-01, -4.77643460e-01, -5.23060799e-01]],\n",
       "\n",
       "       [[-1.92471653e-01, -3.09627652e-01, -5.79204410e-02, ...,\n",
       "         -2.19817400e-01,  1.28749597e+00, -8.37317944e-01],\n",
       "        [-1.29543364e+00, -9.51637208e-01,  3.27382594e-01, ...,\n",
       "         -5.76575994e-01, -1.07094491e+00,  1.26336962e-01],\n",
       "        [-1.13068557e+00,  1.99363911e+00,  5.74214041e-01, ...,\n",
       "          2.44294256e-01,  5.98791003e-01, -7.68284321e-01],\n",
       "        ...,\n",
       "        [-1.35604599e-02, -1.03303146e+00, -4.36563671e-01, ...,\n",
       "          5.80619454e-01,  2.57379860e-01, -7.19737053e-01],\n",
       "        [-1.15364659e+00, -6.52291596e-01, -1.26286340e+00, ...,\n",
       "          6.58222660e-02, -1.08542955e+00,  2.75956243e-01],\n",
       "        [-4.24607396e-01,  7.45094895e-01,  1.53487182e+00, ...,\n",
       "         -1.05610740e+00, -1.83687878e+00,  7.02844203e-01]]],\n",
       "      dtype=float32)>"
      ]
     },
     "execution_count": 71,
     "metadata": {},
     "output_type": "execute_result"
    }
   ],
   "source": [
    "# 取 G 通道数据\n",
    "x[:,:,:,1] "
   ]
  },
  {
   "cell_type": "code",
   "execution_count": 72,
   "metadata": {
    "scrolled": true
   },
   "outputs": [
    {
     "data": {
      "text/plain": [
       "<tf.Tensor: shape=(2, 32, 32, 2), dtype=float32, numpy=\n",
       "array([[[[-1.03862536e+00,  4.24130529e-01],\n",
       "         [ 5.19991159e-01, -1.17353475e+00],\n",
       "         [ 1.25529945e-01, -6.25412583e-01],\n",
       "         ...,\n",
       "         [-9.59230810e-02,  1.10581493e+00],\n",
       "         [ 1.40601480e+00,  4.11194801e-01],\n",
       "         [ 1.22627997e+00,  3.75761539e-01]],\n",
       "\n",
       "        [[ 8.54619563e-01,  1.15949237e+00],\n",
       "         [-1.17459095e+00,  5.79580545e-01],\n",
       "         [-1.30192423e+00, -1.64396286e-01],\n",
       "         ...,\n",
       "         [-8.62191916e-01,  9.57023203e-01],\n",
       "         [ 8.58335868e-02, -1.23484445e+00],\n",
       "         [-2.00877525e-02, -4.74127412e-01]],\n",
       "\n",
       "        [[-4.09677207e-01, -3.09708178e-01],\n",
       "         [ 1.18854189e+00, -2.31672740e+00],\n",
       "         [-5.99503458e-01, -1.13266063e+00],\n",
       "         ...,\n",
       "         [ 1.89400390e-01, -4.39132839e-01],\n",
       "         [-1.04004525e-01,  6.25984132e-01],\n",
       "         [ 5.51722765e-01, -6.41442537e-01]],\n",
       "\n",
       "        ...,\n",
       "\n",
       "        [[-1.36972561e-01, -8.05640221e-01],\n",
       "         [ 8.95012617e-01, -1.34322178e+00],\n",
       "         [-9.30583358e-01,  2.67214632e+00],\n",
       "         ...,\n",
       "         [ 3.12717944e-01, -9.07131016e-01],\n",
       "         [ 6.24758720e-01,  9.87736821e-01],\n",
       "         [ 9.21691716e-01,  1.34464455e+00]],\n",
       "\n",
       "        [[-3.54396284e-01, -4.16363090e-01],\n",
       "         [ 3.31374168e-01, -1.30528498e+00],\n",
       "         [-2.40086615e-01,  2.12991461e-01],\n",
       "         ...,\n",
       "         [ 8.23955983e-02,  5.21287143e-01],\n",
       "         [-1.28802729e+00,  8.40536416e-01],\n",
       "         [ 4.46416438e-01, -1.50993511e-01]],\n",
       "\n",
       "        [[ 6.99917436e-01,  4.43910986e-01],\n",
       "         [ 2.10180413e-03, -3.46294701e-01],\n",
       "         [ 2.49295104e-02,  3.83885294e-01],\n",
       "         ...,\n",
       "         [ 1.09962976e+00, -5.33090055e-01],\n",
       "         [ 3.32235843e-01, -1.13426912e+00],\n",
       "         [-2.14821172e+00,  2.35090065e+00]]],\n",
       "\n",
       "\n",
       "       [[[-8.14973474e-01, -9.84070376e-02],\n",
       "         [-8.42658997e-01, -6.88202143e-01],\n",
       "         [-3.89963716e-01, -1.99246502e+00],\n",
       "         ...,\n",
       "         [ 5.08580923e-01,  3.04487437e-01],\n",
       "         [-1.46357095e+00, -8.51439238e-01],\n",
       "         [ 5.91082692e-01, -2.77530789e+00]],\n",
       "\n",
       "        [[-9.37178373e-01, -2.62306452e+00],\n",
       "         [ 1.61391467e-01, -5.45559168e-01],\n",
       "         [ 1.06180802e-01,  4.46774215e-01],\n",
       "         ...,\n",
       "         [-9.27694499e-01, -1.08385813e+00],\n",
       "         [ 1.82347155e+00,  3.83470356e-02],\n",
       "         [-5.65823853e-01,  5.51177422e-03]],\n",
       "\n",
       "        [[ 1.14817250e+00, -5.18121004e-01],\n",
       "         [-1.36705184e+00, -7.27672398e-01],\n",
       "         [ 2.93308228e-01, -7.14203060e-01],\n",
       "         ...,\n",
       "         [-6.16046898e-02, -1.46575248e+00],\n",
       "         [-4.44709122e-01,  9.07192945e-01],\n",
       "         [ 3.15608233e-01, -2.49586105e+00]],\n",
       "\n",
       "        ...,\n",
       "\n",
       "        [[-6.07390881e-01,  2.46614009e-01],\n",
       "         [-2.56494701e-01,  4.23096031e-01],\n",
       "         [-4.84224588e-01,  4.30469573e-01],\n",
       "         ...,\n",
       "         [-3.83308216e-04, -2.18627143e+00],\n",
       "         [ 2.00926960e-02, -1.28940761e-01],\n",
       "         [ 6.12070262e-01,  5.82907140e-01]],\n",
       "\n",
       "        [[-1.38973987e+00,  6.89473629e-01],\n",
       "         [-2.28674680e-01, -5.28535843e-02],\n",
       "         [ 1.23348558e+00, -3.10085207e-01],\n",
       "         ...,\n",
       "         [ 6.98591117e-03,  1.95570767e+00],\n",
       "         [-1.72265208e+00, -1.25478089e+00],\n",
       "         [ 2.23834252e+00, -4.85836238e-01]],\n",
       "\n",
       "        [[-1.44766045e+00,  6.37136638e-01],\n",
       "         [-1.08972371e-01, -1.74624026e+00],\n",
       "         [-4.77995902e-01, -4.39491659e-01],\n",
       "         ...,\n",
       "         [ 4.46355194e-02,  9.67146516e-01],\n",
       "         [-1.85277438e+00, -8.31220210e-01],\n",
       "         [-7.32624054e-01, -1.00283110e+00]]]], dtype=float32)>"
      ]
     },
     "execution_count": 72,
     "metadata": {},
     "output_type": "execute_result"
    }
   ],
   "source": [
    "# 读取第 1~2 张图片的 G/B 通道数据\n",
    "# 高宽维度全部采集\n",
    "x[0:2,...,1:] "
   ]
  },
  {
   "cell_type": "code",
   "execution_count": 73,
   "metadata": {
    "scrolled": true
   },
   "outputs": [
    {
     "data": {
      "text/plain": [
       "<tf.Tensor: shape=(2, 32, 32, 3), dtype=float32, numpy=\n",
       "array([[[[ 4.91080642e-01, -1.03492570e+00, -5.36334515e-01],\n",
       "         [ 1.05459392e+00,  3.62774551e-01, -2.38023788e-01],\n",
       "         [ 6.49792671e-01,  9.14300382e-01, -5.84140956e-01],\n",
       "         ...,\n",
       "         [-1.37091368e-01,  2.36883378e+00, -7.67858088e-01],\n",
       "         [-1.26511109e+00, -1.87651545e-01, -9.14575696e-01],\n",
       "         [ 1.07445002e+00,  5.84657133e-01,  3.38971883e-01]],\n",
       "\n",
       "        [[-9.30824399e-01,  6.78434610e-01, -4.69526350e-01],\n",
       "         [-1.31433582e+00,  1.07234442e+00, -2.33317733e-01],\n",
       "         [ 1.18276536e+00,  6.58936024e-01,  4.25413698e-01],\n",
       "         ...,\n",
       "         [ 1.66926491e+00, -1.86725545e+00, -1.15011621e+00],\n",
       "         [ 7.58674741e-01,  9.82444584e-01, -1.18680835e+00],\n",
       "         [-5.15812933e-01, -7.41998792e-01,  9.86822724e-01]],\n",
       "\n",
       "        [[-4.37134862e-01, -3.85336220e-01,  8.98110807e-01],\n",
       "         [-7.85729766e-01,  2.48472720e-01, -1.98602748e+00],\n",
       "         [ 6.20537363e-02, -1.04293518e-01,  1.46445656e+00],\n",
       "         ...,\n",
       "         [ 1.75207078e-01, -2.40458563e-01, -1.24531531e+00],\n",
       "         [ 2.53675073e-01,  7.81369731e-02,  1.64791775e+00],\n",
       "         [ 4.96105283e-01, -2.67542094e-01,  3.79695833e-01]],\n",
       "\n",
       "        ...,\n",
       "\n",
       "        [[ 1.03354919e+00,  2.67483473e-01,  2.22018078e-01],\n",
       "         [ 6.14285097e-02, -2.04317570e-01, -7.74269164e-01],\n",
       "         [-1.22976053e+00,  1.37327802e+00, -6.66788936e-01],\n",
       "         ...,\n",
       "         [-2.69832522e-01,  5.71204960e-01,  7.73205459e-02],\n",
       "         [ 5.13062119e-01,  1.05931377e+00,  5.09588480e-01],\n",
       "         [ 8.82304430e-01, -1.08482492e+00,  6.14703655e-01]],\n",
       "\n",
       "        [[-7.17625558e-01, -8.99715841e-01,  1.10833265e-01],\n",
       "         [-5.12227535e-01,  1.60198724e+00, -5.07460952e-01],\n",
       "         [ 1.44751298e+00, -1.81784666e+00, -1.27722597e+00],\n",
       "         ...,\n",
       "         [-1.44568789e+00, -7.22951651e-01,  1.00231898e+00],\n",
       "         [ 8.63284588e-01,  2.50333875e-01,  4.18108702e-01],\n",
       "         [ 2.01759887e+00, -5.18835723e-01, -1.57850945e+00]],\n",
       "\n",
       "        [[ 3.50518972e-01,  2.20965624e-01,  1.02516246e+00],\n",
       "         [-1.07157123e+00,  1.74478248e-01,  1.67810094e+00],\n",
       "         [ 5.61922133e-01,  4.98282313e-01,  6.30194306e-01],\n",
       "         ...,\n",
       "         [-1.06158322e-02, -9.97797430e-01, -3.06017131e-01],\n",
       "         [-6.27907574e-01, -4.77643460e-01, -1.51928842e-01],\n",
       "         [-6.77141547e-01, -5.23060799e-01,  2.27678671e-01]]],\n",
       "\n",
       "\n",
       "       [[[ 4.15568471e-01, -1.92471653e-01, -1.13641512e+00],\n",
       "         [-1.35518301e+00, -3.09627652e-01, -1.39982510e+00],\n",
       "         [ 4.80555952e-01, -5.79204410e-02, -1.93265975e+00],\n",
       "         ...,\n",
       "         [ 9.24254477e-01, -2.19817400e-01,  1.22812666e-01],\n",
       "         [-1.02888703e+00,  1.28749597e+00, -1.18480039e+00],\n",
       "         [-1.67625046e+00, -8.37317944e-01,  4.90011990e-01]],\n",
       "\n",
       "        [[ 4.45848286e-01, -1.29543364e+00, -5.09802878e-01],\n",
       "         [ 1.52191365e+00, -9.51637208e-01, -7.55917132e-01],\n",
       "         [-5.58697820e-01,  3.27382594e-01,  7.16228247e-01],\n",
       "         ...,\n",
       "         [-2.62080455e+00, -5.76575994e-01,  8.98205996e-01],\n",
       "         [-2.62353730e+00, -1.07094491e+00, -1.12143171e+00],\n",
       "         [ 5.29036336e-02,  1.26336962e-01,  9.93941426e-01]],\n",
       "\n",
       "        [[ 8.77751410e-01, -1.13068557e+00,  1.18976414e+00],\n",
       "         [ 7.39292741e-01,  1.99363911e+00,  1.50291312e+00],\n",
       "         [ 4.22388911e-01,  5.74214041e-01,  1.48552597e+00],\n",
       "         ...,\n",
       "         [ 1.22859013e+00,  2.44294256e-01,  4.46938276e-01],\n",
       "         [ 5.88213503e-02,  5.98791003e-01, -4.91795331e-01],\n",
       "         [ 1.07074690e+00, -7.68284321e-01, -3.20021719e-01]],\n",
       "\n",
       "        ...,\n",
       "\n",
       "        [[ 3.31197292e-01, -1.35604599e-02,  1.30690215e-03],\n",
       "         [ 1.22788835e+00, -1.03303146e+00,  2.08802009e+00],\n",
       "         [ 1.31144059e+00, -4.36563671e-01, -5.55726588e-01],\n",
       "         ...,\n",
       "         [-9.29032624e-01,  5.80619454e-01,  8.21408093e-01],\n",
       "         [ 9.69748497e-01,  2.57379860e-01,  8.85255098e-01],\n",
       "         [ 1.55303943e+00, -7.19737053e-01, -7.17626870e-01]],\n",
       "\n",
       "        [[-2.78718138e+00, -1.15364659e+00,  2.58742094e-01],\n",
       "         [ 3.76102775e-01, -6.52291596e-01, -8.30126256e-02],\n",
       "         [ 2.07671905e+00, -1.26286340e+00,  1.17101300e+00],\n",
       "         ...,\n",
       "         [ 1.55113101e+00,  6.58222660e-02,  5.49368203e-01],\n",
       "         [ 3.11594844e-01, -1.08542955e+00, -1.39334530e-01],\n",
       "         [ 1.41179395e+00,  2.75956243e-01, -7.58186758e-01]],\n",
       "\n",
       "        [[ 6.35448337e-01, -4.24607396e-01, -7.69924462e-01],\n",
       "         [-8.78831208e-01,  7.45094895e-01,  1.22394092e-01],\n",
       "         [ 9.17193651e-01,  1.53487182e+00,  6.78650796e-01],\n",
       "         ...,\n",
       "         [-2.26878986e-01, -1.05610740e+00, -8.93231452e-01],\n",
       "         [-2.56787807e-01, -1.83687878e+00,  4.62500215e-01],\n",
       "         [ 3.10914874e-01,  7.02844203e-01, -1.56025267e+00]]]],\n",
       "      dtype=float32)>"
      ]
     },
     "execution_count": 73,
     "metadata": {},
     "output_type": "execute_result"
    }
   ],
   "source": [
    "# 读取最后 2 张图片\n",
    "# 高、宽、通道维度全部采集，等价于 x[2:]\n",
    "x[2:,...] "
   ]
  },
  {
   "cell_type": "code",
   "execution_count": 74,
   "metadata": {},
   "outputs": [
    {
     "data": {
      "text/plain": [
       "<tf.Tensor: shape=(4, 32, 32, 2), dtype=float32, numpy=\n",
       "array([[[[-1.49692941e+00, -1.03862536e+00],\n",
       "         [-6.72032982e-02,  5.19991159e-01],\n",
       "         [-8.76666129e-01,  1.25529945e-01],\n",
       "         ...,\n",
       "         [ 1.77476394e+00, -9.59230810e-02],\n",
       "         [-4.76283699e-01,  1.40601480e+00],\n",
       "         [-6.69692338e-01,  1.22627997e+00]],\n",
       "\n",
       "        [[-9.92194638e-02,  8.54619563e-01],\n",
       "         [-4.35981423e-01, -1.17459095e+00],\n",
       "         [ 1.45168245e+00, -1.30192423e+00],\n",
       "         ...,\n",
       "         [ 2.21172750e-01, -8.62191916e-01],\n",
       "         [-1.08279586e+00,  8.58335868e-02],\n",
       "         [-1.05969198e-01, -2.00877525e-02]],\n",
       "\n",
       "        [[-1.19502890e+00, -4.09677207e-01],\n",
       "         [ 2.97446936e-01,  1.18854189e+00],\n",
       "         [-4.40631330e-01, -5.99503458e-01],\n",
       "         ...,\n",
       "         [-1.47128332e+00,  1.89400390e-01],\n",
       "         [-5.04857302e-01, -1.04004525e-01],\n",
       "         [-6.76708937e-01,  5.51722765e-01]],\n",
       "\n",
       "        ...,\n",
       "\n",
       "        [[-1.05548286e+00, -1.36972561e-01],\n",
       "         [-1.63488770e+00,  8.95012617e-01],\n",
       "         [ 9.70834307e-03, -9.30583358e-01],\n",
       "         ...,\n",
       "         [-3.30718279e-01,  3.12717944e-01],\n",
       "         [ 1.13902664e+00,  6.24758720e-01],\n",
       "         [-1.27933931e+00,  9.21691716e-01]],\n",
       "\n",
       "        [[ 1.51221049e+00, -3.54396284e-01],\n",
       "         [ 5.11188507e-01,  3.31374168e-01],\n",
       "         [-1.59817725e-01, -2.40086615e-01],\n",
       "         ...,\n",
       "         [ 1.80873662e-01,  8.23955983e-02],\n",
       "         [ 1.90620929e-01, -1.28802729e+00],\n",
       "         [ 1.34862781e+00,  4.46416438e-01]],\n",
       "\n",
       "        [[ 1.20789576e+00,  6.99917436e-01],\n",
       "         [-1.82771933e+00,  2.10180413e-03],\n",
       "         [ 1.12710416e+00,  2.49295104e-02],\n",
       "         ...,\n",
       "         [-2.98216492e-01,  1.09962976e+00],\n",
       "         [ 1.83025980e+00,  3.32235843e-01],\n",
       "         [ 2.36737058e-01, -2.14821172e+00]]],\n",
       "\n",
       "\n",
       "       [[[-1.88161278e+00, -8.14973474e-01],\n",
       "         [-3.18333894e-01, -8.42658997e-01],\n",
       "         [ 1.32790446e+00, -3.89963716e-01],\n",
       "         ...,\n",
       "         [ 3.70327502e-01,  5.08580923e-01],\n",
       "         [ 1.48035812e+00, -1.46357095e+00],\n",
       "         [ 6.48453295e-01,  5.91082692e-01]],\n",
       "\n",
       "        [[ 1.61664441e-01, -9.37178373e-01],\n",
       "         [-6.63502693e-01,  1.61391467e-01],\n",
       "         [-1.08549690e+00,  1.06180802e-01],\n",
       "         ...,\n",
       "         [ 2.26293540e+00, -9.27694499e-01],\n",
       "         [ 3.70707273e-01,  1.82347155e+00],\n",
       "         [-2.03622270e+00, -5.65823853e-01]],\n",
       "\n",
       "        [[ 9.98426080e-01,  1.14817250e+00],\n",
       "         [-7.03551173e-01, -1.36705184e+00],\n",
       "         [ 1.17187314e-01,  2.93308228e-01],\n",
       "         ...,\n",
       "         [ 5.96079767e-01, -6.16046898e-02],\n",
       "         [-3.24341059e-01, -4.44709122e-01],\n",
       "         [-4.09218252e-01,  3.15608233e-01]],\n",
       "\n",
       "        ...,\n",
       "\n",
       "        [[ 2.87893176e-01, -6.07390881e-01],\n",
       "         [-6.03338361e-01, -2.56494701e-01],\n",
       "         [ 5.44714220e-02, -4.84224588e-01],\n",
       "         ...,\n",
       "         [ 7.21356809e-01, -3.83308216e-04],\n",
       "         [-1.64372706e+00,  2.00926960e-02],\n",
       "         [ 1.54260647e+00,  6.12070262e-01]],\n",
       "\n",
       "        [[-8.85991335e-01, -1.38973987e+00],\n",
       "         [ 5.43226898e-01, -2.28674680e-01],\n",
       "         [ 1.25165510e+00,  1.23348558e+00],\n",
       "         ...,\n",
       "         [ 1.35397816e+00,  6.98591117e-03],\n",
       "         [ 3.63253981e-01, -1.72265208e+00],\n",
       "         [ 7.04424158e-02,  2.23834252e+00]],\n",
       "\n",
       "        [[-3.88625354e-01, -1.44766045e+00],\n",
       "         [-3.79242599e-01, -1.08972371e-01],\n",
       "         [ 6.97222590e-01, -4.77995902e-01],\n",
       "         ...,\n",
       "         [ 4.25884813e-01,  4.46355194e-02],\n",
       "         [ 7.49157295e-02, -1.85277438e+00],\n",
       "         [-7.63888001e-01, -7.32624054e-01]]],\n",
       "\n",
       "\n",
       "       [[[ 4.91080642e-01, -1.03492570e+00],\n",
       "         [ 1.05459392e+00,  3.62774551e-01],\n",
       "         [ 6.49792671e-01,  9.14300382e-01],\n",
       "         ...,\n",
       "         [-1.37091368e-01,  2.36883378e+00],\n",
       "         [-1.26511109e+00, -1.87651545e-01],\n",
       "         [ 1.07445002e+00,  5.84657133e-01]],\n",
       "\n",
       "        [[-9.30824399e-01,  6.78434610e-01],\n",
       "         [-1.31433582e+00,  1.07234442e+00],\n",
       "         [ 1.18276536e+00,  6.58936024e-01],\n",
       "         ...,\n",
       "         [ 1.66926491e+00, -1.86725545e+00],\n",
       "         [ 7.58674741e-01,  9.82444584e-01],\n",
       "         [-5.15812933e-01, -7.41998792e-01]],\n",
       "\n",
       "        [[-4.37134862e-01, -3.85336220e-01],\n",
       "         [-7.85729766e-01,  2.48472720e-01],\n",
       "         [ 6.20537363e-02, -1.04293518e-01],\n",
       "         ...,\n",
       "         [ 1.75207078e-01, -2.40458563e-01],\n",
       "         [ 2.53675073e-01,  7.81369731e-02],\n",
       "         [ 4.96105283e-01, -2.67542094e-01]],\n",
       "\n",
       "        ...,\n",
       "\n",
       "        [[ 1.03354919e+00,  2.67483473e-01],\n",
       "         [ 6.14285097e-02, -2.04317570e-01],\n",
       "         [-1.22976053e+00,  1.37327802e+00],\n",
       "         ...,\n",
       "         [-2.69832522e-01,  5.71204960e-01],\n",
       "         [ 5.13062119e-01,  1.05931377e+00],\n",
       "         [ 8.82304430e-01, -1.08482492e+00]],\n",
       "\n",
       "        [[-7.17625558e-01, -8.99715841e-01],\n",
       "         [-5.12227535e-01,  1.60198724e+00],\n",
       "         [ 1.44751298e+00, -1.81784666e+00],\n",
       "         ...,\n",
       "         [-1.44568789e+00, -7.22951651e-01],\n",
       "         [ 8.63284588e-01,  2.50333875e-01],\n",
       "         [ 2.01759887e+00, -5.18835723e-01]],\n",
       "\n",
       "        [[ 3.50518972e-01,  2.20965624e-01],\n",
       "         [-1.07157123e+00,  1.74478248e-01],\n",
       "         [ 5.61922133e-01,  4.98282313e-01],\n",
       "         ...,\n",
       "         [-1.06158322e-02, -9.97797430e-01],\n",
       "         [-6.27907574e-01, -4.77643460e-01],\n",
       "         [-6.77141547e-01, -5.23060799e-01]]],\n",
       "\n",
       "\n",
       "       [[[ 4.15568471e-01, -1.92471653e-01],\n",
       "         [-1.35518301e+00, -3.09627652e-01],\n",
       "         [ 4.80555952e-01, -5.79204410e-02],\n",
       "         ...,\n",
       "         [ 9.24254477e-01, -2.19817400e-01],\n",
       "         [-1.02888703e+00,  1.28749597e+00],\n",
       "         [-1.67625046e+00, -8.37317944e-01]],\n",
       "\n",
       "        [[ 4.45848286e-01, -1.29543364e+00],\n",
       "         [ 1.52191365e+00, -9.51637208e-01],\n",
       "         [-5.58697820e-01,  3.27382594e-01],\n",
       "         ...,\n",
       "         [-2.62080455e+00, -5.76575994e-01],\n",
       "         [-2.62353730e+00, -1.07094491e+00],\n",
       "         [ 5.29036336e-02,  1.26336962e-01]],\n",
       "\n",
       "        [[ 8.77751410e-01, -1.13068557e+00],\n",
       "         [ 7.39292741e-01,  1.99363911e+00],\n",
       "         [ 4.22388911e-01,  5.74214041e-01],\n",
       "         ...,\n",
       "         [ 1.22859013e+00,  2.44294256e-01],\n",
       "         [ 5.88213503e-02,  5.98791003e-01],\n",
       "         [ 1.07074690e+00, -7.68284321e-01]],\n",
       "\n",
       "        ...,\n",
       "\n",
       "        [[ 3.31197292e-01, -1.35604599e-02],\n",
       "         [ 1.22788835e+00, -1.03303146e+00],\n",
       "         [ 1.31144059e+00, -4.36563671e-01],\n",
       "         ...,\n",
       "         [-9.29032624e-01,  5.80619454e-01],\n",
       "         [ 9.69748497e-01,  2.57379860e-01],\n",
       "         [ 1.55303943e+00, -7.19737053e-01]],\n",
       "\n",
       "        [[-2.78718138e+00, -1.15364659e+00],\n",
       "         [ 3.76102775e-01, -6.52291596e-01],\n",
       "         [ 2.07671905e+00, -1.26286340e+00],\n",
       "         ...,\n",
       "         [ 1.55113101e+00,  6.58222660e-02],\n",
       "         [ 3.11594844e-01, -1.08542955e+00],\n",
       "         [ 1.41179395e+00,  2.75956243e-01]],\n",
       "\n",
       "        [[ 6.35448337e-01, -4.24607396e-01],\n",
       "         [-8.78831208e-01,  7.45094895e-01],\n",
       "         [ 9.17193651e-01,  1.53487182e+00],\n",
       "         ...,\n",
       "         [-2.26878986e-01, -1.05610740e+00],\n",
       "         [-2.56787807e-01, -1.83687878e+00],\n",
       "         [ 3.10914874e-01,  7.02844203e-01]]]], dtype=float32)>"
      ]
     },
     "execution_count": 74,
     "metadata": {},
     "output_type": "execute_result"
    }
   ],
   "source": [
    "# 读取 R/G 通道数据\n",
    "# 所有样本，所有高、宽的前 2 个通道\n",
    "x[...,:2] "
   ]
  },
  {
   "cell_type": "markdown",
   "metadata": {},
   "source": [
    "## 维度变换"
   ]
  },
  {
   "cell_type": "markdown",
   "metadata": {},
   "source": [
    "### 改变视图"
   ]
  },
  {
   "cell_type": "markdown",
   "metadata": {},
   "source": [
    "我们通过 tf.range()模拟生成一个向量数据，并通过 tf.reshape 视图改变函数产生不同的视图"
   ]
  },
  {
   "cell_type": "code",
   "execution_count": 75,
   "metadata": {
    "scrolled": true
   },
   "outputs": [
    {
     "data": {
      "text/plain": [
       "<tf.Tensor: shape=(2, 4, 4, 3), dtype=int32, numpy=\n",
       "array([[[[ 0,  1,  2],\n",
       "         [ 3,  4,  5],\n",
       "         [ 6,  7,  8],\n",
       "         [ 9, 10, 11]],\n",
       "\n",
       "        [[12, 13, 14],\n",
       "         [15, 16, 17],\n",
       "         [18, 19, 20],\n",
       "         [21, 22, 23]],\n",
       "\n",
       "        [[24, 25, 26],\n",
       "         [27, 28, 29],\n",
       "         [30, 31, 32],\n",
       "         [33, 34, 35]],\n",
       "\n",
       "        [[36, 37, 38],\n",
       "         [39, 40, 41],\n",
       "         [42, 43, 44],\n",
       "         [45, 46, 47]]],\n",
       "\n",
       "\n",
       "       [[[48, 49, 50],\n",
       "         [51, 52, 53],\n",
       "         [54, 55, 56],\n",
       "         [57, 58, 59]],\n",
       "\n",
       "        [[60, 61, 62],\n",
       "         [63, 64, 65],\n",
       "         [66, 67, 68],\n",
       "         [69, 70, 71]],\n",
       "\n",
       "        [[72, 73, 74],\n",
       "         [75, 76, 77],\n",
       "         [78, 79, 80],\n",
       "         [81, 82, 83]],\n",
       "\n",
       "        [[84, 85, 86],\n",
       "         [87, 88, 89],\n",
       "         [90, 91, 92],\n",
       "         [93, 94, 95]]]])>"
      ]
     },
     "execution_count": 75,
     "metadata": {},
     "output_type": "execute_result"
    }
   ],
   "source": [
    "# 生成向量\n",
    "x = tf.range(96) \n",
    "# 改变 x 的视图，获得 4D 张量，存储并未改变\n",
    "x = tf.reshape(x,[2,4,4,3]) \n",
    "x"
   ]
  },
  {
   "cell_type": "code",
   "execution_count": 76,
   "metadata": {},
   "outputs": [
    {
     "data": {
      "text/plain": [
       "(4, TensorShape([2, 4, 4, 3]))"
      ]
     },
     "execution_count": 76,
     "metadata": {},
     "output_type": "execute_result"
    }
   ],
   "source": [
    "# 获取张量的维度数和形状列表\n",
    "x.ndim,x.shape "
   ]
  },
  {
   "cell_type": "code",
   "execution_count": 77,
   "metadata": {},
   "outputs": [
    {
     "data": {
      "text/plain": [
       "<tf.Tensor: shape=(96,), dtype=int32, numpy=\n",
       "array([ 0,  1,  2,  3,  4,  5,  6,  7,  8,  9, 10, 11, 12, 13, 14, 15, 16,\n",
       "       17, 18, 19, 20, 21, 22, 23, 24, 25, 26, 27, 28, 29, 30, 31, 32, 33,\n",
       "       34, 35, 36, 37, 38, 39, 40, 41, 42, 43, 44, 45, 46, 47, 48, 49, 50,\n",
       "       51, 52, 53, 54, 55, 56, 57, 58, 59, 60, 61, 62, 63, 64, 65, 66, 67,\n",
       "       68, 69, 70, 71, 72, 73, 74, 75, 76, 77, 78, 79, 80, 81, 82, 83, 84,\n",
       "       85, 86, 87, 88, 89, 90, 91, 92, 93, 94, 95])>"
      ]
     },
     "execution_count": 77,
     "metadata": {},
     "output_type": "execute_result"
    }
   ],
   "source": [
    "tf.reshape(x,[-1])"
   ]
  },
  {
   "cell_type": "markdown",
   "metadata": {},
   "source": [
    "通过 tf.reshape(x, new_shape)，可以将张量的视图任意地合法改变"
   ]
  },
  {
   "cell_type": "code",
   "execution_count": 78,
   "metadata": {},
   "outputs": [
    {
     "data": {
      "text/plain": [
       "<tf.Tensor: shape=(2, 48), dtype=int32, numpy=\n",
       "array([[ 0,  1,  2,  3,  4,  5,  6,  7,  8,  9, 10, 11, 12, 13, 14, 15,\n",
       "        16, 17, 18, 19, 20, 21, 22, 23, 24, 25, 26, 27, 28, 29, 30, 31,\n",
       "        32, 33, 34, 35, 36, 37, 38, 39, 40, 41, 42, 43, 44, 45, 46, 47],\n",
       "       [48, 49, 50, 51, 52, 53, 54, 55, 56, 57, 58, 59, 60, 61, 62, 63,\n",
       "        64, 65, 66, 67, 68, 69, 70, 71, 72, 73, 74, 75, 76, 77, 78, 79,\n",
       "        80, 81, 82, 83, 84, 85, 86, 87, 88, 89, 90, 91, 92, 93, 94, 95]])>"
      ]
     },
     "execution_count": 78,
     "metadata": {},
     "output_type": "execute_result"
    }
   ],
   "source": [
    "tf.reshape(x,[2,-1])"
   ]
  },
  {
   "cell_type": "code",
   "execution_count": 79,
   "metadata": {},
   "outputs": [
    {
     "data": {
      "text/plain": [
       "<tf.Tensor: shape=(2, 4, 12), dtype=int32, numpy=\n",
       "array([[[ 0,  1,  2,  3,  4,  5,  6,  7,  8,  9, 10, 11],\n",
       "        [12, 13, 14, 15, 16, 17, 18, 19, 20, 21, 22, 23],\n",
       "        [24, 25, 26, 27, 28, 29, 30, 31, 32, 33, 34, 35],\n",
       "        [36, 37, 38, 39, 40, 41, 42, 43, 44, 45, 46, 47]],\n",
       "\n",
       "       [[48, 49, 50, 51, 52, 53, 54, 55, 56, 57, 58, 59],\n",
       "        [60, 61, 62, 63, 64, 65, 66, 67, 68, 69, 70, 71],\n",
       "        [72, 73, 74, 75, 76, 77, 78, 79, 80, 81, 82, 83],\n",
       "        [84, 85, 86, 87, 88, 89, 90, 91, 92, 93, 94, 95]]])>"
      ]
     },
     "execution_count": 79,
     "metadata": {},
     "output_type": "execute_result"
    }
   ],
   "source": [
    " tf.reshape(x,[2,4,12])"
   ]
  },
  {
   "cell_type": "code",
   "execution_count": 80,
   "metadata": {
    "scrolled": true
   },
   "outputs": [
    {
     "data": {
      "text/plain": [
       "<tf.Tensor: shape=(2, 16, 3), dtype=int32, numpy=\n",
       "array([[[ 0,  1,  2],\n",
       "        [ 3,  4,  5],\n",
       "        [ 6,  7,  8],\n",
       "        [ 9, 10, 11],\n",
       "        [12, 13, 14],\n",
       "        [15, 16, 17],\n",
       "        [18, 19, 20],\n",
       "        [21, 22, 23],\n",
       "        [24, 25, 26],\n",
       "        [27, 28, 29],\n",
       "        [30, 31, 32],\n",
       "        [33, 34, 35],\n",
       "        [36, 37, 38],\n",
       "        [39, 40, 41],\n",
       "        [42, 43, 44],\n",
       "        [45, 46, 47]],\n",
       "\n",
       "       [[48, 49, 50],\n",
       "        [51, 52, 53],\n",
       "        [54, 55, 56],\n",
       "        [57, 58, 59],\n",
       "        [60, 61, 62],\n",
       "        [63, 64, 65],\n",
       "        [66, 67, 68],\n",
       "        [69, 70, 71],\n",
       "        [72, 73, 74],\n",
       "        [75, 76, 77],\n",
       "        [78, 79, 80],\n",
       "        [81, 82, 83],\n",
       "        [84, 85, 86],\n",
       "        [87, 88, 89],\n",
       "        [90, 91, 92],\n",
       "        [93, 94, 95]]])>"
      ]
     },
     "execution_count": 80,
     "metadata": {},
     "output_type": "execute_result"
    }
   ],
   "source": [
    "tf.reshape(x,[2,-1,3])"
   ]
  },
  {
   "cell_type": "markdown",
   "metadata": {},
   "source": [
    "### 增、删维度"
   ]
  },
  {
   "cell_type": "code",
   "execution_count": 81,
   "metadata": {
    "scrolled": true
   },
   "outputs": [
    {
     "data": {
      "text/plain": [
       "<tf.Tensor: shape=(28, 28), dtype=int32, numpy=\n",
       "array([[8, 3, 5, 1, 8, 0, 2, 2, 0, 9, 5, 1, 2, 4, 3, 3, 4, 2, 4, 6, 1, 9,\n",
       "        4, 9, 1, 8, 3, 6],\n",
       "       [8, 1, 0, 3, 1, 7, 2, 9, 8, 3, 0, 4, 4, 5, 9, 2, 0, 1, 6, 3, 5, 0,\n",
       "        4, 6, 5, 2, 2, 0],\n",
       "       [3, 1, 1, 0, 9, 7, 9, 8, 0, 5, 1, 9, 1, 1, 2, 3, 6, 1, 9, 9, 9, 2,\n",
       "        4, 2, 4, 4, 1, 0],\n",
       "       [3, 9, 2, 5, 7, 6, 3, 1, 6, 5, 3, 9, 7, 0, 8, 8, 4, 8, 2, 3, 8, 2,\n",
       "        9, 0, 3, 8, 3, 9],\n",
       "       [6, 7, 4, 8, 2, 7, 4, 9, 8, 1, 8, 8, 0, 9, 8, 1, 8, 2, 2, 7, 4, 5,\n",
       "        3, 4, 8, 0, 2, 2],\n",
       "       [9, 8, 6, 9, 0, 3, 2, 6, 5, 8, 8, 6, 7, 8, 6, 8, 3, 3, 3, 3, 3, 8,\n",
       "        5, 7, 5, 5, 7, 2],\n",
       "       [4, 6, 9, 0, 3, 0, 5, 9, 3, 5, 0, 9, 6, 4, 1, 3, 1, 3, 1, 6, 9, 2,\n",
       "        2, 4, 7, 7, 0, 3],\n",
       "       [8, 7, 6, 8, 8, 6, 9, 5, 8, 7, 4, 1, 8, 2, 9, 6, 2, 2, 0, 5, 1, 2,\n",
       "        9, 3, 4, 1, 2, 2],\n",
       "       [5, 8, 9, 6, 1, 2, 0, 3, 7, 1, 9, 2, 0, 5, 1, 0, 9, 6, 9, 5, 6, 9,\n",
       "        0, 7, 1, 0, 7, 0],\n",
       "       [2, 3, 9, 2, 8, 3, 4, 6, 9, 7, 6, 9, 9, 7, 6, 4, 4, 3, 1, 0, 5, 1,\n",
       "        9, 7, 3, 8, 8, 8],\n",
       "       [6, 6, 5, 9, 4, 9, 6, 0, 3, 9, 0, 6, 5, 1, 1, 7, 3, 2, 3, 8, 9, 8,\n",
       "        7, 6, 7, 9, 4, 1],\n",
       "       [8, 2, 9, 6, 9, 7, 6, 3, 3, 5, 6, 8, 3, 1, 0, 5, 1, 3, 2, 8, 4, 7,\n",
       "        2, 2, 7, 0, 7, 7],\n",
       "       [9, 8, 9, 1, 7, 3, 4, 5, 6, 4, 0, 6, 5, 0, 1, 0, 6, 2, 3, 5, 9, 9,\n",
       "        5, 8, 3, 5, 8, 4],\n",
       "       [0, 4, 3, 8, 9, 5, 6, 6, 1, 4, 2, 8, 1, 7, 0, 4, 8, 9, 3, 5, 6, 8,\n",
       "        1, 3, 9, 3, 0, 4],\n",
       "       [5, 8, 8, 7, 0, 6, 7, 6, 1, 2, 7, 4, 8, 6, 5, 0, 6, 4, 2, 7, 9, 9,\n",
       "        1, 4, 2, 8, 2, 5],\n",
       "       [5, 0, 6, 2, 0, 8, 1, 3, 1, 5, 9, 5, 2, 9, 0, 6, 4, 3, 4, 4, 9, 5,\n",
       "        5, 3, 1, 0, 2, 0],\n",
       "       [6, 1, 1, 2, 3, 9, 0, 5, 1, 3, 9, 2, 4, 3, 7, 2, 1, 5, 3, 5, 2, 8,\n",
       "        5, 0, 4, 1, 9, 1],\n",
       "       [8, 8, 2, 3, 3, 9, 6, 1, 8, 8, 7, 4, 6, 9, 8, 7, 2, 1, 4, 1, 5, 9,\n",
       "        8, 8, 1, 6, 4, 5],\n",
       "       [0, 0, 3, 5, 7, 0, 6, 3, 5, 8, 7, 0, 7, 5, 9, 0, 9, 3, 6, 0, 8, 9,\n",
       "        8, 5, 9, 7, 2, 4],\n",
       "       [3, 5, 9, 6, 0, 8, 8, 5, 9, 8, 2, 2, 6, 5, 5, 2, 8, 4, 6, 6, 0, 8,\n",
       "        9, 9, 8, 8, 8, 6],\n",
       "       [6, 4, 9, 8, 5, 6, 7, 8, 1, 5, 0, 2, 6, 8, 6, 2, 2, 2, 3, 5, 7, 6,\n",
       "        9, 4, 2, 1, 9, 9],\n",
       "       [2, 1, 3, 3, 2, 9, 6, 7, 5, 3, 2, 6, 5, 0, 5, 3, 0, 0, 1, 8, 0, 3,\n",
       "        1, 7, 5, 5, 9, 4],\n",
       "       [6, 1, 0, 1, 0, 0, 7, 4, 0, 6, 5, 8, 0, 3, 5, 3, 9, 0, 7, 6, 6, 0,\n",
       "        6, 6, 6, 5, 3, 7],\n",
       "       [0, 1, 4, 1, 1, 8, 1, 3, 4, 4, 5, 4, 4, 6, 2, 1, 4, 9, 1, 1, 4, 9,\n",
       "        8, 7, 3, 0, 2, 3],\n",
       "       [6, 1, 7, 5, 7, 9, 4, 5, 9, 0, 6, 9, 5, 3, 0, 4, 4, 7, 7, 1, 7, 5,\n",
       "        6, 0, 5, 8, 6, 1],\n",
       "       [1, 0, 7, 7, 0, 2, 9, 1, 0, 4, 2, 5, 7, 6, 6, 8, 8, 0, 4, 2, 5, 6,\n",
       "        8, 2, 3, 3, 2, 8],\n",
       "       [1, 4, 1, 5, 4, 8, 9, 4, 2, 1, 1, 3, 0, 0, 9, 9, 8, 3, 1, 5, 2, 6,\n",
       "        5, 2, 3, 9, 6, 0],\n",
       "       [0, 9, 1, 9, 8, 1, 6, 2, 9, 9, 8, 0, 5, 6, 5, 9, 2, 5, 8, 2, 9, 2,\n",
       "        1, 2, 8, 9, 7, 8]])>"
      ]
     },
     "execution_count": 81,
     "metadata": {},
     "output_type": "execute_result"
    }
   ],
   "source": [
    "# 产生矩阵\n",
    "x = tf.random.uniform([28,28],maxval=10,dtype=tf.int32)\n",
    "x"
   ]
  },
  {
   "cell_type": "markdown",
   "metadata": {},
   "source": [
    "通过 tf.expand_dims(x, axis)可在指定的 axis 轴前可以插入一个新的维度"
   ]
  },
  {
   "cell_type": "code",
   "execution_count": 82,
   "metadata": {
    "scrolled": true
   },
   "outputs": [
    {
     "data": {
      "text/plain": [
       "<tf.Tensor: shape=(28, 28, 1), dtype=int32, numpy=\n",
       "array([[[8],\n",
       "        [3],\n",
       "        [5],\n",
       "        [1],\n",
       "        [8],\n",
       "        [0],\n",
       "        [2],\n",
       "        [2],\n",
       "        [0],\n",
       "        [9],\n",
       "        [5],\n",
       "        [1],\n",
       "        [2],\n",
       "        [4],\n",
       "        [3],\n",
       "        [3],\n",
       "        [4],\n",
       "        [2],\n",
       "        [4],\n",
       "        [6],\n",
       "        [1],\n",
       "        [9],\n",
       "        [4],\n",
       "        [9],\n",
       "        [1],\n",
       "        [8],\n",
       "        [3],\n",
       "        [6]],\n",
       "\n",
       "       [[8],\n",
       "        [1],\n",
       "        [0],\n",
       "        [3],\n",
       "        [1],\n",
       "        [7],\n",
       "        [2],\n",
       "        [9],\n",
       "        [8],\n",
       "        [3],\n",
       "        [0],\n",
       "        [4],\n",
       "        [4],\n",
       "        [5],\n",
       "        [9],\n",
       "        [2],\n",
       "        [0],\n",
       "        [1],\n",
       "        [6],\n",
       "        [3],\n",
       "        [5],\n",
       "        [0],\n",
       "        [4],\n",
       "        [6],\n",
       "        [5],\n",
       "        [2],\n",
       "        [2],\n",
       "        [0]],\n",
       "\n",
       "       [[3],\n",
       "        [1],\n",
       "        [1],\n",
       "        [0],\n",
       "        [9],\n",
       "        [7],\n",
       "        [9],\n",
       "        [8],\n",
       "        [0],\n",
       "        [5],\n",
       "        [1],\n",
       "        [9],\n",
       "        [1],\n",
       "        [1],\n",
       "        [2],\n",
       "        [3],\n",
       "        [6],\n",
       "        [1],\n",
       "        [9],\n",
       "        [9],\n",
       "        [9],\n",
       "        [2],\n",
       "        [4],\n",
       "        [2],\n",
       "        [4],\n",
       "        [4],\n",
       "        [1],\n",
       "        [0]],\n",
       "\n",
       "       [[3],\n",
       "        [9],\n",
       "        [2],\n",
       "        [5],\n",
       "        [7],\n",
       "        [6],\n",
       "        [3],\n",
       "        [1],\n",
       "        [6],\n",
       "        [5],\n",
       "        [3],\n",
       "        [9],\n",
       "        [7],\n",
       "        [0],\n",
       "        [8],\n",
       "        [8],\n",
       "        [4],\n",
       "        [8],\n",
       "        [2],\n",
       "        [3],\n",
       "        [8],\n",
       "        [2],\n",
       "        [9],\n",
       "        [0],\n",
       "        [3],\n",
       "        [8],\n",
       "        [3],\n",
       "        [9]],\n",
       "\n",
       "       [[6],\n",
       "        [7],\n",
       "        [4],\n",
       "        [8],\n",
       "        [2],\n",
       "        [7],\n",
       "        [4],\n",
       "        [9],\n",
       "        [8],\n",
       "        [1],\n",
       "        [8],\n",
       "        [8],\n",
       "        [0],\n",
       "        [9],\n",
       "        [8],\n",
       "        [1],\n",
       "        [8],\n",
       "        [2],\n",
       "        [2],\n",
       "        [7],\n",
       "        [4],\n",
       "        [5],\n",
       "        [3],\n",
       "        [4],\n",
       "        [8],\n",
       "        [0],\n",
       "        [2],\n",
       "        [2]],\n",
       "\n",
       "       [[9],\n",
       "        [8],\n",
       "        [6],\n",
       "        [9],\n",
       "        [0],\n",
       "        [3],\n",
       "        [2],\n",
       "        [6],\n",
       "        [5],\n",
       "        [8],\n",
       "        [8],\n",
       "        [6],\n",
       "        [7],\n",
       "        [8],\n",
       "        [6],\n",
       "        [8],\n",
       "        [3],\n",
       "        [3],\n",
       "        [3],\n",
       "        [3],\n",
       "        [3],\n",
       "        [8],\n",
       "        [5],\n",
       "        [7],\n",
       "        [5],\n",
       "        [5],\n",
       "        [7],\n",
       "        [2]],\n",
       "\n",
       "       [[4],\n",
       "        [6],\n",
       "        [9],\n",
       "        [0],\n",
       "        [3],\n",
       "        [0],\n",
       "        [5],\n",
       "        [9],\n",
       "        [3],\n",
       "        [5],\n",
       "        [0],\n",
       "        [9],\n",
       "        [6],\n",
       "        [4],\n",
       "        [1],\n",
       "        [3],\n",
       "        [1],\n",
       "        [3],\n",
       "        [1],\n",
       "        [6],\n",
       "        [9],\n",
       "        [2],\n",
       "        [2],\n",
       "        [4],\n",
       "        [7],\n",
       "        [7],\n",
       "        [0],\n",
       "        [3]],\n",
       "\n",
       "       [[8],\n",
       "        [7],\n",
       "        [6],\n",
       "        [8],\n",
       "        [8],\n",
       "        [6],\n",
       "        [9],\n",
       "        [5],\n",
       "        [8],\n",
       "        [7],\n",
       "        [4],\n",
       "        [1],\n",
       "        [8],\n",
       "        [2],\n",
       "        [9],\n",
       "        [6],\n",
       "        [2],\n",
       "        [2],\n",
       "        [0],\n",
       "        [5],\n",
       "        [1],\n",
       "        [2],\n",
       "        [9],\n",
       "        [3],\n",
       "        [4],\n",
       "        [1],\n",
       "        [2],\n",
       "        [2]],\n",
       "\n",
       "       [[5],\n",
       "        [8],\n",
       "        [9],\n",
       "        [6],\n",
       "        [1],\n",
       "        [2],\n",
       "        [0],\n",
       "        [3],\n",
       "        [7],\n",
       "        [1],\n",
       "        [9],\n",
       "        [2],\n",
       "        [0],\n",
       "        [5],\n",
       "        [1],\n",
       "        [0],\n",
       "        [9],\n",
       "        [6],\n",
       "        [9],\n",
       "        [5],\n",
       "        [6],\n",
       "        [9],\n",
       "        [0],\n",
       "        [7],\n",
       "        [1],\n",
       "        [0],\n",
       "        [7],\n",
       "        [0]],\n",
       "\n",
       "       [[2],\n",
       "        [3],\n",
       "        [9],\n",
       "        [2],\n",
       "        [8],\n",
       "        [3],\n",
       "        [4],\n",
       "        [6],\n",
       "        [9],\n",
       "        [7],\n",
       "        [6],\n",
       "        [9],\n",
       "        [9],\n",
       "        [7],\n",
       "        [6],\n",
       "        [4],\n",
       "        [4],\n",
       "        [3],\n",
       "        [1],\n",
       "        [0],\n",
       "        [5],\n",
       "        [1],\n",
       "        [9],\n",
       "        [7],\n",
       "        [3],\n",
       "        [8],\n",
       "        [8],\n",
       "        [8]],\n",
       "\n",
       "       [[6],\n",
       "        [6],\n",
       "        [5],\n",
       "        [9],\n",
       "        [4],\n",
       "        [9],\n",
       "        [6],\n",
       "        [0],\n",
       "        [3],\n",
       "        [9],\n",
       "        [0],\n",
       "        [6],\n",
       "        [5],\n",
       "        [1],\n",
       "        [1],\n",
       "        [7],\n",
       "        [3],\n",
       "        [2],\n",
       "        [3],\n",
       "        [8],\n",
       "        [9],\n",
       "        [8],\n",
       "        [7],\n",
       "        [6],\n",
       "        [7],\n",
       "        [9],\n",
       "        [4],\n",
       "        [1]],\n",
       "\n",
       "       [[8],\n",
       "        [2],\n",
       "        [9],\n",
       "        [6],\n",
       "        [9],\n",
       "        [7],\n",
       "        [6],\n",
       "        [3],\n",
       "        [3],\n",
       "        [5],\n",
       "        [6],\n",
       "        [8],\n",
       "        [3],\n",
       "        [1],\n",
       "        [0],\n",
       "        [5],\n",
       "        [1],\n",
       "        [3],\n",
       "        [2],\n",
       "        [8],\n",
       "        [4],\n",
       "        [7],\n",
       "        [2],\n",
       "        [2],\n",
       "        [7],\n",
       "        [0],\n",
       "        [7],\n",
       "        [7]],\n",
       "\n",
       "       [[9],\n",
       "        [8],\n",
       "        [9],\n",
       "        [1],\n",
       "        [7],\n",
       "        [3],\n",
       "        [4],\n",
       "        [5],\n",
       "        [6],\n",
       "        [4],\n",
       "        [0],\n",
       "        [6],\n",
       "        [5],\n",
       "        [0],\n",
       "        [1],\n",
       "        [0],\n",
       "        [6],\n",
       "        [2],\n",
       "        [3],\n",
       "        [5],\n",
       "        [9],\n",
       "        [9],\n",
       "        [5],\n",
       "        [8],\n",
       "        [3],\n",
       "        [5],\n",
       "        [8],\n",
       "        [4]],\n",
       "\n",
       "       [[0],\n",
       "        [4],\n",
       "        [3],\n",
       "        [8],\n",
       "        [9],\n",
       "        [5],\n",
       "        [6],\n",
       "        [6],\n",
       "        [1],\n",
       "        [4],\n",
       "        [2],\n",
       "        [8],\n",
       "        [1],\n",
       "        [7],\n",
       "        [0],\n",
       "        [4],\n",
       "        [8],\n",
       "        [9],\n",
       "        [3],\n",
       "        [5],\n",
       "        [6],\n",
       "        [8],\n",
       "        [1],\n",
       "        [3],\n",
       "        [9],\n",
       "        [3],\n",
       "        [0],\n",
       "        [4]],\n",
       "\n",
       "       [[5],\n",
       "        [8],\n",
       "        [8],\n",
       "        [7],\n",
       "        [0],\n",
       "        [6],\n",
       "        [7],\n",
       "        [6],\n",
       "        [1],\n",
       "        [2],\n",
       "        [7],\n",
       "        [4],\n",
       "        [8],\n",
       "        [6],\n",
       "        [5],\n",
       "        [0],\n",
       "        [6],\n",
       "        [4],\n",
       "        [2],\n",
       "        [7],\n",
       "        [9],\n",
       "        [9],\n",
       "        [1],\n",
       "        [4],\n",
       "        [2],\n",
       "        [8],\n",
       "        [2],\n",
       "        [5]],\n",
       "\n",
       "       [[5],\n",
       "        [0],\n",
       "        [6],\n",
       "        [2],\n",
       "        [0],\n",
       "        [8],\n",
       "        [1],\n",
       "        [3],\n",
       "        [1],\n",
       "        [5],\n",
       "        [9],\n",
       "        [5],\n",
       "        [2],\n",
       "        [9],\n",
       "        [0],\n",
       "        [6],\n",
       "        [4],\n",
       "        [3],\n",
       "        [4],\n",
       "        [4],\n",
       "        [9],\n",
       "        [5],\n",
       "        [5],\n",
       "        [3],\n",
       "        [1],\n",
       "        [0],\n",
       "        [2],\n",
       "        [0]],\n",
       "\n",
       "       [[6],\n",
       "        [1],\n",
       "        [1],\n",
       "        [2],\n",
       "        [3],\n",
       "        [9],\n",
       "        [0],\n",
       "        [5],\n",
       "        [1],\n",
       "        [3],\n",
       "        [9],\n",
       "        [2],\n",
       "        [4],\n",
       "        [3],\n",
       "        [7],\n",
       "        [2],\n",
       "        [1],\n",
       "        [5],\n",
       "        [3],\n",
       "        [5],\n",
       "        [2],\n",
       "        [8],\n",
       "        [5],\n",
       "        [0],\n",
       "        [4],\n",
       "        [1],\n",
       "        [9],\n",
       "        [1]],\n",
       "\n",
       "       [[8],\n",
       "        [8],\n",
       "        [2],\n",
       "        [3],\n",
       "        [3],\n",
       "        [9],\n",
       "        [6],\n",
       "        [1],\n",
       "        [8],\n",
       "        [8],\n",
       "        [7],\n",
       "        [4],\n",
       "        [6],\n",
       "        [9],\n",
       "        [8],\n",
       "        [7],\n",
       "        [2],\n",
       "        [1],\n",
       "        [4],\n",
       "        [1],\n",
       "        [5],\n",
       "        [9],\n",
       "        [8],\n",
       "        [8],\n",
       "        [1],\n",
       "        [6],\n",
       "        [4],\n",
       "        [5]],\n",
       "\n",
       "       [[0],\n",
       "        [0],\n",
       "        [3],\n",
       "        [5],\n",
       "        [7],\n",
       "        [0],\n",
       "        [6],\n",
       "        [3],\n",
       "        [5],\n",
       "        [8],\n",
       "        [7],\n",
       "        [0],\n",
       "        [7],\n",
       "        [5],\n",
       "        [9],\n",
       "        [0],\n",
       "        [9],\n",
       "        [3],\n",
       "        [6],\n",
       "        [0],\n",
       "        [8],\n",
       "        [9],\n",
       "        [8],\n",
       "        [5],\n",
       "        [9],\n",
       "        [7],\n",
       "        [2],\n",
       "        [4]],\n",
       "\n",
       "       [[3],\n",
       "        [5],\n",
       "        [9],\n",
       "        [6],\n",
       "        [0],\n",
       "        [8],\n",
       "        [8],\n",
       "        [5],\n",
       "        [9],\n",
       "        [8],\n",
       "        [2],\n",
       "        [2],\n",
       "        [6],\n",
       "        [5],\n",
       "        [5],\n",
       "        [2],\n",
       "        [8],\n",
       "        [4],\n",
       "        [6],\n",
       "        [6],\n",
       "        [0],\n",
       "        [8],\n",
       "        [9],\n",
       "        [9],\n",
       "        [8],\n",
       "        [8],\n",
       "        [8],\n",
       "        [6]],\n",
       "\n",
       "       [[6],\n",
       "        [4],\n",
       "        [9],\n",
       "        [8],\n",
       "        [5],\n",
       "        [6],\n",
       "        [7],\n",
       "        [8],\n",
       "        [1],\n",
       "        [5],\n",
       "        [0],\n",
       "        [2],\n",
       "        [6],\n",
       "        [8],\n",
       "        [6],\n",
       "        [2],\n",
       "        [2],\n",
       "        [2],\n",
       "        [3],\n",
       "        [5],\n",
       "        [7],\n",
       "        [6],\n",
       "        [9],\n",
       "        [4],\n",
       "        [2],\n",
       "        [1],\n",
       "        [9],\n",
       "        [9]],\n",
       "\n",
       "       [[2],\n",
       "        [1],\n",
       "        [3],\n",
       "        [3],\n",
       "        [2],\n",
       "        [9],\n",
       "        [6],\n",
       "        [7],\n",
       "        [5],\n",
       "        [3],\n",
       "        [2],\n",
       "        [6],\n",
       "        [5],\n",
       "        [0],\n",
       "        [5],\n",
       "        [3],\n",
       "        [0],\n",
       "        [0],\n",
       "        [1],\n",
       "        [8],\n",
       "        [0],\n",
       "        [3],\n",
       "        [1],\n",
       "        [7],\n",
       "        [5],\n",
       "        [5],\n",
       "        [9],\n",
       "        [4]],\n",
       "\n",
       "       [[6],\n",
       "        [1],\n",
       "        [0],\n",
       "        [1],\n",
       "        [0],\n",
       "        [0],\n",
       "        [7],\n",
       "        [4],\n",
       "        [0],\n",
       "        [6],\n",
       "        [5],\n",
       "        [8],\n",
       "        [0],\n",
       "        [3],\n",
       "        [5],\n",
       "        [3],\n",
       "        [9],\n",
       "        [0],\n",
       "        [7],\n",
       "        [6],\n",
       "        [6],\n",
       "        [0],\n",
       "        [6],\n",
       "        [6],\n",
       "        [6],\n",
       "        [5],\n",
       "        [3],\n",
       "        [7]],\n",
       "\n",
       "       [[0],\n",
       "        [1],\n",
       "        [4],\n",
       "        [1],\n",
       "        [1],\n",
       "        [8],\n",
       "        [1],\n",
       "        [3],\n",
       "        [4],\n",
       "        [4],\n",
       "        [5],\n",
       "        [4],\n",
       "        [4],\n",
       "        [6],\n",
       "        [2],\n",
       "        [1],\n",
       "        [4],\n",
       "        [9],\n",
       "        [1],\n",
       "        [1],\n",
       "        [4],\n",
       "        [9],\n",
       "        [8],\n",
       "        [7],\n",
       "        [3],\n",
       "        [0],\n",
       "        [2],\n",
       "        [3]],\n",
       "\n",
       "       [[6],\n",
       "        [1],\n",
       "        [7],\n",
       "        [5],\n",
       "        [7],\n",
       "        [9],\n",
       "        [4],\n",
       "        [5],\n",
       "        [9],\n",
       "        [0],\n",
       "        [6],\n",
       "        [9],\n",
       "        [5],\n",
       "        [3],\n",
       "        [0],\n",
       "        [4],\n",
       "        [4],\n",
       "        [7],\n",
       "        [7],\n",
       "        [1],\n",
       "        [7],\n",
       "        [5],\n",
       "        [6],\n",
       "        [0],\n",
       "        [5],\n",
       "        [8],\n",
       "        [6],\n",
       "        [1]],\n",
       "\n",
       "       [[1],\n",
       "        [0],\n",
       "        [7],\n",
       "        [7],\n",
       "        [0],\n",
       "        [2],\n",
       "        [9],\n",
       "        [1],\n",
       "        [0],\n",
       "        [4],\n",
       "        [2],\n",
       "        [5],\n",
       "        [7],\n",
       "        [6],\n",
       "        [6],\n",
       "        [8],\n",
       "        [8],\n",
       "        [0],\n",
       "        [4],\n",
       "        [2],\n",
       "        [5],\n",
       "        [6],\n",
       "        [8],\n",
       "        [2],\n",
       "        [3],\n",
       "        [3],\n",
       "        [2],\n",
       "        [8]],\n",
       "\n",
       "       [[1],\n",
       "        [4],\n",
       "        [1],\n",
       "        [5],\n",
       "        [4],\n",
       "        [8],\n",
       "        [9],\n",
       "        [4],\n",
       "        [2],\n",
       "        [1],\n",
       "        [1],\n",
       "        [3],\n",
       "        [0],\n",
       "        [0],\n",
       "        [9],\n",
       "        [9],\n",
       "        [8],\n",
       "        [3],\n",
       "        [1],\n",
       "        [5],\n",
       "        [2],\n",
       "        [6],\n",
       "        [5],\n",
       "        [2],\n",
       "        [3],\n",
       "        [9],\n",
       "        [6],\n",
       "        [0]],\n",
       "\n",
       "       [[0],\n",
       "        [9],\n",
       "        [1],\n",
       "        [9],\n",
       "        [8],\n",
       "        [1],\n",
       "        [6],\n",
       "        [2],\n",
       "        [9],\n",
       "        [9],\n",
       "        [8],\n",
       "        [0],\n",
       "        [5],\n",
       "        [6],\n",
       "        [5],\n",
       "        [9],\n",
       "        [2],\n",
       "        [5],\n",
       "        [8],\n",
       "        [2],\n",
       "        [9],\n",
       "        [2],\n",
       "        [1],\n",
       "        [2],\n",
       "        [8],\n",
       "        [9],\n",
       "        [7],\n",
       "        [8]]])>"
      ]
     },
     "execution_count": 82,
     "metadata": {},
     "output_type": "execute_result"
    }
   ],
   "source": [
    "# axis=2 表示宽维度后面的一个维度\n",
    "x = tf.expand_dims(x,axis=2) \n",
    "x"
   ]
  },
  {
   "cell_type": "code",
   "execution_count": 83,
   "metadata": {},
   "outputs": [
    {
     "data": {
      "text/plain": [
       "<tf.Tensor: shape=(1, 28, 28, 1), dtype=int32, numpy=\n",
       "array([[[[8],\n",
       "         [3],\n",
       "         [5],\n",
       "         [1],\n",
       "         [8],\n",
       "         [0],\n",
       "         [2],\n",
       "         [2],\n",
       "         [0],\n",
       "         [9],\n",
       "         [5],\n",
       "         [1],\n",
       "         [2],\n",
       "         [4],\n",
       "         [3],\n",
       "         [3],\n",
       "         [4],\n",
       "         [2],\n",
       "         [4],\n",
       "         [6],\n",
       "         [1],\n",
       "         [9],\n",
       "         [4],\n",
       "         [9],\n",
       "         [1],\n",
       "         [8],\n",
       "         [3],\n",
       "         [6]],\n",
       "\n",
       "        [[8],\n",
       "         [1],\n",
       "         [0],\n",
       "         [3],\n",
       "         [1],\n",
       "         [7],\n",
       "         [2],\n",
       "         [9],\n",
       "         [8],\n",
       "         [3],\n",
       "         [0],\n",
       "         [4],\n",
       "         [4],\n",
       "         [5],\n",
       "         [9],\n",
       "         [2],\n",
       "         [0],\n",
       "         [1],\n",
       "         [6],\n",
       "         [3],\n",
       "         [5],\n",
       "         [0],\n",
       "         [4],\n",
       "         [6],\n",
       "         [5],\n",
       "         [2],\n",
       "         [2],\n",
       "         [0]],\n",
       "\n",
       "        [[3],\n",
       "         [1],\n",
       "         [1],\n",
       "         [0],\n",
       "         [9],\n",
       "         [7],\n",
       "         [9],\n",
       "         [8],\n",
       "         [0],\n",
       "         [5],\n",
       "         [1],\n",
       "         [9],\n",
       "         [1],\n",
       "         [1],\n",
       "         [2],\n",
       "         [3],\n",
       "         [6],\n",
       "         [1],\n",
       "         [9],\n",
       "         [9],\n",
       "         [9],\n",
       "         [2],\n",
       "         [4],\n",
       "         [2],\n",
       "         [4],\n",
       "         [4],\n",
       "         [1],\n",
       "         [0]],\n",
       "\n",
       "        [[3],\n",
       "         [9],\n",
       "         [2],\n",
       "         [5],\n",
       "         [7],\n",
       "         [6],\n",
       "         [3],\n",
       "         [1],\n",
       "         [6],\n",
       "         [5],\n",
       "         [3],\n",
       "         [9],\n",
       "         [7],\n",
       "         [0],\n",
       "         [8],\n",
       "         [8],\n",
       "         [4],\n",
       "         [8],\n",
       "         [2],\n",
       "         [3],\n",
       "         [8],\n",
       "         [2],\n",
       "         [9],\n",
       "         [0],\n",
       "         [3],\n",
       "         [8],\n",
       "         [3],\n",
       "         [9]],\n",
       "\n",
       "        [[6],\n",
       "         [7],\n",
       "         [4],\n",
       "         [8],\n",
       "         [2],\n",
       "         [7],\n",
       "         [4],\n",
       "         [9],\n",
       "         [8],\n",
       "         [1],\n",
       "         [8],\n",
       "         [8],\n",
       "         [0],\n",
       "         [9],\n",
       "         [8],\n",
       "         [1],\n",
       "         [8],\n",
       "         [2],\n",
       "         [2],\n",
       "         [7],\n",
       "         [4],\n",
       "         [5],\n",
       "         [3],\n",
       "         [4],\n",
       "         [8],\n",
       "         [0],\n",
       "         [2],\n",
       "         [2]],\n",
       "\n",
       "        [[9],\n",
       "         [8],\n",
       "         [6],\n",
       "         [9],\n",
       "         [0],\n",
       "         [3],\n",
       "         [2],\n",
       "         [6],\n",
       "         [5],\n",
       "         [8],\n",
       "         [8],\n",
       "         [6],\n",
       "         [7],\n",
       "         [8],\n",
       "         [6],\n",
       "         [8],\n",
       "         [3],\n",
       "         [3],\n",
       "         [3],\n",
       "         [3],\n",
       "         [3],\n",
       "         [8],\n",
       "         [5],\n",
       "         [7],\n",
       "         [5],\n",
       "         [5],\n",
       "         [7],\n",
       "         [2]],\n",
       "\n",
       "        [[4],\n",
       "         [6],\n",
       "         [9],\n",
       "         [0],\n",
       "         [3],\n",
       "         [0],\n",
       "         [5],\n",
       "         [9],\n",
       "         [3],\n",
       "         [5],\n",
       "         [0],\n",
       "         [9],\n",
       "         [6],\n",
       "         [4],\n",
       "         [1],\n",
       "         [3],\n",
       "         [1],\n",
       "         [3],\n",
       "         [1],\n",
       "         [6],\n",
       "         [9],\n",
       "         [2],\n",
       "         [2],\n",
       "         [4],\n",
       "         [7],\n",
       "         [7],\n",
       "         [0],\n",
       "         [3]],\n",
       "\n",
       "        [[8],\n",
       "         [7],\n",
       "         [6],\n",
       "         [8],\n",
       "         [8],\n",
       "         [6],\n",
       "         [9],\n",
       "         [5],\n",
       "         [8],\n",
       "         [7],\n",
       "         [4],\n",
       "         [1],\n",
       "         [8],\n",
       "         [2],\n",
       "         [9],\n",
       "         [6],\n",
       "         [2],\n",
       "         [2],\n",
       "         [0],\n",
       "         [5],\n",
       "         [1],\n",
       "         [2],\n",
       "         [9],\n",
       "         [3],\n",
       "         [4],\n",
       "         [1],\n",
       "         [2],\n",
       "         [2]],\n",
       "\n",
       "        [[5],\n",
       "         [8],\n",
       "         [9],\n",
       "         [6],\n",
       "         [1],\n",
       "         [2],\n",
       "         [0],\n",
       "         [3],\n",
       "         [7],\n",
       "         [1],\n",
       "         [9],\n",
       "         [2],\n",
       "         [0],\n",
       "         [5],\n",
       "         [1],\n",
       "         [0],\n",
       "         [9],\n",
       "         [6],\n",
       "         [9],\n",
       "         [5],\n",
       "         [6],\n",
       "         [9],\n",
       "         [0],\n",
       "         [7],\n",
       "         [1],\n",
       "         [0],\n",
       "         [7],\n",
       "         [0]],\n",
       "\n",
       "        [[2],\n",
       "         [3],\n",
       "         [9],\n",
       "         [2],\n",
       "         [8],\n",
       "         [3],\n",
       "         [4],\n",
       "         [6],\n",
       "         [9],\n",
       "         [7],\n",
       "         [6],\n",
       "         [9],\n",
       "         [9],\n",
       "         [7],\n",
       "         [6],\n",
       "         [4],\n",
       "         [4],\n",
       "         [3],\n",
       "         [1],\n",
       "         [0],\n",
       "         [5],\n",
       "         [1],\n",
       "         [9],\n",
       "         [7],\n",
       "         [3],\n",
       "         [8],\n",
       "         [8],\n",
       "         [8]],\n",
       "\n",
       "        [[6],\n",
       "         [6],\n",
       "         [5],\n",
       "         [9],\n",
       "         [4],\n",
       "         [9],\n",
       "         [6],\n",
       "         [0],\n",
       "         [3],\n",
       "         [9],\n",
       "         [0],\n",
       "         [6],\n",
       "         [5],\n",
       "         [1],\n",
       "         [1],\n",
       "         [7],\n",
       "         [3],\n",
       "         [2],\n",
       "         [3],\n",
       "         [8],\n",
       "         [9],\n",
       "         [8],\n",
       "         [7],\n",
       "         [6],\n",
       "         [7],\n",
       "         [9],\n",
       "         [4],\n",
       "         [1]],\n",
       "\n",
       "        [[8],\n",
       "         [2],\n",
       "         [9],\n",
       "         [6],\n",
       "         [9],\n",
       "         [7],\n",
       "         [6],\n",
       "         [3],\n",
       "         [3],\n",
       "         [5],\n",
       "         [6],\n",
       "         [8],\n",
       "         [3],\n",
       "         [1],\n",
       "         [0],\n",
       "         [5],\n",
       "         [1],\n",
       "         [3],\n",
       "         [2],\n",
       "         [8],\n",
       "         [4],\n",
       "         [7],\n",
       "         [2],\n",
       "         [2],\n",
       "         [7],\n",
       "         [0],\n",
       "         [7],\n",
       "         [7]],\n",
       "\n",
       "        [[9],\n",
       "         [8],\n",
       "         [9],\n",
       "         [1],\n",
       "         [7],\n",
       "         [3],\n",
       "         [4],\n",
       "         [5],\n",
       "         [6],\n",
       "         [4],\n",
       "         [0],\n",
       "         [6],\n",
       "         [5],\n",
       "         [0],\n",
       "         [1],\n",
       "         [0],\n",
       "         [6],\n",
       "         [2],\n",
       "         [3],\n",
       "         [5],\n",
       "         [9],\n",
       "         [9],\n",
       "         [5],\n",
       "         [8],\n",
       "         [3],\n",
       "         [5],\n",
       "         [8],\n",
       "         [4]],\n",
       "\n",
       "        [[0],\n",
       "         [4],\n",
       "         [3],\n",
       "         [8],\n",
       "         [9],\n",
       "         [5],\n",
       "         [6],\n",
       "         [6],\n",
       "         [1],\n",
       "         [4],\n",
       "         [2],\n",
       "         [8],\n",
       "         [1],\n",
       "         [7],\n",
       "         [0],\n",
       "         [4],\n",
       "         [8],\n",
       "         [9],\n",
       "         [3],\n",
       "         [5],\n",
       "         [6],\n",
       "         [8],\n",
       "         [1],\n",
       "         [3],\n",
       "         [9],\n",
       "         [3],\n",
       "         [0],\n",
       "         [4]],\n",
       "\n",
       "        [[5],\n",
       "         [8],\n",
       "         [8],\n",
       "         [7],\n",
       "         [0],\n",
       "         [6],\n",
       "         [7],\n",
       "         [6],\n",
       "         [1],\n",
       "         [2],\n",
       "         [7],\n",
       "         [4],\n",
       "         [8],\n",
       "         [6],\n",
       "         [5],\n",
       "         [0],\n",
       "         [6],\n",
       "         [4],\n",
       "         [2],\n",
       "         [7],\n",
       "         [9],\n",
       "         [9],\n",
       "         [1],\n",
       "         [4],\n",
       "         [2],\n",
       "         [8],\n",
       "         [2],\n",
       "         [5]],\n",
       "\n",
       "        [[5],\n",
       "         [0],\n",
       "         [6],\n",
       "         [2],\n",
       "         [0],\n",
       "         [8],\n",
       "         [1],\n",
       "         [3],\n",
       "         [1],\n",
       "         [5],\n",
       "         [9],\n",
       "         [5],\n",
       "         [2],\n",
       "         [9],\n",
       "         [0],\n",
       "         [6],\n",
       "         [4],\n",
       "         [3],\n",
       "         [4],\n",
       "         [4],\n",
       "         [9],\n",
       "         [5],\n",
       "         [5],\n",
       "         [3],\n",
       "         [1],\n",
       "         [0],\n",
       "         [2],\n",
       "         [0]],\n",
       "\n",
       "        [[6],\n",
       "         [1],\n",
       "         [1],\n",
       "         [2],\n",
       "         [3],\n",
       "         [9],\n",
       "         [0],\n",
       "         [5],\n",
       "         [1],\n",
       "         [3],\n",
       "         [9],\n",
       "         [2],\n",
       "         [4],\n",
       "         [3],\n",
       "         [7],\n",
       "         [2],\n",
       "         [1],\n",
       "         [5],\n",
       "         [3],\n",
       "         [5],\n",
       "         [2],\n",
       "         [8],\n",
       "         [5],\n",
       "         [0],\n",
       "         [4],\n",
       "         [1],\n",
       "         [9],\n",
       "         [1]],\n",
       "\n",
       "        [[8],\n",
       "         [8],\n",
       "         [2],\n",
       "         [3],\n",
       "         [3],\n",
       "         [9],\n",
       "         [6],\n",
       "         [1],\n",
       "         [8],\n",
       "         [8],\n",
       "         [7],\n",
       "         [4],\n",
       "         [6],\n",
       "         [9],\n",
       "         [8],\n",
       "         [7],\n",
       "         [2],\n",
       "         [1],\n",
       "         [4],\n",
       "         [1],\n",
       "         [5],\n",
       "         [9],\n",
       "         [8],\n",
       "         [8],\n",
       "         [1],\n",
       "         [6],\n",
       "         [4],\n",
       "         [5]],\n",
       "\n",
       "        [[0],\n",
       "         [0],\n",
       "         [3],\n",
       "         [5],\n",
       "         [7],\n",
       "         [0],\n",
       "         [6],\n",
       "         [3],\n",
       "         [5],\n",
       "         [8],\n",
       "         [7],\n",
       "         [0],\n",
       "         [7],\n",
       "         [5],\n",
       "         [9],\n",
       "         [0],\n",
       "         [9],\n",
       "         [3],\n",
       "         [6],\n",
       "         [0],\n",
       "         [8],\n",
       "         [9],\n",
       "         [8],\n",
       "         [5],\n",
       "         [9],\n",
       "         [7],\n",
       "         [2],\n",
       "         [4]],\n",
       "\n",
       "        [[3],\n",
       "         [5],\n",
       "         [9],\n",
       "         [6],\n",
       "         [0],\n",
       "         [8],\n",
       "         [8],\n",
       "         [5],\n",
       "         [9],\n",
       "         [8],\n",
       "         [2],\n",
       "         [2],\n",
       "         [6],\n",
       "         [5],\n",
       "         [5],\n",
       "         [2],\n",
       "         [8],\n",
       "         [4],\n",
       "         [6],\n",
       "         [6],\n",
       "         [0],\n",
       "         [8],\n",
       "         [9],\n",
       "         [9],\n",
       "         [8],\n",
       "         [8],\n",
       "         [8],\n",
       "         [6]],\n",
       "\n",
       "        [[6],\n",
       "         [4],\n",
       "         [9],\n",
       "         [8],\n",
       "         [5],\n",
       "         [6],\n",
       "         [7],\n",
       "         [8],\n",
       "         [1],\n",
       "         [5],\n",
       "         [0],\n",
       "         [2],\n",
       "         [6],\n",
       "         [8],\n",
       "         [6],\n",
       "         [2],\n",
       "         [2],\n",
       "         [2],\n",
       "         [3],\n",
       "         [5],\n",
       "         [7],\n",
       "         [6],\n",
       "         [9],\n",
       "         [4],\n",
       "         [2],\n",
       "         [1],\n",
       "         [9],\n",
       "         [9]],\n",
       "\n",
       "        [[2],\n",
       "         [1],\n",
       "         [3],\n",
       "         [3],\n",
       "         [2],\n",
       "         [9],\n",
       "         [6],\n",
       "         [7],\n",
       "         [5],\n",
       "         [3],\n",
       "         [2],\n",
       "         [6],\n",
       "         [5],\n",
       "         [0],\n",
       "         [5],\n",
       "         [3],\n",
       "         [0],\n",
       "         [0],\n",
       "         [1],\n",
       "         [8],\n",
       "         [0],\n",
       "         [3],\n",
       "         [1],\n",
       "         [7],\n",
       "         [5],\n",
       "         [5],\n",
       "         [9],\n",
       "         [4]],\n",
       "\n",
       "        [[6],\n",
       "         [1],\n",
       "         [0],\n",
       "         [1],\n",
       "         [0],\n",
       "         [0],\n",
       "         [7],\n",
       "         [4],\n",
       "         [0],\n",
       "         [6],\n",
       "         [5],\n",
       "         [8],\n",
       "         [0],\n",
       "         [3],\n",
       "         [5],\n",
       "         [3],\n",
       "         [9],\n",
       "         [0],\n",
       "         [7],\n",
       "         [6],\n",
       "         [6],\n",
       "         [0],\n",
       "         [6],\n",
       "         [6],\n",
       "         [6],\n",
       "         [5],\n",
       "         [3],\n",
       "         [7]],\n",
       "\n",
       "        [[0],\n",
       "         [1],\n",
       "         [4],\n",
       "         [1],\n",
       "         [1],\n",
       "         [8],\n",
       "         [1],\n",
       "         [3],\n",
       "         [4],\n",
       "         [4],\n",
       "         [5],\n",
       "         [4],\n",
       "         [4],\n",
       "         [6],\n",
       "         [2],\n",
       "         [1],\n",
       "         [4],\n",
       "         [9],\n",
       "         [1],\n",
       "         [1],\n",
       "         [4],\n",
       "         [9],\n",
       "         [8],\n",
       "         [7],\n",
       "         [3],\n",
       "         [0],\n",
       "         [2],\n",
       "         [3]],\n",
       "\n",
       "        [[6],\n",
       "         [1],\n",
       "         [7],\n",
       "         [5],\n",
       "         [7],\n",
       "         [9],\n",
       "         [4],\n",
       "         [5],\n",
       "         [9],\n",
       "         [0],\n",
       "         [6],\n",
       "         [9],\n",
       "         [5],\n",
       "         [3],\n",
       "         [0],\n",
       "         [4],\n",
       "         [4],\n",
       "         [7],\n",
       "         [7],\n",
       "         [1],\n",
       "         [7],\n",
       "         [5],\n",
       "         [6],\n",
       "         [0],\n",
       "         [5],\n",
       "         [8],\n",
       "         [6],\n",
       "         [1]],\n",
       "\n",
       "        [[1],\n",
       "         [0],\n",
       "         [7],\n",
       "         [7],\n",
       "         [0],\n",
       "         [2],\n",
       "         [9],\n",
       "         [1],\n",
       "         [0],\n",
       "         [4],\n",
       "         [2],\n",
       "         [5],\n",
       "         [7],\n",
       "         [6],\n",
       "         [6],\n",
       "         [8],\n",
       "         [8],\n",
       "         [0],\n",
       "         [4],\n",
       "         [2],\n",
       "         [5],\n",
       "         [6],\n",
       "         [8],\n",
       "         [2],\n",
       "         [3],\n",
       "         [3],\n",
       "         [2],\n",
       "         [8]],\n",
       "\n",
       "        [[1],\n",
       "         [4],\n",
       "         [1],\n",
       "         [5],\n",
       "         [4],\n",
       "         [8],\n",
       "         [9],\n",
       "         [4],\n",
       "         [2],\n",
       "         [1],\n",
       "         [1],\n",
       "         [3],\n",
       "         [0],\n",
       "         [0],\n",
       "         [9],\n",
       "         [9],\n",
       "         [8],\n",
       "         [3],\n",
       "         [1],\n",
       "         [5],\n",
       "         [2],\n",
       "         [6],\n",
       "         [5],\n",
       "         [2],\n",
       "         [3],\n",
       "         [9],\n",
       "         [6],\n",
       "         [0]],\n",
       "\n",
       "        [[0],\n",
       "         [9],\n",
       "         [1],\n",
       "         [9],\n",
       "         [8],\n",
       "         [1],\n",
       "         [6],\n",
       "         [2],\n",
       "         [9],\n",
       "         [9],\n",
       "         [8],\n",
       "         [0],\n",
       "         [5],\n",
       "         [6],\n",
       "         [5],\n",
       "         [9],\n",
       "         [2],\n",
       "         [5],\n",
       "         [8],\n",
       "         [2],\n",
       "         [9],\n",
       "         [2],\n",
       "         [1],\n",
       "         [2],\n",
       "         [8],\n",
       "         [9],\n",
       "         [7],\n",
       "         [8]]]])>"
      ]
     },
     "execution_count": 83,
     "metadata": {},
     "output_type": "execute_result"
    }
   ],
   "source": [
    "x = tf.expand_dims(x,axis=0) # 高维度之前插入新维度\n",
    "x"
   ]
  },
  {
   "cell_type": "code",
   "execution_count": 84,
   "metadata": {},
   "outputs": [
    {
     "data": {
      "text/plain": [
       "<tf.Tensor: shape=(28, 28, 1), dtype=int32, numpy=\n",
       "array([[[8],\n",
       "        [3],\n",
       "        [5],\n",
       "        [1],\n",
       "        [8],\n",
       "        [0],\n",
       "        [2],\n",
       "        [2],\n",
       "        [0],\n",
       "        [9],\n",
       "        [5],\n",
       "        [1],\n",
       "        [2],\n",
       "        [4],\n",
       "        [3],\n",
       "        [3],\n",
       "        [4],\n",
       "        [2],\n",
       "        [4],\n",
       "        [6],\n",
       "        [1],\n",
       "        [9],\n",
       "        [4],\n",
       "        [9],\n",
       "        [1],\n",
       "        [8],\n",
       "        [3],\n",
       "        [6]],\n",
       "\n",
       "       [[8],\n",
       "        [1],\n",
       "        [0],\n",
       "        [3],\n",
       "        [1],\n",
       "        [7],\n",
       "        [2],\n",
       "        [9],\n",
       "        [8],\n",
       "        [3],\n",
       "        [0],\n",
       "        [4],\n",
       "        [4],\n",
       "        [5],\n",
       "        [9],\n",
       "        [2],\n",
       "        [0],\n",
       "        [1],\n",
       "        [6],\n",
       "        [3],\n",
       "        [5],\n",
       "        [0],\n",
       "        [4],\n",
       "        [6],\n",
       "        [5],\n",
       "        [2],\n",
       "        [2],\n",
       "        [0]],\n",
       "\n",
       "       [[3],\n",
       "        [1],\n",
       "        [1],\n",
       "        [0],\n",
       "        [9],\n",
       "        [7],\n",
       "        [9],\n",
       "        [8],\n",
       "        [0],\n",
       "        [5],\n",
       "        [1],\n",
       "        [9],\n",
       "        [1],\n",
       "        [1],\n",
       "        [2],\n",
       "        [3],\n",
       "        [6],\n",
       "        [1],\n",
       "        [9],\n",
       "        [9],\n",
       "        [9],\n",
       "        [2],\n",
       "        [4],\n",
       "        [2],\n",
       "        [4],\n",
       "        [4],\n",
       "        [1],\n",
       "        [0]],\n",
       "\n",
       "       [[3],\n",
       "        [9],\n",
       "        [2],\n",
       "        [5],\n",
       "        [7],\n",
       "        [6],\n",
       "        [3],\n",
       "        [1],\n",
       "        [6],\n",
       "        [5],\n",
       "        [3],\n",
       "        [9],\n",
       "        [7],\n",
       "        [0],\n",
       "        [8],\n",
       "        [8],\n",
       "        [4],\n",
       "        [8],\n",
       "        [2],\n",
       "        [3],\n",
       "        [8],\n",
       "        [2],\n",
       "        [9],\n",
       "        [0],\n",
       "        [3],\n",
       "        [8],\n",
       "        [3],\n",
       "        [9]],\n",
       "\n",
       "       [[6],\n",
       "        [7],\n",
       "        [4],\n",
       "        [8],\n",
       "        [2],\n",
       "        [7],\n",
       "        [4],\n",
       "        [9],\n",
       "        [8],\n",
       "        [1],\n",
       "        [8],\n",
       "        [8],\n",
       "        [0],\n",
       "        [9],\n",
       "        [8],\n",
       "        [1],\n",
       "        [8],\n",
       "        [2],\n",
       "        [2],\n",
       "        [7],\n",
       "        [4],\n",
       "        [5],\n",
       "        [3],\n",
       "        [4],\n",
       "        [8],\n",
       "        [0],\n",
       "        [2],\n",
       "        [2]],\n",
       "\n",
       "       [[9],\n",
       "        [8],\n",
       "        [6],\n",
       "        [9],\n",
       "        [0],\n",
       "        [3],\n",
       "        [2],\n",
       "        [6],\n",
       "        [5],\n",
       "        [8],\n",
       "        [8],\n",
       "        [6],\n",
       "        [7],\n",
       "        [8],\n",
       "        [6],\n",
       "        [8],\n",
       "        [3],\n",
       "        [3],\n",
       "        [3],\n",
       "        [3],\n",
       "        [3],\n",
       "        [8],\n",
       "        [5],\n",
       "        [7],\n",
       "        [5],\n",
       "        [5],\n",
       "        [7],\n",
       "        [2]],\n",
       "\n",
       "       [[4],\n",
       "        [6],\n",
       "        [9],\n",
       "        [0],\n",
       "        [3],\n",
       "        [0],\n",
       "        [5],\n",
       "        [9],\n",
       "        [3],\n",
       "        [5],\n",
       "        [0],\n",
       "        [9],\n",
       "        [6],\n",
       "        [4],\n",
       "        [1],\n",
       "        [3],\n",
       "        [1],\n",
       "        [3],\n",
       "        [1],\n",
       "        [6],\n",
       "        [9],\n",
       "        [2],\n",
       "        [2],\n",
       "        [4],\n",
       "        [7],\n",
       "        [7],\n",
       "        [0],\n",
       "        [3]],\n",
       "\n",
       "       [[8],\n",
       "        [7],\n",
       "        [6],\n",
       "        [8],\n",
       "        [8],\n",
       "        [6],\n",
       "        [9],\n",
       "        [5],\n",
       "        [8],\n",
       "        [7],\n",
       "        [4],\n",
       "        [1],\n",
       "        [8],\n",
       "        [2],\n",
       "        [9],\n",
       "        [6],\n",
       "        [2],\n",
       "        [2],\n",
       "        [0],\n",
       "        [5],\n",
       "        [1],\n",
       "        [2],\n",
       "        [9],\n",
       "        [3],\n",
       "        [4],\n",
       "        [1],\n",
       "        [2],\n",
       "        [2]],\n",
       "\n",
       "       [[5],\n",
       "        [8],\n",
       "        [9],\n",
       "        [6],\n",
       "        [1],\n",
       "        [2],\n",
       "        [0],\n",
       "        [3],\n",
       "        [7],\n",
       "        [1],\n",
       "        [9],\n",
       "        [2],\n",
       "        [0],\n",
       "        [5],\n",
       "        [1],\n",
       "        [0],\n",
       "        [9],\n",
       "        [6],\n",
       "        [9],\n",
       "        [5],\n",
       "        [6],\n",
       "        [9],\n",
       "        [0],\n",
       "        [7],\n",
       "        [1],\n",
       "        [0],\n",
       "        [7],\n",
       "        [0]],\n",
       "\n",
       "       [[2],\n",
       "        [3],\n",
       "        [9],\n",
       "        [2],\n",
       "        [8],\n",
       "        [3],\n",
       "        [4],\n",
       "        [6],\n",
       "        [9],\n",
       "        [7],\n",
       "        [6],\n",
       "        [9],\n",
       "        [9],\n",
       "        [7],\n",
       "        [6],\n",
       "        [4],\n",
       "        [4],\n",
       "        [3],\n",
       "        [1],\n",
       "        [0],\n",
       "        [5],\n",
       "        [1],\n",
       "        [9],\n",
       "        [7],\n",
       "        [3],\n",
       "        [8],\n",
       "        [8],\n",
       "        [8]],\n",
       "\n",
       "       [[6],\n",
       "        [6],\n",
       "        [5],\n",
       "        [9],\n",
       "        [4],\n",
       "        [9],\n",
       "        [6],\n",
       "        [0],\n",
       "        [3],\n",
       "        [9],\n",
       "        [0],\n",
       "        [6],\n",
       "        [5],\n",
       "        [1],\n",
       "        [1],\n",
       "        [7],\n",
       "        [3],\n",
       "        [2],\n",
       "        [3],\n",
       "        [8],\n",
       "        [9],\n",
       "        [8],\n",
       "        [7],\n",
       "        [6],\n",
       "        [7],\n",
       "        [9],\n",
       "        [4],\n",
       "        [1]],\n",
       "\n",
       "       [[8],\n",
       "        [2],\n",
       "        [9],\n",
       "        [6],\n",
       "        [9],\n",
       "        [7],\n",
       "        [6],\n",
       "        [3],\n",
       "        [3],\n",
       "        [5],\n",
       "        [6],\n",
       "        [8],\n",
       "        [3],\n",
       "        [1],\n",
       "        [0],\n",
       "        [5],\n",
       "        [1],\n",
       "        [3],\n",
       "        [2],\n",
       "        [8],\n",
       "        [4],\n",
       "        [7],\n",
       "        [2],\n",
       "        [2],\n",
       "        [7],\n",
       "        [0],\n",
       "        [7],\n",
       "        [7]],\n",
       "\n",
       "       [[9],\n",
       "        [8],\n",
       "        [9],\n",
       "        [1],\n",
       "        [7],\n",
       "        [3],\n",
       "        [4],\n",
       "        [5],\n",
       "        [6],\n",
       "        [4],\n",
       "        [0],\n",
       "        [6],\n",
       "        [5],\n",
       "        [0],\n",
       "        [1],\n",
       "        [0],\n",
       "        [6],\n",
       "        [2],\n",
       "        [3],\n",
       "        [5],\n",
       "        [9],\n",
       "        [9],\n",
       "        [5],\n",
       "        [8],\n",
       "        [3],\n",
       "        [5],\n",
       "        [8],\n",
       "        [4]],\n",
       "\n",
       "       [[0],\n",
       "        [4],\n",
       "        [3],\n",
       "        [8],\n",
       "        [9],\n",
       "        [5],\n",
       "        [6],\n",
       "        [6],\n",
       "        [1],\n",
       "        [4],\n",
       "        [2],\n",
       "        [8],\n",
       "        [1],\n",
       "        [7],\n",
       "        [0],\n",
       "        [4],\n",
       "        [8],\n",
       "        [9],\n",
       "        [3],\n",
       "        [5],\n",
       "        [6],\n",
       "        [8],\n",
       "        [1],\n",
       "        [3],\n",
       "        [9],\n",
       "        [3],\n",
       "        [0],\n",
       "        [4]],\n",
       "\n",
       "       [[5],\n",
       "        [8],\n",
       "        [8],\n",
       "        [7],\n",
       "        [0],\n",
       "        [6],\n",
       "        [7],\n",
       "        [6],\n",
       "        [1],\n",
       "        [2],\n",
       "        [7],\n",
       "        [4],\n",
       "        [8],\n",
       "        [6],\n",
       "        [5],\n",
       "        [0],\n",
       "        [6],\n",
       "        [4],\n",
       "        [2],\n",
       "        [7],\n",
       "        [9],\n",
       "        [9],\n",
       "        [1],\n",
       "        [4],\n",
       "        [2],\n",
       "        [8],\n",
       "        [2],\n",
       "        [5]],\n",
       "\n",
       "       [[5],\n",
       "        [0],\n",
       "        [6],\n",
       "        [2],\n",
       "        [0],\n",
       "        [8],\n",
       "        [1],\n",
       "        [3],\n",
       "        [1],\n",
       "        [5],\n",
       "        [9],\n",
       "        [5],\n",
       "        [2],\n",
       "        [9],\n",
       "        [0],\n",
       "        [6],\n",
       "        [4],\n",
       "        [3],\n",
       "        [4],\n",
       "        [4],\n",
       "        [9],\n",
       "        [5],\n",
       "        [5],\n",
       "        [3],\n",
       "        [1],\n",
       "        [0],\n",
       "        [2],\n",
       "        [0]],\n",
       "\n",
       "       [[6],\n",
       "        [1],\n",
       "        [1],\n",
       "        [2],\n",
       "        [3],\n",
       "        [9],\n",
       "        [0],\n",
       "        [5],\n",
       "        [1],\n",
       "        [3],\n",
       "        [9],\n",
       "        [2],\n",
       "        [4],\n",
       "        [3],\n",
       "        [7],\n",
       "        [2],\n",
       "        [1],\n",
       "        [5],\n",
       "        [3],\n",
       "        [5],\n",
       "        [2],\n",
       "        [8],\n",
       "        [5],\n",
       "        [0],\n",
       "        [4],\n",
       "        [1],\n",
       "        [9],\n",
       "        [1]],\n",
       "\n",
       "       [[8],\n",
       "        [8],\n",
       "        [2],\n",
       "        [3],\n",
       "        [3],\n",
       "        [9],\n",
       "        [6],\n",
       "        [1],\n",
       "        [8],\n",
       "        [8],\n",
       "        [7],\n",
       "        [4],\n",
       "        [6],\n",
       "        [9],\n",
       "        [8],\n",
       "        [7],\n",
       "        [2],\n",
       "        [1],\n",
       "        [4],\n",
       "        [1],\n",
       "        [5],\n",
       "        [9],\n",
       "        [8],\n",
       "        [8],\n",
       "        [1],\n",
       "        [6],\n",
       "        [4],\n",
       "        [5]],\n",
       "\n",
       "       [[0],\n",
       "        [0],\n",
       "        [3],\n",
       "        [5],\n",
       "        [7],\n",
       "        [0],\n",
       "        [6],\n",
       "        [3],\n",
       "        [5],\n",
       "        [8],\n",
       "        [7],\n",
       "        [0],\n",
       "        [7],\n",
       "        [5],\n",
       "        [9],\n",
       "        [0],\n",
       "        [9],\n",
       "        [3],\n",
       "        [6],\n",
       "        [0],\n",
       "        [8],\n",
       "        [9],\n",
       "        [8],\n",
       "        [5],\n",
       "        [9],\n",
       "        [7],\n",
       "        [2],\n",
       "        [4]],\n",
       "\n",
       "       [[3],\n",
       "        [5],\n",
       "        [9],\n",
       "        [6],\n",
       "        [0],\n",
       "        [8],\n",
       "        [8],\n",
       "        [5],\n",
       "        [9],\n",
       "        [8],\n",
       "        [2],\n",
       "        [2],\n",
       "        [6],\n",
       "        [5],\n",
       "        [5],\n",
       "        [2],\n",
       "        [8],\n",
       "        [4],\n",
       "        [6],\n",
       "        [6],\n",
       "        [0],\n",
       "        [8],\n",
       "        [9],\n",
       "        [9],\n",
       "        [8],\n",
       "        [8],\n",
       "        [8],\n",
       "        [6]],\n",
       "\n",
       "       [[6],\n",
       "        [4],\n",
       "        [9],\n",
       "        [8],\n",
       "        [5],\n",
       "        [6],\n",
       "        [7],\n",
       "        [8],\n",
       "        [1],\n",
       "        [5],\n",
       "        [0],\n",
       "        [2],\n",
       "        [6],\n",
       "        [8],\n",
       "        [6],\n",
       "        [2],\n",
       "        [2],\n",
       "        [2],\n",
       "        [3],\n",
       "        [5],\n",
       "        [7],\n",
       "        [6],\n",
       "        [9],\n",
       "        [4],\n",
       "        [2],\n",
       "        [1],\n",
       "        [9],\n",
       "        [9]],\n",
       "\n",
       "       [[2],\n",
       "        [1],\n",
       "        [3],\n",
       "        [3],\n",
       "        [2],\n",
       "        [9],\n",
       "        [6],\n",
       "        [7],\n",
       "        [5],\n",
       "        [3],\n",
       "        [2],\n",
       "        [6],\n",
       "        [5],\n",
       "        [0],\n",
       "        [5],\n",
       "        [3],\n",
       "        [0],\n",
       "        [0],\n",
       "        [1],\n",
       "        [8],\n",
       "        [0],\n",
       "        [3],\n",
       "        [1],\n",
       "        [7],\n",
       "        [5],\n",
       "        [5],\n",
       "        [9],\n",
       "        [4]],\n",
       "\n",
       "       [[6],\n",
       "        [1],\n",
       "        [0],\n",
       "        [1],\n",
       "        [0],\n",
       "        [0],\n",
       "        [7],\n",
       "        [4],\n",
       "        [0],\n",
       "        [6],\n",
       "        [5],\n",
       "        [8],\n",
       "        [0],\n",
       "        [3],\n",
       "        [5],\n",
       "        [3],\n",
       "        [9],\n",
       "        [0],\n",
       "        [7],\n",
       "        [6],\n",
       "        [6],\n",
       "        [0],\n",
       "        [6],\n",
       "        [6],\n",
       "        [6],\n",
       "        [5],\n",
       "        [3],\n",
       "        [7]],\n",
       "\n",
       "       [[0],\n",
       "        [1],\n",
       "        [4],\n",
       "        [1],\n",
       "        [1],\n",
       "        [8],\n",
       "        [1],\n",
       "        [3],\n",
       "        [4],\n",
       "        [4],\n",
       "        [5],\n",
       "        [4],\n",
       "        [4],\n",
       "        [6],\n",
       "        [2],\n",
       "        [1],\n",
       "        [4],\n",
       "        [9],\n",
       "        [1],\n",
       "        [1],\n",
       "        [4],\n",
       "        [9],\n",
       "        [8],\n",
       "        [7],\n",
       "        [3],\n",
       "        [0],\n",
       "        [2],\n",
       "        [3]],\n",
       "\n",
       "       [[6],\n",
       "        [1],\n",
       "        [7],\n",
       "        [5],\n",
       "        [7],\n",
       "        [9],\n",
       "        [4],\n",
       "        [5],\n",
       "        [9],\n",
       "        [0],\n",
       "        [6],\n",
       "        [9],\n",
       "        [5],\n",
       "        [3],\n",
       "        [0],\n",
       "        [4],\n",
       "        [4],\n",
       "        [7],\n",
       "        [7],\n",
       "        [1],\n",
       "        [7],\n",
       "        [5],\n",
       "        [6],\n",
       "        [0],\n",
       "        [5],\n",
       "        [8],\n",
       "        [6],\n",
       "        [1]],\n",
       "\n",
       "       [[1],\n",
       "        [0],\n",
       "        [7],\n",
       "        [7],\n",
       "        [0],\n",
       "        [2],\n",
       "        [9],\n",
       "        [1],\n",
       "        [0],\n",
       "        [4],\n",
       "        [2],\n",
       "        [5],\n",
       "        [7],\n",
       "        [6],\n",
       "        [6],\n",
       "        [8],\n",
       "        [8],\n",
       "        [0],\n",
       "        [4],\n",
       "        [2],\n",
       "        [5],\n",
       "        [6],\n",
       "        [8],\n",
       "        [2],\n",
       "        [3],\n",
       "        [3],\n",
       "        [2],\n",
       "        [8]],\n",
       "\n",
       "       [[1],\n",
       "        [4],\n",
       "        [1],\n",
       "        [5],\n",
       "        [4],\n",
       "        [8],\n",
       "        [9],\n",
       "        [4],\n",
       "        [2],\n",
       "        [1],\n",
       "        [1],\n",
       "        [3],\n",
       "        [0],\n",
       "        [0],\n",
       "        [9],\n",
       "        [9],\n",
       "        [8],\n",
       "        [3],\n",
       "        [1],\n",
       "        [5],\n",
       "        [2],\n",
       "        [6],\n",
       "        [5],\n",
       "        [2],\n",
       "        [3],\n",
       "        [9],\n",
       "        [6],\n",
       "        [0]],\n",
       "\n",
       "       [[0],\n",
       "        [9],\n",
       "        [1],\n",
       "        [9],\n",
       "        [8],\n",
       "        [1],\n",
       "        [6],\n",
       "        [2],\n",
       "        [9],\n",
       "        [9],\n",
       "        [8],\n",
       "        [0],\n",
       "        [5],\n",
       "        [6],\n",
       "        [5],\n",
       "        [9],\n",
       "        [2],\n",
       "        [5],\n",
       "        [8],\n",
       "        [2],\n",
       "        [9],\n",
       "        [2],\n",
       "        [1],\n",
       "        [2],\n",
       "        [8],\n",
       "        [9],\n",
       "        [7],\n",
       "        [8]]])>"
      ]
     },
     "execution_count": 84,
     "metadata": {},
     "output_type": "execute_result"
    }
   ],
   "source": [
    "x = tf.squeeze(x, axis=0) # 删除图片数量维度\n",
    "x"
   ]
  },
  {
   "cell_type": "code",
   "execution_count": 85,
   "metadata": {
    "scrolled": true
   },
   "outputs": [
    {
     "data": {
      "text/plain": [
       "<tf.Tensor: shape=(28, 28), dtype=int32, numpy=\n",
       "array([[8, 4, 8, 1, 7, 1, 6, 0, 8, 1, 8, 6, 0, 3, 6, 1, 2, 3, 8, 6, 8, 9,\n",
       "        5, 7, 9, 5, 9, 5],\n",
       "       [6, 9, 1, 0, 8, 5, 9, 6, 2, 4, 4, 3, 2, 2, 5, 6, 4, 5, 7, 4, 1, 9,\n",
       "        2, 5, 9, 6, 6, 2],\n",
       "       [8, 6, 4, 4, 2, 0, 1, 1, 8, 8, 6, 6, 1, 2, 8, 8, 4, 8, 6, 0, 5, 3,\n",
       "        2, 2, 8, 5, 7, 7],\n",
       "       [3, 2, 9, 8, 4, 4, 5, 0, 4, 0, 9, 8, 8, 1, 5, 5, 7, 9, 4, 5, 8, 1,\n",
       "        5, 5, 1, 3, 7, 9],\n",
       "       [1, 6, 6, 5, 6, 6, 9, 6, 8, 9, 4, 6, 5, 4, 4, 5, 3, 6, 2, 0, 7, 4,\n",
       "        4, 3, 1, 4, 4, 6],\n",
       "       [0, 5, 7, 3, 8, 4, 5, 7, 2, 8, 5, 9, 6, 4, 4, 0, 7, 7, 7, 7, 4, 7,\n",
       "        4, 7, 8, 5, 7, 3],\n",
       "       [1, 1, 3, 4, 9, 7, 9, 3, 2, 5, 5, 7, 6, 5, 5, 4, 9, 5, 9, 8, 2, 2,\n",
       "        9, 3, 9, 5, 4, 9],\n",
       "       [9, 3, 4, 0, 5, 6, 8, 4, 3, 9, 2, 4, 9, 4, 3, 0, 3, 0, 5, 6, 1, 8,\n",
       "        0, 5, 2, 8, 7, 9],\n",
       "       [9, 6, 1, 3, 6, 5, 2, 0, 1, 1, 5, 5, 8, 5, 8, 5, 1, 3, 4, 1, 3, 5,\n",
       "        2, 1, 3, 3, 2, 6],\n",
       "       [4, 3, 2, 2, 4, 2, 7, 4, 1, 7, 9, 0, 5, 6, 7, 8, 9, 8, 7, 7, 4, 7,\n",
       "        6, 5, 4, 9, 5, 1],\n",
       "       [5, 4, 7, 5, 9, 0, 0, 1, 0, 2, 0, 4, 4, 9, 2, 3, 3, 6, 0, 9, 4, 1,\n",
       "        5, 1, 4, 5, 7, 2],\n",
       "       [8, 3, 9, 5, 6, 6, 2, 7, 0, 2, 6, 9, 7, 4, 1, 6, 3, 5, 8, 5, 6, 5,\n",
       "        6, 3, 8, 5, 2, 8],\n",
       "       [2, 7, 2, 0, 2, 9, 1, 2, 3, 1, 6, 4, 9, 5, 3, 3, 6, 2, 0, 4, 9, 7,\n",
       "        8, 6, 6, 4, 1, 0],\n",
       "       [4, 5, 4, 9, 8, 1, 2, 5, 7, 5, 9, 4, 3, 7, 7, 9, 2, 1, 6, 1, 6, 4,\n",
       "        7, 9, 2, 7, 7, 4],\n",
       "       [9, 4, 5, 5, 8, 2, 9, 6, 2, 2, 7, 8, 8, 8, 2, 1, 0, 1, 5, 5, 7, 9,\n",
       "        0, 6, 0, 1, 4, 3],\n",
       "       [2, 4, 1, 4, 5, 9, 8, 0, 7, 8, 9, 4, 0, 1, 0, 6, 3, 5, 4, 8, 0, 9,\n",
       "        8, 7, 3, 5, 6, 8],\n",
       "       [9, 3, 3, 7, 1, 0, 5, 1, 8, 7, 0, 1, 9, 9, 7, 7, 1, 6, 9, 0, 9, 2,\n",
       "        9, 0, 0, 1, 3, 4],\n",
       "       [7, 4, 9, 4, 7, 3, 7, 9, 3, 0, 9, 7, 2, 9, 0, 7, 8, 3, 6, 3, 2, 2,\n",
       "        0, 9, 5, 5, 8, 7],\n",
       "       [2, 9, 3, 1, 7, 5, 9, 0, 9, 2, 7, 4, 9, 6, 8, 3, 6, 7, 0, 3, 8, 1,\n",
       "        6, 2, 6, 7, 9, 0],\n",
       "       [3, 2, 8, 5, 4, 1, 4, 5, 8, 7, 7, 8, 9, 3, 7, 8, 3, 2, 0, 0, 3, 4,\n",
       "        9, 9, 5, 4, 2, 5],\n",
       "       [3, 5, 0, 9, 1, 3, 4, 0, 7, 2, 2, 6, 6, 9, 4, 6, 3, 6, 1, 6, 9, 1,\n",
       "        8, 9, 2, 8, 9, 3],\n",
       "       [0, 6, 1, 5, 2, 2, 7, 4, 6, 1, 4, 3, 0, 4, 4, 4, 4, 3, 0, 6, 4, 0,\n",
       "        9, 7, 2, 5, 8, 4],\n",
       "       [5, 8, 7, 9, 3, 1, 3, 3, 6, 9, 9, 2, 6, 1, 3, 8, 1, 3, 8, 3, 0, 5,\n",
       "        0, 8, 8, 0, 2, 1],\n",
       "       [4, 6, 0, 7, 7, 7, 9, 4, 7, 5, 3, 5, 0, 5, 4, 3, 4, 4, 2, 4, 7, 6,\n",
       "        3, 7, 1, 2, 7, 7],\n",
       "       [4, 4, 6, 1, 4, 5, 2, 2, 6, 3, 1, 2, 0, 6, 5, 6, 1, 2, 4, 5, 6, 7,\n",
       "        8, 0, 3, 0, 4, 3],\n",
       "       [3, 5, 2, 7, 7, 6, 0, 3, 7, 9, 0, 4, 0, 2, 9, 1, 4, 5, 9, 3, 1, 5,\n",
       "        6, 5, 1, 4, 4, 7],\n",
       "       [3, 2, 2, 8, 8, 0, 4, 3, 8, 8, 1, 6, 6, 1, 8, 3, 5, 9, 1, 4, 4, 9,\n",
       "        3, 0, 8, 3, 7, 8],\n",
       "       [9, 1, 5, 4, 5, 6, 3, 3, 8, 6, 1, 8, 5, 2, 2, 3, 2, 3, 5, 2, 3, 2,\n",
       "        5, 5, 0, 2, 1, 0]])>"
      ]
     },
     "execution_count": 85,
     "metadata": {},
     "output_type": "execute_result"
    }
   ],
   "source": [
    "x = tf.random.uniform([1,28,28,1],maxval=10,dtype=tf.int32)\n",
    "tf.squeeze(x) # 如果不指定维度参数 axis，那么它会默认删除所有长度为 1 的维度"
   ]
  },
  {
   "cell_type": "markdown",
   "metadata": {},
   "source": [
    "### 交换维度\n",
    "如在 TensorFlow 中，图片张量的默认存储格式是通道后行格式：[𝑏,ℎ,w,𝑐]，但是部分库的图片格式是通道先行格式：[𝑏,𝑐,ℎ,w]，因此需要完成[𝑏,ℎ,w,𝑐]到[𝑏,𝑐,ℎ,w]维度交换运算，此时若简单的使用改变视图函数 reshape，则新视图的存储方式需要改变，因此使用改变视图函数是不合法的。"
   ]
  },
  {
   "cell_type": "code",
   "execution_count": 86,
   "metadata": {
    "scrolled": true
   },
   "outputs": [
    {
     "data": {
      "text/plain": [
       "<tf.Tensor: shape=(2, 3, 32, 32), dtype=float32, numpy=\n",
       "array([[[[-0.34757972,  0.79794836,  0.63790697, ...,  2.5396845 ,\n",
       "           0.5400969 ,  0.15017168],\n",
       "         [ 0.31631023, -1.6190698 , -0.8243391 , ...,  0.1494381 ,\n",
       "          -0.54608226,  0.89199495],\n",
       "         [ 0.5917818 , -0.0499099 ,  0.8103298 , ..., -1.4206301 ,\n",
       "           1.189264  ,  0.94316244],\n",
       "         ...,\n",
       "         [-0.26709497,  2.1040733 ,  0.653659  , ...,  0.63518053,\n",
       "           0.94392496,  0.20440184],\n",
       "         [ 0.16445805, -0.19657946, -0.88474   , ..., -0.2844142 ,\n",
       "          -0.15086284,  1.9761076 ],\n",
       "         [-0.26328388,  0.21004994,  0.57012916, ..., -0.8957526 ,\n",
       "          -0.82474273,  0.714669  ]],\n",
       "\n",
       "        [[-0.53390265,  1.5007316 , -0.34257025, ...,  0.20722434,\n",
       "           1.6602516 ,  1.0587937 ],\n",
       "         [ 0.94386476,  1.1435946 ,  2.0225983 , ..., -0.22161172,\n",
       "           0.8015205 , -0.36406106],\n",
       "         [-0.49592325,  0.7310962 , -0.3486807 , ..., -0.65505785,\n",
       "          -0.64068514,  0.55580443],\n",
       "         ...,\n",
       "         [ 1.5614258 ,  0.3480799 , -1.0739853 , ..., -0.91787356,\n",
       "           0.04742809, -0.10790332],\n",
       "         [-1.1831634 ,  0.1986633 , -2.6623492 , ...,  0.05869364,\n",
       "          -0.74635017, -1.300716  ],\n",
       "         [-0.51749057,  0.3961868 , -0.1342492 , ..., -1.3672183 ,\n",
       "           0.9372475 , -0.44144544]],\n",
       "\n",
       "        [[ 1.331294  ,  0.01132298,  2.2923496 , ...,  0.6299754 ,\n",
       "          -2.189406  , -0.39268395],\n",
       "         [-0.00604789, -0.12215152,  0.9477117 , ...,  0.95706975,\n",
       "           1.4647073 , -1.1677201 ],\n",
       "         [ 0.65828836,  0.8577993 , -0.81298095, ..., -0.871176  ,\n",
       "           0.37072098,  0.47117463],\n",
       "         ...,\n",
       "         [-0.15903662,  1.1309143 ,  0.46960542, ..., -1.3501679 ,\n",
       "           1.4521412 , -2.404964  ],\n",
       "         [-2.0661845 , -0.46269298,  2.9955523 , ..., -0.25785264,\n",
       "           1.7807245 , -0.617025  ],\n",
       "         [-0.17373876,  2.1716084 , -1.576891  , ...,  0.9793365 ,\n",
       "           1.6872759 ,  0.18699488]]],\n",
       "\n",
       "\n",
       "       [[[ 0.94020486, -0.14776383,  0.25598234, ..., -0.4253486 ,\n",
       "          -1.116728  ,  0.00371119],\n",
       "         [-1.0993186 , -0.910463  , -0.05921471, ...,  0.6786978 ,\n",
       "          -0.6072324 , -1.0324157 ],\n",
       "         [ 0.5757987 ,  0.37410045, -0.7213468 , ...,  1.256781  ,\n",
       "           0.3484962 , -0.821024  ],\n",
       "         ...,\n",
       "         [-0.68407375, -0.3668415 , -0.21253735, ...,  0.08845416,\n",
       "           0.03216857, -0.00690193],\n",
       "         [-0.39829376,  0.59124106, -0.40177277, ...,  0.321075  ,\n",
       "           1.2562921 , -0.071877  ],\n",
       "         [-1.0302287 ,  0.29730275,  0.61468226, ..., -0.8652117 ,\n",
       "           0.58950764, -1.587626  ]],\n",
       "\n",
       "        [[-1.56977   , -1.7617486 ,  1.746945  , ..., -0.37503466,\n",
       "           0.8433517 ,  0.5130239 ],\n",
       "         [-0.3431852 , -0.50486094,  0.15203196, ..., -0.3352686 ,\n",
       "           0.41539684,  2.8988235 ],\n",
       "         [-0.7195549 , -0.50087196,  1.4579823 , ...,  0.33175364,\n",
       "           0.34898937, -0.52789396],\n",
       "         ...,\n",
       "         [-0.6792204 , -0.07745659,  1.0434211 , ...,  0.27630338,\n",
       "          -0.5647312 ,  0.759146  ],\n",
       "         [-0.6225953 , -0.5542197 , -0.13769889, ...,  2.4576395 ,\n",
       "           1.095285  , -0.94993144],\n",
       "         [-1.0036665 , -1.2474533 , -2.2738497 , ..., -1.2988777 ,\n",
       "          -0.7968969 ,  0.3061115 ]],\n",
       "\n",
       "        [[-0.36055142,  0.19017033,  1.4455895 , ...,  1.8787127 ,\n",
       "          -1.3661354 , -1.5815138 ],\n",
       "         [ 0.5771924 , -1.4506043 , -1.1816335 , ..., -1.660597  ,\n",
       "          -0.5800854 , -0.7392218 ],\n",
       "         [ 0.10869918,  0.6710969 ,  0.33092582, ...,  1.6505286 ,\n",
       "           1.5078104 ,  0.3489929 ],\n",
       "         ...,\n",
       "         [-0.2049623 ,  0.73331594, -1.541467  , ..., -1.2981799 ,\n",
       "          -0.8806887 ,  2.8125944 ],\n",
       "         [ 0.6247513 ,  0.12759583,  0.5464765 , ..., -1.3865074 ,\n",
       "           0.39406285,  0.00761176],\n",
       "         [ 0.06116614, -0.6427335 , -1.347607  , ...,  0.09006784,\n",
       "           0.05748726,  0.41948062]]]], dtype=float32)>"
      ]
     },
     "execution_count": 86,
     "metadata": {},
     "output_type": "execute_result"
    }
   ],
   "source": [
    "x = tf.random.normal([2,32,32,3])\n",
    "# 交换维度\n",
    "tf.transpose(x,perm=[0,3,1,2]) #参数 perm表示新维度的顺序 List,为index列表"
   ]
  },
  {
   "cell_type": "markdown",
   "metadata": {},
   "source": [
    "### 复制数据\n",
    "当通过增加维度操作插入新维度后，可能希望在**新的维度上**面复制若干份数据，满足后续算法的格式要求。"
   ]
  },
  {
   "cell_type": "code",
   "execution_count": 87,
   "metadata": {},
   "outputs": [
    {
     "data": {
      "text/plain": [
       "<tf.Tensor: shape=(1, 2), dtype=int32, numpy=array([[1, 2]])>"
      ]
     },
     "execution_count": 87,
     "metadata": {},
     "output_type": "execute_result"
    }
   ],
   "source": [
    "# 创建向量 b\n",
    "b = tf.constant([1,2]) \n",
    "# 插入新维度，变成矩阵\n",
    "b = tf.expand_dims(b, axis=0) \n",
    "b"
   ]
  },
  {
   "cell_type": "code",
   "execution_count": 88,
   "metadata": {},
   "outputs": [
    {
     "data": {
      "text/plain": [
       "<tf.Tensor: shape=(3, 4), dtype=int32, numpy=\n",
       "array([[1, 2, 1, 2],\n",
       "       [1, 2, 1, 2],\n",
       "       [1, 2, 1, 2]])>"
      ]
     },
     "execution_count": 88,
     "metadata": {},
     "output_type": "execute_result"
    }
   ],
   "source": [
    "# 样本维度上复制一份\n",
    "b = tf.tile(b, multiples=[3,2]) #multiples 分别指定了每个维度上面的复制倍数，对应位置为 1 表明不复制，为 2 表明新长度为原来长度的2 倍，即数据复制一份，以此类推\n",
    "b"
   ]
  },
  {
   "cell_type": "code",
   "execution_count": 89,
   "metadata": {},
   "outputs": [
    {
     "data": {
      "text/plain": [
       "<tf.Tensor: shape=(2, 2), dtype=int32, numpy=\n",
       "array([[0, 1],\n",
       "       [2, 3]])>"
      ]
     },
     "execution_count": 89,
     "metadata": {},
     "output_type": "execute_result"
    }
   ],
   "source": [
    "x = tf.range(4)\n",
    "# 创建 2 行 2 列矩阵\n",
    "x=tf.reshape(x,[2,2]) \n",
    "x"
   ]
  },
  {
   "cell_type": "code",
   "execution_count": 90,
   "metadata": {},
   "outputs": [
    {
     "data": {
      "text/plain": [
       "<tf.Tensor: shape=(2, 4), dtype=int32, numpy=\n",
       "array([[0, 1, 0, 1],\n",
       "       [2, 3, 2, 3]])>"
      ]
     },
     "execution_count": 90,
     "metadata": {},
     "output_type": "execute_result"
    }
   ],
   "source": [
    "# 列维度复制一份\n",
    "x = tf.tile(x,multiples=[1,2]) \n",
    "x"
   ]
  },
  {
   "cell_type": "code",
   "execution_count": 91,
   "metadata": {
    "scrolled": true
   },
   "outputs": [
    {
     "data": {
      "text/plain": [
       "<tf.Tensor: shape=(4, 4), dtype=int32, numpy=\n",
       "array([[0, 1, 0, 1],\n",
       "       [2, 3, 2, 3],\n",
       "       [0, 1, 0, 1],\n",
       "       [2, 3, 2, 3]])>"
      ]
     },
     "execution_count": 91,
     "metadata": {},
     "output_type": "execute_result"
    }
   ],
   "source": [
    "# 行维度复制一份\n",
    "x = tf.tile(x,multiples=[2,1]) \n",
    "x"
   ]
  },
  {
   "cell_type": "code",
   "execution_count": 92,
   "metadata": {},
   "outputs": [
    {
     "data": {
      "text/plain": [
       "<tf.Tensor: shape=(8, 8), dtype=int32, numpy=\n",
       "array([[0, 1, 0, 1, 0, 1, 0, 1],\n",
       "       [2, 3, 2, 3, 2, 3, 2, 3],\n",
       "       [0, 1, 0, 1, 0, 1, 0, 1],\n",
       "       [2, 3, 2, 3, 2, 3, 2, 3],\n",
       "       [0, 1, 0, 1, 0, 1, 0, 1],\n",
       "       [2, 3, 2, 3, 2, 3, 2, 3],\n",
       "       [0, 1, 0, 1, 0, 1, 0, 1],\n",
       "       [2, 3, 2, 3, 2, 3, 2, 3]])>"
      ]
     },
     "execution_count": 92,
     "metadata": {},
     "output_type": "execute_result"
    }
   ],
   "source": [
    "x = tf.tile(x,multiples=[2,2]) \n",
    "x"
   ]
  },
  {
   "cell_type": "markdown",
   "metadata": {},
   "source": [
    "## Broadcasting\n",
    "Broadcasting 称为广播机制(或自动扩展机制)，它是一种轻量级的张量复制手段，在逻辑上扩展张量数据的形状，但是只会在需要时才会执行实际存储复制操作。对于大部分场景，Broadcasting 机制都能通过优化手段避免实际复制数据而完成逻辑运算，从而相对于tf.tile 函数，减少了大量计算代价。"
   ]
  },
  {
   "cell_type": "code",
   "execution_count": 93,
   "metadata": {
    "scrolled": true
   },
   "outputs": [
    {
     "data": {
      "text/plain": [
       "<tf.Tensor: shape=(2, 32, 32, 3), dtype=float32, numpy=\n",
       "array([[[[ 0.21102734,  0.21102734,  0.21102734],\n",
       "         [ 0.42117536,  0.42117536,  0.42117536],\n",
       "         [ 0.93851733,  0.93851733,  0.93851733],\n",
       "         ...,\n",
       "         [-1.3705354 , -1.3705354 , -1.3705354 ],\n",
       "         [ 0.03566222,  0.03566222,  0.03566222],\n",
       "         [ 1.1800017 ,  1.1800017 ,  1.1800017 ]],\n",
       "\n",
       "        [[ 0.21102734,  0.21102734,  0.21102734],\n",
       "         [ 0.42117536,  0.42117536,  0.42117536],\n",
       "         [ 0.93851733,  0.93851733,  0.93851733],\n",
       "         ...,\n",
       "         [-1.3705354 , -1.3705354 , -1.3705354 ],\n",
       "         [ 0.03566222,  0.03566222,  0.03566222],\n",
       "         [ 1.1800017 ,  1.1800017 ,  1.1800017 ]],\n",
       "\n",
       "        [[ 0.21102734,  0.21102734,  0.21102734],\n",
       "         [ 0.42117536,  0.42117536,  0.42117536],\n",
       "         [ 0.93851733,  0.93851733,  0.93851733],\n",
       "         ...,\n",
       "         [-1.3705354 , -1.3705354 , -1.3705354 ],\n",
       "         [ 0.03566222,  0.03566222,  0.03566222],\n",
       "         [ 1.1800017 ,  1.1800017 ,  1.1800017 ]],\n",
       "\n",
       "        ...,\n",
       "\n",
       "        [[ 0.21102734,  0.21102734,  0.21102734],\n",
       "         [ 0.42117536,  0.42117536,  0.42117536],\n",
       "         [ 0.93851733,  0.93851733,  0.93851733],\n",
       "         ...,\n",
       "         [-1.3705354 , -1.3705354 , -1.3705354 ],\n",
       "         [ 0.03566222,  0.03566222,  0.03566222],\n",
       "         [ 1.1800017 ,  1.1800017 ,  1.1800017 ]],\n",
       "\n",
       "        [[ 0.21102734,  0.21102734,  0.21102734],\n",
       "         [ 0.42117536,  0.42117536,  0.42117536],\n",
       "         [ 0.93851733,  0.93851733,  0.93851733],\n",
       "         ...,\n",
       "         [-1.3705354 , -1.3705354 , -1.3705354 ],\n",
       "         [ 0.03566222,  0.03566222,  0.03566222],\n",
       "         [ 1.1800017 ,  1.1800017 ,  1.1800017 ]],\n",
       "\n",
       "        [[ 0.21102734,  0.21102734,  0.21102734],\n",
       "         [ 0.42117536,  0.42117536,  0.42117536],\n",
       "         [ 0.93851733,  0.93851733,  0.93851733],\n",
       "         ...,\n",
       "         [-1.3705354 , -1.3705354 , -1.3705354 ],\n",
       "         [ 0.03566222,  0.03566222,  0.03566222],\n",
       "         [ 1.1800017 ,  1.1800017 ,  1.1800017 ]]],\n",
       "\n",
       "\n",
       "       [[[ 0.21102734,  0.21102734,  0.21102734],\n",
       "         [ 0.42117536,  0.42117536,  0.42117536],\n",
       "         [ 0.93851733,  0.93851733,  0.93851733],\n",
       "         ...,\n",
       "         [-1.3705354 , -1.3705354 , -1.3705354 ],\n",
       "         [ 0.03566222,  0.03566222,  0.03566222],\n",
       "         [ 1.1800017 ,  1.1800017 ,  1.1800017 ]],\n",
       "\n",
       "        [[ 0.21102734,  0.21102734,  0.21102734],\n",
       "         [ 0.42117536,  0.42117536,  0.42117536],\n",
       "         [ 0.93851733,  0.93851733,  0.93851733],\n",
       "         ...,\n",
       "         [-1.3705354 , -1.3705354 , -1.3705354 ],\n",
       "         [ 0.03566222,  0.03566222,  0.03566222],\n",
       "         [ 1.1800017 ,  1.1800017 ,  1.1800017 ]],\n",
       "\n",
       "        [[ 0.21102734,  0.21102734,  0.21102734],\n",
       "         [ 0.42117536,  0.42117536,  0.42117536],\n",
       "         [ 0.93851733,  0.93851733,  0.93851733],\n",
       "         ...,\n",
       "         [-1.3705354 , -1.3705354 , -1.3705354 ],\n",
       "         [ 0.03566222,  0.03566222,  0.03566222],\n",
       "         [ 1.1800017 ,  1.1800017 ,  1.1800017 ]],\n",
       "\n",
       "        ...,\n",
       "\n",
       "        [[ 0.21102734,  0.21102734,  0.21102734],\n",
       "         [ 0.42117536,  0.42117536,  0.42117536],\n",
       "         [ 0.93851733,  0.93851733,  0.93851733],\n",
       "         ...,\n",
       "         [-1.3705354 , -1.3705354 , -1.3705354 ],\n",
       "         [ 0.03566222,  0.03566222,  0.03566222],\n",
       "         [ 1.1800017 ,  1.1800017 ,  1.1800017 ]],\n",
       "\n",
       "        [[ 0.21102734,  0.21102734,  0.21102734],\n",
       "         [ 0.42117536,  0.42117536,  0.42117536],\n",
       "         [ 0.93851733,  0.93851733,  0.93851733],\n",
       "         ...,\n",
       "         [-1.3705354 , -1.3705354 , -1.3705354 ],\n",
       "         [ 0.03566222,  0.03566222,  0.03566222],\n",
       "         [ 1.1800017 ,  1.1800017 ,  1.1800017 ]],\n",
       "\n",
       "        [[ 0.21102734,  0.21102734,  0.21102734],\n",
       "         [ 0.42117536,  0.42117536,  0.42117536],\n",
       "         [ 0.93851733,  0.93851733,  0.93851733],\n",
       "         ...,\n",
       "         [-1.3705354 , -1.3705354 , -1.3705354 ],\n",
       "         [ 0.03566222,  0.03566222,  0.03566222],\n",
       "         [ 1.1800017 ,  1.1800017 ,  1.1800017 ]]]], dtype=float32)>"
      ]
     },
     "execution_count": 93,
     "metadata": {},
     "output_type": "execute_result"
    }
   ],
   "source": [
    "# 创建矩阵\n",
    "A = tf.random.normal([32,1]) \n",
    "# 扩展为 4D 张量\n",
    "tf.broadcast_to(A, [2,32,32,3]) #[32,1]->[32,3]->[32,32,3]->[2,32,32,3]"
   ]
  },
  {
   "cell_type": "code",
   "execution_count": 94,
   "metadata": {},
   "outputs": [
    {
     "name": "stdout",
     "output_type": "stream",
     "text": [
      "Incompatible shapes: [32,2] vs. [2,32,32,4] [Op:BroadcastTo]\n"
     ]
    }
   ],
   "source": [
    "A = tf.random.normal([32,2])\n",
    "# 不符合 Broadcasting 条件,不满足普适性\n",
    "try: \n",
    "    tf.broadcast_to(A, [2,32,32,4])\n",
    "except Exception as e:\n",
    "    print(e)"
   ]
  },
  {
   "cell_type": "markdown",
   "metadata": {},
   "source": [
    "## 数学运算\n",
    "\n",
    "### 加、减、乘、除运算"
   ]
  },
  {
   "cell_type": "code",
   "execution_count": 95,
   "metadata": {},
   "outputs": [
    {
     "data": {
      "text/plain": [
       "<tf.Tensor: shape=(5,), dtype=int32, numpy=array([0, 0, 1, 1, 2])>"
      ]
     },
     "execution_count": 95,
     "metadata": {},
     "output_type": "execute_result"
    }
   ],
   "source": [
    "a = tf.range(5)\n",
    "b = tf.constant(2)\n",
    "# 整除运算\n",
    "a//b "
   ]
  },
  {
   "cell_type": "code",
   "execution_count": 96,
   "metadata": {},
   "outputs": [
    {
     "data": {
      "text/plain": [
       "<tf.Tensor: shape=(5,), dtype=int32, numpy=array([0, 1, 0, 1, 0])>"
      ]
     },
     "execution_count": 96,
     "metadata": {},
     "output_type": "execute_result"
    }
   ],
   "source": [
    "# 余除运算\n",
    "a%b "
   ]
  },
  {
   "cell_type": "markdown",
   "metadata": {},
   "source": [
    "### 乘方运算"
   ]
  },
  {
   "cell_type": "code",
   "execution_count": 97,
   "metadata": {},
   "outputs": [
    {
     "data": {
      "text/plain": [
       "<tf.Tensor: shape=(4,), dtype=int32, numpy=array([ 0,  1,  8, 27])>"
      ]
     },
     "execution_count": 97,
     "metadata": {},
     "output_type": "execute_result"
    }
   ],
   "source": [
    "x = tf.range(4)\n",
    "# 乘方运算\n",
    "tf.pow(x,3) "
   ]
  },
  {
   "cell_type": "code",
   "execution_count": 98,
   "metadata": {},
   "outputs": [
    {
     "data": {
      "text/plain": [
       "<tf.Tensor: shape=(4,), dtype=int32, numpy=array([0, 1, 4, 9])>"
      ]
     },
     "execution_count": 98,
     "metadata": {},
     "output_type": "execute_result"
    }
   ],
   "source": [
    "# 乘方运算符\n",
    "x**2 "
   ]
  },
  {
   "cell_type": "code",
   "execution_count": 99,
   "metadata": {},
   "outputs": [
    {
     "data": {
      "text/plain": [
       "<tf.Tensor: shape=(3,), dtype=float32, numpy=array([1., 2., 3.], dtype=float32)>"
      ]
     },
     "execution_count": 99,
     "metadata": {},
     "output_type": "execute_result"
    }
   ],
   "source": [
    "x=tf.constant([1.,4.,9.])\n",
    "# 平方根\n",
    "x**(0.5) "
   ]
  },
  {
   "cell_type": "code",
   "execution_count": 100,
   "metadata": {},
   "outputs": [
    {
     "data": {
      "text/plain": [
       "<tf.Tensor: shape=(5,), dtype=float32, numpy=array([ 0.,  1.,  4.,  9., 16.], dtype=float32)>"
      ]
     },
     "execution_count": 100,
     "metadata": {},
     "output_type": "execute_result"
    }
   ],
   "source": [
    "x = tf.range(5)\n",
    "# 转换为浮点数\n",
    "x = tf.cast(x, dtype=tf.float32) \n",
    "# 平方\n",
    "x = tf.square(x) \n",
    "x"
   ]
  },
  {
   "cell_type": "code",
   "execution_count": 101,
   "metadata": {},
   "outputs": [
    {
     "data": {
      "text/plain": [
       "<tf.Tensor: shape=(5,), dtype=float32, numpy=\n",
       "array([0.        , 0.99999994, 1.9999999 , 2.9999998 , 4.        ],\n",
       "      dtype=float32)>"
      ]
     },
     "execution_count": 101,
     "metadata": {},
     "output_type": "execute_result"
    }
   ],
   "source": [
    "# 平方根\n",
    "tf.sqrt(x) "
   ]
  },
  {
   "cell_type": "markdown",
   "metadata": {},
   "source": [
    "### 指数和对数运算"
   ]
  },
  {
   "cell_type": "code",
   "execution_count": 102,
   "metadata": {},
   "outputs": [
    {
     "data": {
      "text/plain": [
       "<tf.Tensor: shape=(3,), dtype=float32, numpy=array([2., 4., 8.], dtype=float32)>"
      ]
     },
     "execution_count": 102,
     "metadata": {},
     "output_type": "execute_result"
    }
   ],
   "source": [
    "x = tf.constant([1.,2.,3.])\n",
    "# 指数运算\n",
    "2**x "
   ]
  },
  {
   "cell_type": "code",
   "execution_count": 103,
   "metadata": {},
   "outputs": [
    {
     "data": {
      "text/plain": [
       "<tf.Tensor: shape=(), dtype=float32, numpy=2.7182817>"
      ]
     },
     "execution_count": 103,
     "metadata": {},
     "output_type": "execute_result"
    }
   ],
   "source": [
    "# 自然指数运算\n",
    "tf.exp(1.)"
   ]
  },
  {
   "cell_type": "code",
   "execution_count": 104,
   "metadata": {},
   "outputs": [
    {
     "name": "stdout",
     "output_type": "stream",
     "text": [
      "tf.Tensor(20.085537, shape=(), dtype=float32)\n"
     ]
    },
    {
     "data": {
      "text/plain": [
       "<tf.Tensor: shape=(), dtype=float32, numpy=3.0>"
      ]
     },
     "execution_count": 104,
     "metadata": {},
     "output_type": "execute_result"
    }
   ],
   "source": [
    "x = tf.exp(3.)\n",
    "print(x)\n",
    "# 对数运算\n",
    "tf.math.log(x)"
   ]
  },
  {
   "cell_type": "code",
   "execution_count": 105,
   "metadata": {},
   "outputs": [
    {
     "data": {
      "text/plain": [
       "<tf.Tensor: shape=(2,), dtype=float32, numpy=array([1., 2.], dtype=float32)>"
      ]
     },
     "execution_count": 105,
     "metadata": {},
     "output_type": "execute_result"
    }
   ],
   "source": [
    "x = tf.constant([1.,2.])\n",
    "x = 10**x\n",
    "# 换底公式\n",
    "tf.math.log(x)/tf.math.log(10.) "
   ]
  },
  {
   "cell_type": "markdown",
   "metadata": {},
   "source": [
    "### 矩阵相乘运算"
   ]
  },
  {
   "cell_type": "code",
   "execution_count": 106,
   "metadata": {},
   "outputs": [
    {
     "data": {
      "text/plain": [
       "<tf.Tensor: shape=(4, 3, 28, 2), dtype=float32, numpy=\n",
       "array([[[[ 1.35584879e+00, -1.09849815e+01],\n",
       "         [-7.79025078e+00,  8.11223412e+00],\n",
       "         [ 5.57515526e+00, -9.70366895e-01],\n",
       "         [-5.47276688e+00,  1.06806812e+01],\n",
       "         [-1.00901155e+01,  5.92649937e+00],\n",
       "         [-3.16838503e+00,  4.00045204e+00],\n",
       "         [-5.13781691e+00,  1.00689220e+01],\n",
       "         [ 9.98535728e+00,  3.51211214e+00],\n",
       "         [ 1.85937691e+00,  7.37776041e-01],\n",
       "         [ 7.32646608e+00, -1.61254883e-01],\n",
       "         [-8.78988743e+00, -8.43520260e+00],\n",
       "         [ 1.11892252e+01,  3.59739423e-01],\n",
       "         [-4.16237307e+00,  5.60024023e+00],\n",
       "         [-1.19402957e+00,  2.94026089e+00],\n",
       "         [-8.40427208e+00,  6.47729254e+00],\n",
       "         [ 1.77078247e-02, -4.72327805e+00],\n",
       "         [ 1.32010937e+01, -1.03036423e+01],\n",
       "         [ 1.23897009e+01,  2.39869547e+00],\n",
       "         [ 5.83752537e+00,  1.31873965e+00],\n",
       "         [ 6.18176365e+00, -1.16569781e+00],\n",
       "         [-5.91183758e+00, -4.66259956e+00],\n",
       "         [-2.73694706e+00,  4.98850822e-01],\n",
       "         [-1.28330326e+01,  4.27894258e+00],\n",
       "         [-8.34110737e-01,  1.76349521e-01],\n",
       "         [ 6.15938616e+00,  2.47255659e+00],\n",
       "         [ 6.76557541e+00,  5.76019526e-01],\n",
       "         [-3.73284149e+00, -1.04171085e+00],\n",
       "         [ 1.10556068e+01,  1.48945713e+00]],\n",
       "\n",
       "        [[-1.17005455e+00, -7.63329935e+00],\n",
       "         [-7.61971378e+00, -1.80898499e+00],\n",
       "         [-5.74842405e+00, -5.44119501e+00],\n",
       "         [-1.15782499e+01, -2.72099543e+00],\n",
       "         [-3.78963637e+00,  6.52959824e+00],\n",
       "         [-3.02705574e+00, -1.10067234e+01],\n",
       "         [-5.06332254e+00,  3.49976182e-01],\n",
       "         [ 4.60922432e+00, -6.42572689e+00],\n",
       "         [-6.16202641e+00, -7.43676472e+00],\n",
       "         [-4.47285080e+00, -1.19913702e+01],\n",
       "         [ 6.08479261e-01,  4.45745897e+00],\n",
       "         [ 6.35638952e-01,  1.05997896e+00],\n",
       "         [-1.47488117e+00,  7.71002340e+00],\n",
       "         [-4.41949368e+00, -6.22604799e+00],\n",
       "         [-3.36832285e+00,  1.62246628e+01],\n",
       "         [ 1.80558038e+00, -2.24330497e+00],\n",
       "         [-1.33967638e+00,  5.22344208e+00],\n",
       "         [ 1.12796640e+01, -1.63629532e-01],\n",
       "         [ 1.58508778e+00,  1.85834122e+00],\n",
       "         [ 3.09986401e+00, -4.40953636e+00],\n",
       "         [ 6.56458664e+00,  1.19418898e+01],\n",
       "         [ 7.81923676e+00, -3.81168008e+00],\n",
       "         [ 2.35415936e+00, -1.11381841e+00],\n",
       "         [ 2.47972965e+00,  7.17694759e+00],\n",
       "         [ 1.52115273e+00,  8.03091908e+00],\n",
       "         [ 3.93995404e+00, -1.06612766e+00],\n",
       "         [-3.32751942e+00, -1.56203699e+00],\n",
       "         [ 3.60150790e+00,  2.46327496e+00]],\n",
       "\n",
       "        [[-1.57798376e+01,  3.68249297e+00],\n",
       "         [ 1.32855701e+00,  7.06779003e-01],\n",
       "         [-7.05910492e+00, -7.39540625e+00],\n",
       "         [-1.61476040e+00, -1.49784875e+00],\n",
       "         [-1.22306061e+00,  3.81164074e+00],\n",
       "         [ 2.09949112e+00,  2.10127163e+00],\n",
       "         [-3.56496143e+00, -3.23783159e+00],\n",
       "         [-1.08477964e+01, -1.09623737e+01],\n",
       "         [-4.09191430e-01, -3.46298575e-01],\n",
       "         [ 3.49749041e+00, -1.98544478e+00],\n",
       "         [ 8.29677582e+00, -2.21318150e+00],\n",
       "         [-5.56780148e+00, -3.91005182e+00],\n",
       "         [-7.29524899e+00, -4.30504417e+00],\n",
       "         [-6.04507065e+00,  1.10906315e+00],\n",
       "         [ 2.53049159e+00,  1.27710199e+00],\n",
       "         [ 1.04279613e+01, -6.87161827e+00],\n",
       "         [-1.94627237e+00,  3.54035687e+00],\n",
       "         [-1.79615045e+00,  9.89546299e-01],\n",
       "         [-2.39850664e+00,  4.74503183e+00],\n",
       "         [ 1.02202549e+01,  1.97941303e-01],\n",
       "         [ 1.71573582e+01, -1.02919598e+01],\n",
       "         [-1.11314240e+01,  1.22987986e+00],\n",
       "         [-1.33286619e+01, -6.03591633e+00],\n",
       "         [ 9.31704235e+00,  5.79113388e+00],\n",
       "         [-4.21666527e+00,  2.12503195e-01],\n",
       "         [ 1.74649506e+01, -9.30890942e+00],\n",
       "         [ 3.38823366e+00,  3.40680122e-01],\n",
       "         [ 1.52431755e+01,  8.32995510e+00]]],\n",
       "\n",
       "\n",
       "       [[[ 9.76419830e+00, -1.81574798e+00],\n",
       "         [-1.85606074e+00, -3.35797596e+00],\n",
       "         [ 6.23420620e+00, -1.27501488e-01],\n",
       "         [ 1.14872241e+00,  1.81988001e-01],\n",
       "         [-1.51860847e+01, -2.60101247e+00],\n",
       "         [ 3.33428788e+00,  3.46456885e+00],\n",
       "         [ 8.42012787e+00,  1.03419256e+01],\n",
       "         [-5.30457449e+00, -2.74404383e+00],\n",
       "         [-2.31719685e+00,  9.76533890e+00],\n",
       "         [ 1.33522844e+01, -9.36135960e+00],\n",
       "         [-2.89895630e+00, -4.93760157e+00],\n",
       "         [-1.65447998e+00, -8.60610008e-01],\n",
       "         [ 6.07872057e+00, -6.63626480e+00],\n",
       "         [ 8.84913254e+00,  6.60087204e+00],\n",
       "         [-2.68382597e+00,  5.64876461e+00],\n",
       "         [ 3.70651913e+00,  2.04731655e+00],\n",
       "         [-7.33698845e+00,  5.48197269e+00],\n",
       "         [-6.78890657e+00, -3.69986558e+00],\n",
       "         [-1.35427008e+01,  1.32858343e+01],\n",
       "         [ 8.28293562e-02,  1.04894428e+01],\n",
       "         [-5.97568130e+00, -1.07339954e+00],\n",
       "         [ 6.67652750e+00,  8.97611713e+00],\n",
       "         [ 1.14149799e+01, -5.42621136e+00],\n",
       "         [ 8.08597803e-02,  1.14809227e+01],\n",
       "         [-6.64003134e-01, -8.46121883e+00],\n",
       "         [ 8.53779078e-01,  5.35577631e+00],\n",
       "         [-8.75059366e-01,  3.87039852e+00],\n",
       "         [ 3.13879538e+00,  5.28175831e+00]],\n",
       "\n",
       "        [[ 4.65912485e+00,  4.52322674e+00],\n",
       "         [ 1.17014503e+00, -2.07937789e+00],\n",
       "         [-1.66524243e+00, -9.84944057e+00],\n",
       "         [-1.22193089e+01, -2.25818205e+00],\n",
       "         [ 6.85158730e+00, -2.67768836e+00],\n",
       "         [ 1.84513760e+00,  9.66378403e+00],\n",
       "         [-7.85673046e+00,  1.18926935e+01],\n",
       "         [-4.33400059e+00, -3.75113201e+00],\n",
       "         [-8.57622433e+00, -3.48845434e+00],\n",
       "         [ 2.08087397e+00, -1.92575455e-02],\n",
       "         [-3.96413708e+00,  9.05071259e-01],\n",
       "         [ 1.62425995e+00,  5.46707964e+00],\n",
       "         [ 7.47823095e+00, -1.08734951e+01],\n",
       "         [-1.08080530e+00, -3.35411930e+00],\n",
       "         [ 2.65484619e+00, -3.81399202e+00],\n",
       "         [-3.97157001e+00, -7.75966358e+00],\n",
       "         [-2.68860960e+00, -3.35397458e+00],\n",
       "         [ 1.78878140e+00,  3.48356509e+00],\n",
       "         [ 4.03945029e-01, -4.54734516e+00],\n",
       "         [-4.27545357e+00,  7.68200397e-01],\n",
       "         [ 2.61405230e+00,  7.04650307e+00],\n",
       "         [ 1.01322985e+01,  1.80335391e+00],\n",
       "         [-6.27909851e+00, -2.02837420e+00],\n",
       "         [-7.24515820e+00, -4.82541656e+00],\n",
       "         [ 3.45008206e+00,  1.15303993e+01],\n",
       "         [ 2.83243513e+00,  4.36480618e+00],\n",
       "         [ 4.04926062e-01,  5.07684612e+00],\n",
       "         [ 3.69598818e+00, -1.55428648e+00]],\n",
       "\n",
       "        [[-1.86795497e+00, -1.11276484e+00],\n",
       "         [ 9.97526646e+00,  5.99653721e+00],\n",
       "         [-1.58562446e+00,  8.32033157e+00],\n",
       "         [-3.99438429e+00, -8.90910923e-01],\n",
       "         [-4.02513075e+00,  1.71657562e-01],\n",
       "         [ 1.46019006e+00, -3.33761454e+00],\n",
       "         [-3.34717751e+00,  2.38444448e+00],\n",
       "         [-1.44603472e+01, -1.91772223e-01],\n",
       "         [-5.61445999e+00,  6.54831934e+00],\n",
       "         [ 3.50853276e+00, -2.91584253e-01],\n",
       "         [ 3.37031507e+00, -5.12029266e+00],\n",
       "         [ 2.48122144e+00, -6.57448959e+00],\n",
       "         [ 2.29901385e+00,  5.57200527e+00],\n",
       "         [ 4.32301903e+00, -6.09817839e+00],\n",
       "         [-3.01454043e+00,  1.14101505e+01],\n",
       "         [-5.03908992e-02, -3.25735855e+00],\n",
       "         [ 6.31565571e-01,  3.77796483e+00],\n",
       "         [-3.72736645e+00, -4.75907898e+00],\n",
       "         [ 3.22177482e+00, -2.23189783e+00],\n",
       "         [ 5.98893261e+00,  1.28257942e+00],\n",
       "         [-1.33718157e+00, -3.30236840e+00],\n",
       "         [ 4.38111782e+00, -3.03889966e+00],\n",
       "         [ 1.87501693e+00, -2.02767038e+00],\n",
       "         [ 1.09668899e+00,  4.09479475e+00],\n",
       "         [ 7.18182945e+00,  4.05040455e+00],\n",
       "         [-6.52705669e+00, -3.77752542e+00],\n",
       "         [-1.05488539e+00,  2.72256088e+00],\n",
       "         [-6.51669598e+00,  5.34850359e-02]]],\n",
       "\n",
       "\n",
       "       [[[ 8.44092369e+00, -7.69042969e-02],\n",
       "         [ 9.43396759e+00, -7.85329723e+00],\n",
       "         [ 6.66915274e+00, -4.64866829e+00],\n",
       "         [-5.55905533e+00, -1.12400494e+01],\n",
       "         [ 8.69979382e+00, -3.44141150e+00],\n",
       "         [ 2.09764147e+00, -4.98245430e+00],\n",
       "         [-1.41920471e+00,  9.35107040e+00],\n",
       "         [ 1.92000186e+00,  9.70442963e+00],\n",
       "         [-9.16416931e+00,  1.06834555e+01],\n",
       "         [-4.23283577e+00,  6.83191156e+00],\n",
       "         [-5.37969947e-01,  1.05273418e+01],\n",
       "         [-3.05636954e+00,  1.03227854e-01],\n",
       "         [ 1.30112801e+01,  1.08131132e+01],\n",
       "         [-5.10679150e+00, -4.13384247e+00],\n",
       "         [ 2.70919609e+00, -2.52808952e+00],\n",
       "         [ 7.17604256e+00, -1.07821388e+01],\n",
       "         [ 6.64788628e+00, -5.62573242e+00],\n",
       "         [-7.21985626e+00,  9.28651714e+00],\n",
       "         [-1.07879066e+01,  2.53581524e+00],\n",
       "         [ 8.54082775e+00, -5.67255783e+00],\n",
       "         [ 1.28068180e+01, -4.58726454e+00],\n",
       "         [-3.32633162e+00,  3.17136240e+00],\n",
       "         [-2.56035662e+00,  1.61656399e+01],\n",
       "         [-4.99030781e+00, -5.12667751e+00],\n",
       "         [ 4.83198690e+00,  7.97451305e+00],\n",
       "         [-6.59646654e+00, -8.94926262e+00],\n",
       "         [ 1.04297953e+01,  1.16160240e+01],\n",
       "         [-4.33247423e+00,  3.03462744e+00]],\n",
       "\n",
       "        [[-6.93930101e+00,  4.46499944e-01],\n",
       "         [-4.77489185e+00,  3.26191425e-01],\n",
       "         [ 8.01910973e+00,  8.59209156e+00],\n",
       "         [ 7.60823250e-01,  1.86370897e+00],\n",
       "         [ 5.65467882e+00,  7.10666847e+00],\n",
       "         [ 3.94096112e+00,  5.98271847e+00],\n",
       "         [-6.45440197e+00, -8.23105431e+00],\n",
       "         [-3.04419589e+00,  8.23544025e+00],\n",
       "         [ 4.47286654e+00, -1.70725131e+00],\n",
       "         [ 1.73810697e+00, -1.62336099e+00],\n",
       "         [-1.24222493e+00, -5.61365604e+00],\n",
       "         [-3.76505446e+00, -2.62468338e-01],\n",
       "         [ 1.80086911e+00,  1.09237375e+01],\n",
       "         [-7.60945892e+00,  3.84532690e-01],\n",
       "         [ 8.09836006e+00, -3.04380989e+00],\n",
       "         [-2.62160230e+00, -4.72976971e+00],\n",
       "         [ 5.57382679e+00,  1.36325479e+00],\n",
       "         [ 4.41852951e+00,  1.05264835e+01],\n",
       "         [-2.97424364e+00,  4.16327858e+00],\n",
       "         [-3.02849889e+00, -5.16863823e+00],\n",
       "         [ 5.38849115e+00, -7.71181965e+00],\n",
       "         [-1.60567403e+00, -6.69758797e+00],\n",
       "         [-1.56098700e+00, -3.43303537e+00],\n",
       "         [ 9.09059143e+00,  3.69807911e+00],\n",
       "         [ 1.07001305e+00, -6.27554035e+00],\n",
       "         [-2.34566021e+00, -5.34766579e+00],\n",
       "         [ 9.36565399e-01,  2.58547020e+00],\n",
       "         [-5.64411736e+00,  1.75997269e+00]],\n",
       "\n",
       "        [[ 1.06438994e+00,  4.09737349e-01],\n",
       "         [-3.12391925e+00, -2.50804543e+00],\n",
       "         [-2.33270431e+00,  1.57443275e+01],\n",
       "         [-4.27512932e+00,  4.81695938e+00],\n",
       "         [-2.17567778e+00, -2.94260263e+00],\n",
       "         [-6.40145206e+00,  3.50264263e+00],\n",
       "         [ 1.02833595e+01,  8.72153473e+00],\n",
       "         [-1.28642023e+00,  7.84002399e+00],\n",
       "         [ 2.25201893e+00,  3.15405703e+00],\n",
       "         [ 2.53424597e+00,  3.50040770e+00],\n",
       "         [ 1.17713041e+01, -5.72488976e+00],\n",
       "         [-5.15786123e+00,  4.91661501e+00],\n",
       "         [-2.98947144e+00,  2.75993514e+00],\n",
       "         [-4.03813362e-01, -9.26324606e-01],\n",
       "         [ 8.12386990e-01, -9.65260506e+00],\n",
       "         [ 7.78466606e+00,  2.25650644e+00],\n",
       "         [-7.08912611e-01,  6.53846025e-01],\n",
       "         [ 1.18924975e+00,  4.53872824e+00],\n",
       "         [ 9.90606403e+00,  1.00113964e+01],\n",
       "         [-7.11040115e+00,  5.83969116e-01],\n",
       "         [ 5.43191242e+00,  3.84997010e+00],\n",
       "         [-9.20928478e-01, -4.33486271e+00],\n",
       "         [-1.69277179e+00, -2.71419621e+00],\n",
       "         [ 1.35166347e+00,  3.81310582e-01],\n",
       "         [ 7.05976534e+00,  4.31352377e+00],\n",
       "         [ 4.10319805e+00, -1.31540461e+01],\n",
       "         [-9.00419950e-02, -1.17839918e+01],\n",
       "         [-4.35706854e+00, -9.33648300e+00]]],\n",
       "\n",
       "\n",
       "       [[[-1.92118204e+00,  4.16997433e+00],\n",
       "         [-3.71241570e+00,  4.86785889e-01],\n",
       "         [-1.36116266e+01,  1.56069756e-01],\n",
       "         [-9.59247112e+00, -4.77159262e+00],\n",
       "         [-1.50686896e+00,  2.18016720e+00],\n",
       "         [ 1.08941364e+01, -1.59336257e+00],\n",
       "         [ 2.07873344e+00, -5.25386572e+00],\n",
       "         [-5.45736790e-01, -8.01187897e+00],\n",
       "         [-3.88006496e+00, -3.03670454e+00],\n",
       "         [ 2.05034900e+00, -4.82691240e+00],\n",
       "         [-6.32170677e+00,  3.58326626e+00],\n",
       "         [-5.53073788e+00,  1.70226371e+00],\n",
       "         [ 6.37163401e-01,  7.73403215e+00],\n",
       "         [-4.93445396e+00, -7.19441748e+00],\n",
       "         [-4.63135004e+00,  1.88629329e+00],\n",
       "         [-4.25200844e+00,  6.40827227e+00],\n",
       "         [ 4.20268869e+00, -1.33471966e+00],\n",
       "         [ 6.53214931e+00,  3.89545679e+00],\n",
       "         [ 6.08340645e+00, -4.64467287e+00],\n",
       "         [-5.51899576e+00,  5.55617809e+00],\n",
       "         [-1.99083006e+00,  1.28309917e+01],\n",
       "         [-1.76371145e+00,  3.77164054e+00],\n",
       "         [-2.52212310e+00,  3.64073324e+00],\n",
       "         [ 3.62944913e+00,  4.98101854e+00],\n",
       "         [-1.27687573e+00,  2.79556608e+00],\n",
       "         [ 7.44412422e+00, -2.70120215e+00],\n",
       "         [ 2.62271500e+00,  5.74324131e+00],\n",
       "         [-4.95979500e+00, -3.11668539e+00]],\n",
       "\n",
       "        [[ 4.02099562e+00, -3.11948609e+00],\n",
       "         [-4.20192719e+00, -3.93383360e+00],\n",
       "         [-6.76726294e+00,  3.73292923e+00],\n",
       "         [-3.54325509e+00, -8.28520298e-01],\n",
       "         [ 2.67912292e+00, -9.21836472e+00],\n",
       "         [ 8.88406563e+00,  3.75081635e+00],\n",
       "         [ 3.86608505e+00,  6.33690071e+00],\n",
       "         [ 3.22726178e+00, -7.48359585e+00],\n",
       "         [-8.32379150e+00, -4.18849230e-01],\n",
       "         [-4.46386576e+00, -8.73871422e+00],\n",
       "         [-3.38025904e+00, -5.13749599e+00],\n",
       "         [ 7.13505077e+00,  3.70204186e+00],\n",
       "         [-4.61355686e+00,  2.75485826e+00],\n",
       "         [ 3.82119417e-01, -4.76514292e+00],\n",
       "         [-5.74900770e+00, -5.15882134e-01],\n",
       "         [-5.62962246e+00, -4.00851965e-01],\n",
       "         [ 4.62733626e-01, -8.95339775e+00],\n",
       "         [ 3.51722765e+00, -8.17209435e+00],\n",
       "         [ 1.66155910e+00,  1.70114446e+00],\n",
       "         [-1.56273222e+00,  1.46299601e+01],\n",
       "         [ 1.58383381e+00, -3.60052919e+00],\n",
       "         [ 4.35933685e+00, -1.13873005e+01],\n",
       "         [ 3.28744411e+00, -6.21741962e+00],\n",
       "         [ 8.67557716e+00, -3.37757730e+00],\n",
       "         [-4.95320702e+00, -5.12012959e-01],\n",
       "         [-4.17576599e+00, -3.60480690e+00],\n",
       "         [-2.36704659e+00, -2.01980567e+00],\n",
       "         [-3.83259940e+00,  1.13692045e+00]],\n",
       "\n",
       "        [[-2.45954132e+00,  7.95629549e+00],\n",
       "         [-5.79405844e-01, -8.68618679e+00],\n",
       "         [ 4.27898502e+00,  4.91061687e-01],\n",
       "         [ 3.15139341e+00, -6.38478994e-02],\n",
       "         [-2.46977758e+00, -5.06578207e+00],\n",
       "         [-8.63575697e-01, -3.19777918e+00],\n",
       "         [ 4.96044445e+00, -6.13399744e+00],\n",
       "         [ 1.19068933e+00,  7.42634392e+00],\n",
       "         [-4.96201372e+00,  1.37189989e+01],\n",
       "         [-6.59754467e+00,  7.05751753e+00],\n",
       "         [-5.59655523e+00,  2.20429564e+00],\n",
       "         [ 3.57414055e+00, -8.31792068e+00],\n",
       "         [ 2.97871518e+00, -4.37667072e-01],\n",
       "         [ 5.10112286e+00, -1.05596123e+01],\n",
       "         [ 3.96271539e+00, -8.47286940e-01],\n",
       "         [-4.26366997e+00,  1.04098396e+01],\n",
       "         [ 9.35648203e-01, -2.29866028e-01],\n",
       "         [-2.16307569e+00, -1.51157808e+00],\n",
       "         [ 3.67345333e-01,  3.45572901e+00],\n",
       "         [ 8.94806004e+00, -1.37614155e+00],\n",
       "         [-8.25687981e+00,  1.89565754e+00],\n",
       "         [-3.20644689e+00, -2.26785994e+00],\n",
       "         [-5.19037199e+00, -8.84249306e+00],\n",
       "         [ 1.07751961e+01, -4.01663482e-01],\n",
       "         [-1.40935183e-02,  1.03956985e+01],\n",
       "         [-5.67652035e+00, -7.62700796e+00],\n",
       "         [-3.98235393e+00,  6.03842068e+00],\n",
       "         [ 4.94872808e+00,  1.91252565e+00]]]], dtype=float32)>"
      ]
     },
     "execution_count": 106,
     "metadata": {},
     "output_type": "execute_result"
    }
   ],
   "source": [
    "a = tf.random.normal([4,3,28,32])\n",
    "b = tf.random.normal([4,3,32,2])\n",
    "# 批量形式的矩阵相乘\n",
    "a@b"
   ]
  },
  {
   "cell_type": "code",
   "execution_count": 107,
   "metadata": {
    "scrolled": true
   },
   "outputs": [
    {
     "data": {
      "text/plain": [
       "<tf.Tensor: shape=(4, 28, 16), dtype=float32, numpy=\n",
       "array([[[-4.66294098e+00, -3.99887967e+00, -5.58816624e+00, ...,\n",
       "          8.14061928e+00,  9.33127403e+00,  1.25892305e+00],\n",
       "        [ 2.71739483e+00, -5.62808228e+00, -1.10043058e+01, ...,\n",
       "         -4.29183054e+00,  5.99561739e+00, -2.75970459e-01],\n",
       "        [ 4.61309528e+00, -1.67703724e+00, -2.60978937e+00, ...,\n",
       "         -5.04190779e+00, -2.79975247e+00,  4.59172773e+00],\n",
       "        ...,\n",
       "        [ 3.78472090e+00,  2.67759323e+00, -4.29436064e+00, ...,\n",
       "         -3.08323646e+00, -1.00384176e-01, -2.16407442e+00],\n",
       "        [ 5.96815205e+00, -3.55449605e+00,  2.32704401e+00, ...,\n",
       "         -2.82810426e+00, -8.87331665e-01, -7.81965971e+00],\n",
       "        [ 1.50592601e+00, -3.94204950e+00,  1.27084255e-02, ...,\n",
       "         -1.88348079e+00, -1.00361176e+01,  1.36601343e+01]],\n",
       "\n",
       "       [[-1.42126579e+01,  2.24714828e+00,  1.83943450e-01, ...,\n",
       "          4.98054457e+00, -3.64691401e+00,  4.99209261e+00],\n",
       "        [ 8.93015802e-01,  1.16011059e+00,  9.81737518e+00, ...,\n",
       "          8.27943230e+00, -4.92434311e+00, -3.27991533e+00],\n",
       "        [-5.24922466e+00,  7.87472010e+00,  2.61806548e-01, ...,\n",
       "         -1.01973271e+00,  3.31536150e+00, -8.86093235e+00],\n",
       "        ...,\n",
       "        [ 3.20730591e+00, -1.25490742e+01,  5.26911306e+00, ...,\n",
       "          8.20755291e+00, -5.37015581e+00, -2.58284271e-01],\n",
       "        [ 1.91324747e+00, -1.44681108e+00, -2.73375273e+00, ...,\n",
       "         -9.85212231e+00,  5.05694342e+00,  7.00584936e+00],\n",
       "        [-2.68410921e-01, -3.93404865e+00, -2.66559792e+00, ...,\n",
       "         -4.57385159e+00,  7.18161964e+00,  2.78506017e+00]],\n",
       "\n",
       "       [[ 1.01571541e+01, -2.72214746e+00, -5.73435688e+00, ...,\n",
       "         -1.28872097e+00,  4.99655676e+00, -4.16067886e+00],\n",
       "        [-4.60018539e+00, -4.80754519e+00,  5.82424164e+00, ...,\n",
       "         -3.82140446e+00,  5.96674490e+00,  5.95546579e+00],\n",
       "        [-2.35037899e+00, -2.02386379e+00,  6.21644855e-01, ...,\n",
       "         -2.24145842e+00,  1.66736579e+00,  1.79666424e+00],\n",
       "        ...,\n",
       "        [ 1.03881800e+00,  2.85547376e-01,  8.05360603e+00, ...,\n",
       "          2.21381664e+00, -2.92425513e+00,  1.63156033e+00],\n",
       "        [-4.90784025e+00, -1.31784368e+00,  2.25287271e+00, ...,\n",
       "          3.22385883e+00, -9.48410034e+00, -3.74399376e+00],\n",
       "        [ 1.44021809e+00,  1.65201819e+00,  1.19239092e+01, ...,\n",
       "          3.07688046e+00, -6.23051739e+00,  8.28046203e-01]],\n",
       "\n",
       "       [[ 4.05417728e+00,  2.76948214e+00, -6.52812481e+00, ...,\n",
       "          5.35983038e+00,  2.89638758e+00, -1.47229242e+00],\n",
       "        [-3.13373017e+00, -4.85327148e+00, -4.33825636e+00, ...,\n",
       "          3.03779626e+00,  5.94585657e+00,  7.02687788e+00],\n",
       "        [ 1.02830925e+01,  1.06689787e+00,  4.03373480e-01, ...,\n",
       "         -7.76107597e+00, -2.92026949e+00, -9.91106033e-03],\n",
       "        ...,\n",
       "        [ 2.01323938e+00, -1.15336180e+00,  7.79407597e+00, ...,\n",
       "          3.44898641e-01,  3.14372253e+00, -9.13147163e+00],\n",
       "        [ 4.96959686e+00,  4.04847002e+00, -2.67107248e-01, ...,\n",
       "         -8.21812034e-01, -8.55154037e-01,  7.50263095e-01],\n",
       "        [ 2.72199297e+00, -1.75324547e+00, -4.79756832e+00, ...,\n",
       "         -3.29739571e+00, -3.08646679e+00, -1.00689783e+01]]],\n",
       "      dtype=float32)>"
      ]
     },
     "execution_count": 107,
     "metadata": {},
     "output_type": "execute_result"
    }
   ],
   "source": [
    "a = tf.random.normal([4,28,32])\n",
    "b = tf.random.normal([32,16])\n",
    "# 先自动扩展，再矩阵相乘\n",
    "tf.matmul(a,b)"
   ]
  }
 ],
 "metadata": {
  "kernelspec": {
   "display_name": "Python 3 (ipykernel)",
   "language": "python",
   "name": "python3"
  },
  "language_info": {
   "codemirror_mode": {
    "name": "ipython",
    "version": 3
   },
   "file_extension": ".py",
   "mimetype": "text/x-python",
   "name": "python",
   "nbconvert_exporter": "python",
   "pygments_lexer": "ipython3",
   "version": "3.7.13"
  },
  "toc": {
   "base_numbering": 1,
   "nav_menu": {},
   "number_sections": true,
   "sideBar": true,
   "skip_h1_title": false,
   "title_cell": "Table of Contents",
   "title_sidebar": "Contents",
   "toc_cell": false,
   "toc_position": {
    "height": "calc(100% - 180px)",
    "left": "10px",
    "top": "150px",
    "width": "273.188px"
   },
   "toc_section_display": true,
   "toc_window_display": true
  }
 },
 "nbformat": 4,
 "nbformat_minor": 1
}
