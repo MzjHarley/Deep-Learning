{
 "cells": [
  {
   "cell_type": "code",
   "execution_count": 1,
   "id": "b1c9d675",
   "metadata": {},
   "outputs": [],
   "source": [
    "import tensorflow as tf"
   ]
  },
  {
   "cell_type": "markdown",
   "id": "3df3d196",
   "metadata": {},
   "source": [
    "## 合并和分割"
   ]
  },
  {
   "cell_type": "markdown",
   "id": "696e0f82",
   "metadata": {},
   "source": [
    "### 合并\n",
    "合并是指将多个张量在某个维度上合并为一个张量。  \n",
    "张量的合并可以使用拼接(Concatenate)和堆叠(Stack)操作实现，拼接操作并不会产生新的维度，仅在现有的维度上合并，而堆叠会创建新维度。选择使用拼接还是堆叠操作来合并张量，取决于具体的场景是否需要创建新维度。"
   ]
  },
  {
   "cell_type": "markdown",
   "id": "d07fa164",
   "metadata": {},
   "source": [
    "#### 拼接\n",
    "在 TensorFlow 中，可以通过 tf.concat(tensors, axis)函数拼接张量，其中参数tensors 保存了所有需要合并的张量 List，axis 参数指定需要合并的维度索引。"
   ]
  },
  {
   "cell_type": "code",
   "execution_count": 2,
   "id": "faec8e15",
   "metadata": {},
   "outputs": [
    {
     "data": {
      "text/plain": [
       "TensorShape([10, 35, 8])"
      ]
     },
     "execution_count": 2,
     "metadata": {},
     "output_type": "execute_result"
    }
   ],
   "source": [
    "a = tf.random.normal([4,35,8]) \n",
    "b = tf.random.normal([6,35,8])\n",
    "tf.concat([a,b],axis=0).shape"
   ]
  },
  {
   "cell_type": "code",
   "execution_count": 3,
   "id": "d0894863",
   "metadata": {},
   "outputs": [
    {
     "data": {
      "text/plain": [
       "TensorShape([10, 35, 8])"
      ]
     },
     "execution_count": 3,
     "metadata": {},
     "output_type": "execute_result"
    }
   ],
   "source": [
    "a = tf.random.normal([10,35,4])\n",
    "b = tf.random.normal([10,35,4])\n",
    "tf.concat([a,b],axis=2).shape #在第三个维度上合并"
   ]
  },
  {
   "cell_type": "markdown",
   "id": "480f2794",
   "metadata": {},
   "source": [
    "拼接合并操作可以在任意的维度上进行，唯一的约束是非合并维度的长度必须一致。"
   ]
  },
  {
   "cell_type": "code",
   "execution_count": null,
   "id": "ccc1809b",
   "metadata": {},
   "outputs": [],
   "source": [
    "a = tf.random.normal([4,32,8])\n",
    "b = tf.random.normal([6,35,8])\n",
    "tf.concat([a,b],axis=0) # error"
   ]
  },
  {
   "cell_type": "markdown",
   "id": "a530bc9c",
   "metadata": {},
   "source": [
    "#### 堆叠\n",
    "如果在合并数据时，希望创建一个新的维度，则需要使用 tf.stack 操作。\n",
    "使用 tf.stack(tensors, axis)可以堆叠方式合并多个张量，通过 tensors 列表表示，参数axis 指定新维度插入的位置，axis 的用法与 tf.expand_dims 的一致，当axis ≥ 0时，在 axis之前插入；当axis < 0时，在 axis 之后插入新维度。"
   ]
  },
  {
   "cell_type": "code",
   "execution_count": 4,
   "id": "06a6617f",
   "metadata": {},
   "outputs": [
    {
     "data": {
      "text/plain": [
       "TensorShape([2, 35, 8])"
      ]
     },
     "execution_count": 4,
     "metadata": {},
     "output_type": "execute_result"
    }
   ],
   "source": [
    "a = tf.random.normal([35,8])\n",
    "b = tf.random.normal([35,8])\n",
    "tf.stack([a,b],axis=0).shape"
   ]
  },
  {
   "cell_type": "code",
   "execution_count": 5,
   "id": "d34c0f91",
   "metadata": {},
   "outputs": [
    {
     "data": {
      "text/plain": [
       "TensorShape([35, 8, 2])"
      ]
     },
     "execution_count": 5,
     "metadata": {},
     "output_type": "execute_result"
    }
   ],
   "source": [
    "a = tf.random.normal([35,8])\n",
    "b = tf.random.normal([35,8])\n",
    "tf.stack([a,b],axis=-1).shape"
   ]
  },
  {
   "cell_type": "markdown",
   "id": "8b0d7b08",
   "metadata": {},
   "source": [
    "tf.stack 也需要满足张量堆叠合并条件，它需要所有待合并的张量 shape 完全一致才可合并。"
   ]
  },
  {
   "cell_type": "code",
   "execution_count": null,
   "id": "01070389",
   "metadata": {},
   "outputs": [],
   "source": [
    "a = tf.random.normal([35,4])\n",
    "b = tf.random.normal([35,8])\n",
    "tf.stack([a,b],axis=-1) #error"
   ]
  },
  {
   "cell_type": "markdown",
   "id": "260c8511",
   "metadata": {},
   "source": [
    "### 分割\n",
    "合并操作的逆过程就是分割，将一个张量分拆为多个张量。  \n",
    "通过 tf.split(x, num_or_size_splits, axis)可以完成张量的分割操作，参数意义如下：  \n",
    "❑ x 参数：待分割张量。  \n",
    "❑ num_or_size_splits 参数：切割方案。当 num_or_size_splits 为单个数值时，如 10，表示等长切割为 10 份；  \n",
    "$ ~ ~ ~ ~ $当 num_or_size_splits 为 List 时，List 的每个元素表示每份的长度，如[2,4,2,2]表示切割为 4 份，每份的长度依次是 2、4、2、2。  \n",
    "❑ axis 参数：指定分割的维度索引号。\n"
   ]
  },
  {
   "cell_type": "code",
   "execution_count": 6,
   "id": "0cde3f1a",
   "metadata": {},
   "outputs": [
    {
     "data": {
      "text/plain": [
       "(list, 10, TensorShape([1, 35, 8]))"
      ]
     },
     "execution_count": 6,
     "metadata": {},
     "output_type": "execute_result"
    }
   ],
   "source": [
    "x = tf.random.normal([10,35,8])\n",
    "result = tf.split(x, num_or_size_splits=10, axis=0)\n",
    "type(result),len(result),result[0].shape"
   ]
  },
  {
   "cell_type": "code",
   "execution_count": 7,
   "id": "eeb1f4fa",
   "metadata": {},
   "outputs": [
    {
     "data": {
      "text/plain": [
       "(list,\n",
       " 4,\n",
       " TensorShape([4, 35, 8]),\n",
       " TensorShape([2, 35, 8]),\n",
       " TensorShape([2, 35, 8]),\n",
       " TensorShape([2, 35, 8]))"
      ]
     },
     "execution_count": 7,
     "metadata": {},
     "output_type": "execute_result"
    }
   ],
   "source": [
    "x = tf.random.normal([10,35,8])\n",
    "result = tf.split(x, num_or_size_splits=[4,2,2,2] ,axis=0)\n",
    "type(result),len(result),result[0].shape,result[1].shape,result[2].shape,result[3].shape"
   ]
  },
  {
   "cell_type": "markdown",
   "id": "2a7887f6",
   "metadata": {},
   "source": [
    "特别地，如果希望在某个维度上全部按长度为 1 的方式分割，还可以使用 tf.unstack(x,axis)函数。这种方式是 tf.split 的一种特殊情况，切割长度固定为 1，只需要指定切割维度的索引号即可。"
   ]
  },
  {
   "cell_type": "code",
   "execution_count": 8,
   "id": "651e0cbd",
   "metadata": {},
   "outputs": [
    {
     "data": {
      "text/plain": [
       "(list, 10, TensorShape([35, 8]))"
      ]
     },
     "execution_count": 8,
     "metadata": {},
     "output_type": "execute_result"
    }
   ],
   "source": [
    "x = tf.random.normal([10,35,8])\n",
    "result = tf.unstack(x,axis=0)\n",
    "type(result),len(result),result[0].shape"
   ]
  },
  {
   "cell_type": "markdown",
   "id": "ce17b611",
   "metadata": {},
   "source": [
    "### 数据统计\n",
    "在神经网络的计算过程中，经常需要统计数据的各种属性，如最值、最值位置、均值、范数等信息。由于张量通常较大，直接观察数据很难获得有用信息，通过获取这些张量的统计信息可以较轻松地推测张量数值的分布。"
   ]
  },
  {
   "cell_type": "markdown",
   "id": "5f5c29c5",
   "metadata": {},
   "source": [
    "####  向量范数\n",
    "向量范数(Vector Norm)是表征向量“长度”的一种度量方法，它可以推广到张量上。  \n",
    "在神经网络中，常用来表示张量的权值大小，梯度大小等。常用的向量范数有：  \n",
    "❑ L1 范数，定义为向量𝒙的所有元素绝对值之和  \n",
    "$ ~ ~ ~ ~ ~ ~ ~ ~ ‖𝒙‖_1 = \\underset{i}{\\sum}|𝑥_𝑖|$  \n",
    "❑ L2 范数，定义为向量𝒙的所有元素的平方和，再开根号  \n",
    "$~ ~ ~ ~ ~ ~ ~ ~ ‖𝒙‖_2 = \\sqrt{\\underset{i}{\\sum}|𝑥_𝑖|^2}$  \n",
    "❑ ∞ −范数，定义为向量𝒙的所有元素绝对值的最大值：  \n",
    "$~ ~ ~ ~ ~ ~ ~ ~ ‖𝒙‖_∞ = 𝑚𝑎𝑥(|𝑥_𝑖|)$  \n",
    "  \n",
    "在 TensorFlow 中，可以通过 tf.norm(x, ord)求解张量的 L1、L2、∞等范数，其中参数\n",
    "ord 指定为 1、2 时计算 L1、L2 范数，指定为 np.inf 时计算∞ −范数."
   ]
  },
  {
   "cell_type": "code",
   "execution_count": 9,
   "id": "9861ed37",
   "metadata": {},
   "outputs": [
    {
     "data": {
      "text/plain": [
       "(<tf.Tensor: shape=(), dtype=float32, numpy=4.0>,\n",
       " <tf.Tensor: shape=(), dtype=float32, numpy=2.0>,\n",
       " <tf.Tensor: shape=(), dtype=float32, numpy=1.0>)"
      ]
     },
     "execution_count": 9,
     "metadata": {},
     "output_type": "execute_result"
    }
   ],
   "source": [
    "import numpy as np\n",
    "x = tf.ones([2,2])\n",
    "tf.norm(x,ord=1),tf.norm(x,ord=2),tf.norm(x,ord=np.inf)"
   ]
  },
  {
   "cell_type": "markdown",
   "id": "5ff5a8b8",
   "metadata": {},
   "source": [
    "#### 最值、均值、和\n",
    "通过 tf.reduce_max、tf.reduce_min、tf.reduce_mean、tf.reduce_sum 函数可以求解张量在某个维度上的最大、最小、均值、和，也可以求全局最大、最小、均值、和信息。 "
   ]
  },
  {
   "cell_type": "code",
   "execution_count": 10,
   "id": "2cb5a3d2",
   "metadata": {},
   "outputs": [
    {
     "data": {
      "text/plain": [
       "<tf.Tensor: shape=(4,), dtype=float32, numpy=array([0.6667218, 1.5957055, 1.7136148, 2.0847924], dtype=float32)>"
      ]
     },
     "execution_count": 10,
     "metadata": {},
     "output_type": "execute_result"
    }
   ],
   "source": [
    "x = tf.random.normal([4,10]) \n",
    "tf.reduce_max(x,axis=1) "
   ]
  },
  {
   "cell_type": "code",
   "execution_count": 11,
   "id": "5f182a42",
   "metadata": {},
   "outputs": [
    {
     "data": {
      "text/plain": [
       "<tf.Tensor: shape=(4,), dtype=float32, numpy=array([-1.3424911, -2.7624686, -3.117391 , -1.7332194], dtype=float32)>"
      ]
     },
     "execution_count": 11,
     "metadata": {},
     "output_type": "execute_result"
    }
   ],
   "source": [
    "tf.reduce_min(x,axis=1)"
   ]
  },
  {
   "cell_type": "code",
   "execution_count": 12,
   "id": "3cef2c90",
   "metadata": {},
   "outputs": [
    {
     "data": {
      "text/plain": [
       "<tf.Tensor: shape=(4,), dtype=float32, numpy=array([-0.23468718, -0.17277518, -0.09554444,  0.207407  ], dtype=float32)>"
      ]
     },
     "execution_count": 12,
     "metadata": {},
     "output_type": "execute_result"
    }
   ],
   "source": [
    " tf.reduce_mean(x,axis=1)"
   ]
  },
  {
   "cell_type": "markdown",
   "id": "81ab885b",
   "metadata": {},
   "source": [
    "当不指定 axis 参数时，tf.reduce_ * 函数会求解出全局元素的最大、最小、均值、和等数据"
   ]
  },
  {
   "cell_type": "code",
   "execution_count": 13,
   "id": "2a4f9cd2",
   "metadata": {},
   "outputs": [
    {
     "data": {
      "text/plain": [
       "(<tf.Tensor: shape=(), dtype=float32, numpy=2.362527>,\n",
       " <tf.Tensor: shape=(), dtype=float32, numpy=-2.6612773>,\n",
       " <tf.Tensor: shape=(), dtype=float32, numpy=0.08071161>)"
      ]
     },
     "execution_count": 13,
     "metadata": {},
     "output_type": "execute_result"
    }
   ],
   "source": [
    "x = tf.random.normal([4,10])\n",
    "tf.reduce_max(x),tf.reduce_min(x),tf.reduce_mean(x)"
   ]
  },
  {
   "cell_type": "code",
   "execution_count": 14,
   "id": "684db65c",
   "metadata": {},
   "outputs": [
    {
     "data": {
      "text/plain": [
       "<tf.Tensor: shape=(), dtype=float32, numpy=1.1941783>"
      ]
     },
     "execution_count": 14,
     "metadata": {},
     "output_type": "execute_result"
    }
   ],
   "source": [
    "out = tf.random.normal([4,10])\n",
    "y = tf.constant([1,2,2,0])\n",
    "y = tf.one_hot(y,depth=10)\n",
    "loss = tf.keras.losses.mse(y,out)\n",
    "loss = tf.reduce_mean(loss)\n",
    "loss"
   ]
  },
  {
   "cell_type": "code",
   "execution_count": 15,
   "id": "0d6322fb",
   "metadata": {},
   "outputs": [
    {
     "data": {
      "text/plain": [
       "<tf.Tensor: shape=(4,), dtype=float32, numpy=array([ 5.5962934, -4.9783134, -4.3652864, -1.5307162], dtype=float32)>"
      ]
     },
     "execution_count": 15,
     "metadata": {},
     "output_type": "execute_result"
    }
   ],
   "source": [
    "out = tf.random.normal([4,10])\n",
    "tf.reduce_sum(out,axis=-1)# 求最后一个维度的和"
   ]
  },
  {
   "cell_type": "code",
   "execution_count": 16,
   "id": "32b5be7f",
   "metadata": {},
   "outputs": [
    {
     "data": {
      "text/plain": [
       "<tf.Tensor: shape=(2, 10), dtype=float32, numpy=\n",
       "array([[0.00977206, 0.14287387, 0.15072855, 0.21675526, 0.12673135,\n",
       "        0.09582576, 0.04481831, 0.152985  , 0.01998711, 0.03952277],\n",
       "       [0.03949009, 0.0670123 , 0.10296018, 0.26030487, 0.2343173 ,\n",
       "        0.04061415, 0.03966101, 0.02329994, 0.1806511 , 0.01168898]],\n",
       "      dtype=float32)>"
      ]
     },
     "execution_count": 16,
     "metadata": {},
     "output_type": "execute_result"
    }
   ],
   "source": [
    "out = tf.random.normal([2,10])\n",
    "out = tf.nn.softmax(out, axis=1)\n",
    "out"
   ]
  },
  {
   "cell_type": "markdown",
   "id": "36be10cc",
   "metadata": {},
   "source": [
    "通过 tf.argmax(x, axis)和 tf.argmin(x, axis)可以求解在 axis 轴上，x 的最大值、最小值所在的索引号"
   ]
  },
  {
   "cell_type": "code",
   "execution_count": 17,
   "id": "0487e2c9",
   "metadata": {},
   "outputs": [
    {
     "data": {
      "text/plain": [
       "<tf.Tensor: shape=(2,), dtype=int64, numpy=array([3, 3], dtype=int64)>"
      ]
     },
     "execution_count": 17,
     "metadata": {},
     "output_type": "execute_result"
    }
   ],
   "source": [
    "pred = tf.argmax(out, axis=1) # 选取概率最大的位置\n",
    "pred"
   ]
  },
  {
   "cell_type": "markdown",
   "id": "269b228f",
   "metadata": {},
   "source": [
    "## 张量比较"
   ]
  },
  {
   "cell_type": "code",
   "execution_count": 18,
   "id": "0ed775f0",
   "metadata": {},
   "outputs": [
    {
     "data": {
      "text/plain": [
       "<tf.Tensor: shape=(100,), dtype=int64, numpy=\n",
       "array([8, 8, 1, 0, 3, 7, 3, 4, 6, 9, 7, 5, 9, 0, 3, 3, 9, 0, 3, 3, 2, 9,\n",
       "       6, 8, 7, 5, 1, 9, 1, 3, 8, 2, 8, 8, 9, 5, 9, 8, 5, 7, 9, 6, 0, 5,\n",
       "       7, 6, 9, 7, 9, 8, 7, 3, 9, 8, 5, 3, 6, 6, 7, 4, 2, 2, 0, 9, 6, 4,\n",
       "       1, 5, 0, 2, 4, 2, 8, 5, 6, 5, 0, 1, 5, 5, 4, 0, 6, 2, 8, 9, 7, 8,\n",
       "       6, 4, 4, 1, 1, 5, 8, 2, 6, 9, 1, 4], dtype=int64)>"
      ]
     },
     "execution_count": 18,
     "metadata": {},
     "output_type": "execute_result"
    }
   ],
   "source": [
    "out = tf.random.normal([100,10])\n",
    "out = tf.nn.softmax(out, axis=1)\n",
    "pred = tf.argmax(out, axis=1)\n",
    "pred"
   ]
  },
  {
   "cell_type": "markdown",
   "id": "aa9cd3ae",
   "metadata": {},
   "source": [
    "tf.equal()函数返回布尔类型的张量比较结果，只需要统计张量中 True 元素的个数，即可知道预测正确的个数。"
   ]
  },
  {
   "cell_type": "code",
   "execution_count": 19,
   "id": "1597564c",
   "metadata": {},
   "outputs": [
    {
     "data": {
      "text/plain": [
       "<tf.Tensor: shape=(100,), dtype=bool, numpy=\n",
       "array([False, False, False, False, False, False, False, False, False,\n",
       "       False, False, False, False, False, False, False, False,  True,\n",
       "       False, False, False, False, False, False, False, False, False,\n",
       "       False, False, False, False, False, False, False, False, False,\n",
       "       False, False, False,  True,  True, False,  True, False,  True,\n",
       "       False, False,  True, False, False, False, False, False, False,\n",
       "       False, False,  True, False, False, False, False, False, False,\n",
       "       False,  True, False, False, False, False, False, False, False,\n",
       "       False, False, False, False, False, False, False, False, False,\n",
       "        True, False, False, False, False,  True, False, False, False,\n",
       "       False, False, False, False, False, False, False, False, False,\n",
       "       False])>"
      ]
     },
     "execution_count": 19,
     "metadata": {},
     "output_type": "execute_result"
    }
   ],
   "source": [
    "y = tf.random.uniform([100],dtype=tf.int64,maxval=10)\n",
    "out = tf.equal(pred,y)\n",
    "out "
   ]
  },
  {
   "cell_type": "code",
   "execution_count": 20,
   "id": "e9117402",
   "metadata": {},
   "outputs": [
    {
     "data": {
      "text/plain": [
       "<tf.Tensor: shape=(), dtype=float32, numpy=10.0>"
      ]
     },
     "execution_count": 20,
     "metadata": {},
     "output_type": "execute_result"
    }
   ],
   "source": [
    "out = tf.cast(out, dtype=tf.float32) # 布尔型转 int 型,True 对应为 1，False 对应为 0\n",
    "correct = tf.reduce_sum(out) # 统计 True 的个数\n",
    "correct"
   ]
  },
  {
   "cell_type": "markdown",
   "id": "2161e3f1",
   "metadata": {},
   "source": [
    "除了比较相等的 tf.equal(a, b)函数，其它的比较函数用法类似.  \n",
    "  \n",
    "|常用比较函数|比较逻辑|\n",
    "|---|---|\n",
    "|tf.math.greater| 𝑎 > 𝑏|\n",
    "|tf.math.less |𝑎 < 𝑏|\n",
    "|tf.math.greater_equal |𝑎 ≥ 𝑏|\n",
    "|tf.math.less_equal |𝑎 ≤ 𝑏|\n",
    "|tf.math.not_equal |𝑎 ≠ 𝑏|\n",
    "|tf.math.is_nan |𝑎 = nan|\n"
   ]
  },
  {
   "cell_type": "markdown",
   "id": "a9564439",
   "metadata": {},
   "source": [
    "## 填充复制"
   ]
  },
  {
   "cell_type": "markdown",
   "id": "5a7fa03b",
   "metadata": {},
   "source": [
    "### 填充\n",
    "对于图片数据的高和宽、序列信号的长度，维度长度可能各不相同。为了方便网络的并行计算，需要将不同长度的数据扩张为相同长度，之前我们介绍了通过复制的方式可以增加数据的长度，但是重复复制数据会破坏原有的数据结构，并不适合于此处。通常的做法是，在需要补充长度的数据开始或结束处填充足够数量的特定数值，这些特定数值一般代表了无效意义，例如 0，使得填充后的长度满足系统要求。那么这种操作就叫作填充(Padding)"
   ]
  },
  {
   "cell_type": "markdown",
   "id": "14d5f5f4",
   "metadata": {},
   "source": [
    "填充操作可以通过 tf.pad(x, paddings)函数实现，参数 paddings 是包含了多个[Left Padding,Right Padding]的嵌套方案 List，如[[0,0],[2,1],[1,2]]表示第一个维度不填充，第二个维度左边(起始处)填充两个单元，右边(结束处)填充一个单元，第三个维度左边填充一个单元"
   ]
  },
  {
   "cell_type": "code",
   "execution_count": 21,
   "id": "0895b2d8",
   "metadata": {},
   "outputs": [
    {
     "data": {
      "text/plain": [
       "<tf.Tensor: shape=(6,), dtype=int32, numpy=array([7, 8, 1, 6, 0, 0])>"
      ]
     },
     "execution_count": 21,
     "metadata": {},
     "output_type": "execute_result"
    }
   ],
   "source": [
    "a = tf.constant([1,2,3,4,5,6]) # 第一个句子\n",
    "b = tf.constant([7,8,1,6]) # 第二个句子\n",
    "b = tf.pad(b, [[0,2]]) # 句子末尾填充 2 个 0\n",
    "b"
   ]
  },
  {
   "cell_type": "code",
   "execution_count": 22,
   "id": "159f1b69",
   "metadata": {},
   "outputs": [
    {
     "data": {
      "text/plain": [
       "<tf.Tensor: shape=(2, 6), dtype=int32, numpy=\n",
       "array([[1, 2, 3, 4, 5, 6],\n",
       "       [7, 8, 1, 6, 0, 0]])>"
      ]
     },
     "execution_count": 22,
     "metadata": {},
     "output_type": "execute_result"
    }
   ],
   "source": [
    "tf.stack([a,b],axis=0)"
   ]
  },
  {
   "cell_type": "markdown",
   "id": "f0e60832",
   "metadata": {},
   "source": [
    "在自然语言处理中，需要加载不同句子长度的数据集，有些句子长度较小，如仅 10 个单词，部份句子长度较长，如超过 100 个单词。为了能够保存在同一张量中，一般会选取能够覆盖大部分句子长度的阈值，如 80 个单词。对于小于 80 个单词的句子，在末尾填充相应数量的 0；对大于 80 个单词的句子，截断超过规定长度的部分单词。以 IMDB 数据集的加载为例，我们来演示如何将不等长的句子变换为等长结构:"
   ]
  },
  {
   "cell_type": "code",
   "execution_count": 24,
   "id": "a7f98604",
   "metadata": {},
   "outputs": [
    {
     "name": "stdout",
     "output_type": "stream",
     "text": [
      "(25000, 80) (25000, 80)\n"
     ]
    }
   ],
   "source": [
    "total_words = 10000 # 设定词汇量大小\n",
    "max_review_len = 80 # 最大句子长度\n",
    "embedding_len = 100 # 词向量长度\n",
    "(x_train, y_train), (x_test, y_test) = tf.keras.datasets.imdb.load_data(num_words=total_words)\n",
    "# 将句子填充或截断到相同长度，设置为末尾填充和末尾截断方式\n",
    "x_train = tf.keras.preprocessing.sequence.pad_sequences(x_train, maxlen=max_review_len,truncating='post',padding='post')\n",
    "x_test = tf.keras.preprocessing.sequence.pad_sequences(x_test, maxlen=max_review_len,truncating='post',padding='post')\n",
    "print(x_train.shape, x_test.shape)"
   ]
  },
  {
   "cell_type": "code",
   "execution_count": 25,
   "id": "dfbd632b",
   "metadata": {},
   "outputs": [
    {
     "data": {
      "text/plain": [
       "TensorShape([4, 32, 32, 1])"
      ]
     },
     "execution_count": 25,
     "metadata": {},
     "output_type": "execute_result"
    }
   ],
   "source": [
    "x = tf.random.normal([4,28,28,1])\n",
    "tf.pad(x,[[0,0],[2,2],[2,2],[0,0]]).shape"
   ]
  },
  {
   "cell_type": "markdown",
   "id": "a58b9126",
   "metadata": {},
   "source": [
    "### 复制\n",
    "通过 tf.tile()函数实现长度为 1 的维度复制的功能。tf.tile 函数除了可以对长度为 1 的维度进行复制若干份，还可以对任意长度的维度进行复制若干份，进行复制时会根据原来的数据次序重复复制."
   ]
  },
  {
   "cell_type": "code",
   "execution_count": 26,
   "id": "2450f01e",
   "metadata": {},
   "outputs": [
    {
     "data": {
      "text/plain": [
       "TensorShape([8, 96, 96, 3])"
      ]
     },
     "execution_count": 26,
     "metadata": {},
     "output_type": "execute_result"
    }
   ],
   "source": [
    "x = tf.random.normal([4,32,32,3])\n",
    "tf.tile(x,[2,3,3,1]).shape #[4,32,32,3]- >[4,32,96,3]- >[4,96,96,3]- >[8,96,96,3]"
   ]
  },
  {
   "cell_type": "markdown",
   "id": "55fef779",
   "metadata": {},
   "source": [
    "## 数据限幅\n",
    "考虑怎么实现非线性激活函数 ReLU 的问题。它其实可以通过简单的数据限幅运算实现，限制元素的范围𝑥 ∈ [0, +∞)即可。  \n",
    "在 TensorFlow 中，可以通过 tf.maximum(x, a)实现数据的下限幅，即𝑥 ∈ [𝑎, +∞)；  \n",
    "$~ ~ ~ ~ ~ ~ ~ ~ ~ ~ ~~ ~ ~ ~ ~ ~~~ ~ ~ ~ ~~ ~ ~ ~ ~ ~$可以通过 tf.minimum(x, a)实现数据的上限幅，即𝑥 ∈ (−∞,𝑎]."
   ]
  },
  {
   "cell_type": "code",
   "execution_count": 27,
   "id": "bb0b745a",
   "metadata": {},
   "outputs": [
    {
     "data": {
      "text/plain": [
       "<tf.Tensor: shape=(9,), dtype=int32, numpy=array([2, 2, 2, 3, 4, 5, 6, 7, 8])>"
      ]
     },
     "execution_count": 27,
     "metadata": {},
     "output_type": "execute_result"
    }
   ],
   "source": [
    "x = tf.range(9)\n",
    "tf.maximum(x,2)"
   ]
  },
  {
   "cell_type": "code",
   "execution_count": 28,
   "id": "2112fdb2",
   "metadata": {},
   "outputs": [
    {
     "data": {
      "text/plain": [
       "<tf.Tensor: shape=(9,), dtype=int32, numpy=array([0, 1, 2, 3, 4, 5, 6, 7, 7])>"
      ]
     },
     "execution_count": 28,
     "metadata": {},
     "output_type": "execute_result"
    }
   ],
   "source": [
    "tf.minimum(x,7)"
   ]
  },
  {
   "cell_type": "markdown",
   "id": "6b136612",
   "metadata": {},
   "source": [
    "通过组合 tf.maximum(x, a)和 tf.minimum(x, b)可以实现同时对数据的上下边界限幅，即𝑥 ∈ [𝑎, 𝑏]"
   ]
  },
  {
   "cell_type": "code",
   "execution_count": 29,
   "id": "7f7c1068",
   "metadata": {},
   "outputs": [
    {
     "data": {
      "text/plain": [
       "<tf.Tensor: shape=(9,), dtype=int32, numpy=array([2, 2, 2, 3, 4, 5, 6, 7, 7])>"
      ]
     },
     "execution_count": 29,
     "metadata": {},
     "output_type": "execute_result"
    }
   ],
   "source": [
    "tf.minimum(tf.maximum(x,2),7) "
   ]
  },
  {
   "cell_type": "markdown",
   "id": "a3982fb8",
   "metadata": {},
   "source": [
    "更方便地，我们可以使用 tf.clip_by_value 函数实现上下限幅"
   ]
  },
  {
   "cell_type": "code",
   "execution_count": 30,
   "id": "d62568f7",
   "metadata": {},
   "outputs": [
    {
     "data": {
      "text/plain": [
       "<tf.Tensor: shape=(9,), dtype=int32, numpy=array([2, 2, 2, 3, 4, 5, 6, 7, 7])>"
      ]
     },
     "execution_count": 30,
     "metadata": {},
     "output_type": "execute_result"
    }
   ],
   "source": [
    "x = tf.range(9)\n",
    "tf.clip_by_value(x,2,7)"
   ]
  },
  {
   "cell_type": "markdown",
   "id": "0b71d336",
   "metadata": {},
   "source": [
    "## 高级操作"
   ]
  },
  {
   "cell_type": "markdown",
   "id": "7b7d2e14",
   "metadata": {},
   "source": [
    "## tf.gather\n",
    "tf.gather 可以实现根据索引号收集数据的目的"
   ]
  },
  {
   "cell_type": "code",
   "execution_count": 31,
   "id": "ed20b88d",
   "metadata": {},
   "outputs": [
    {
     "data": {
      "text/plain": [
       "TensorShape([2, 35, 8])"
      ]
     },
     "execution_count": 31,
     "metadata": {},
     "output_type": "execute_result"
    }
   ],
   "source": [
    "x = tf.random.uniform([4,35,8],maxval=100,dtype=tf.int32)\n",
    "tf.gather(x,[0,1],axis=0).shape #收集第一个维度上的0~1的数据"
   ]
  },
  {
   "cell_type": "code",
   "execution_count": 32,
   "id": "7f2aa585",
   "metadata": {},
   "outputs": [
    {
     "data": {
      "text/plain": [
       "TensorShape([4, 6, 8])"
      ]
     },
     "execution_count": 32,
     "metadata": {},
     "output_type": "execute_result"
    }
   ],
   "source": [
    "tf.gather(x,[0,3,8,11,12,26],axis=1).shape"
   ]
  },
  {
   "cell_type": "code",
   "execution_count": 33,
   "id": "ac547f7c",
   "metadata": {},
   "outputs": [
    {
     "data": {
      "text/plain": [
       "TensorShape([4, 35, 2])"
      ]
     },
     "execution_count": 33,
     "metadata": {},
     "output_type": "execute_result"
    }
   ],
   "source": [
    "tf.gather(x,[2,4],axis=2).shape"
   ]
  },
  {
   "cell_type": "code",
   "execution_count": 34,
   "id": "d6cdc774",
   "metadata": {},
   "outputs": [
    {
     "data": {
      "text/plain": [
       "<tf.Tensor: shape=(4, 2), dtype=int32, numpy=\n",
       "array([[6, 7],\n",
       "       [2, 3],\n",
       "       [0, 1],\n",
       "       [4, 5]])>"
      ]
     },
     "execution_count": 34,
     "metadata": {},
     "output_type": "execute_result"
    }
   ],
   "source": [
    "a=tf.reshape(tf.range(8),[4,2]) \n",
    "tf.gather(a,[3,1,0,2],axis=0)"
   ]
  },
  {
   "cell_type": "code",
   "execution_count": 35,
   "id": "344b3733",
   "metadata": {},
   "outputs": [
    {
     "data": {
      "text/plain": [
       "TensorShape([2, 4, 8])"
      ]
     },
     "execution_count": 35,
     "metadata": {},
     "output_type": "execute_result"
    }
   ],
   "source": [
    "tf.gather(tf.gather(x,[1,2],axis=0),[2,3,5,26],axis=1).shape"
   ]
  },
  {
   "cell_type": "markdown",
   "id": "a659261e",
   "metadata": {},
   "source": [
    "## tf.gather_nd\n",
    "通过 tf.gather_nd 函数，可以通过指定每次采样点的多维坐标来实现采样多个点的目的"
   ]
  },
  {
   "cell_type": "code",
   "execution_count": 36,
   "id": "ee8a6d57",
   "metadata": {},
   "outputs": [
    {
     "data": {
      "text/plain": [
       "<tf.Tensor: shape=(3, 8), dtype=int32, numpy=\n",
       "array([[71, 84,  1, 89, 20, 49,  1, 55],\n",
       "       [34, 37,  0, 87, 94, 60, 35, 60],\n",
       "       [80, 63, 77, 63, 37, 60, 66, 59]])>"
      ]
     },
     "execution_count": 36,
     "metadata": {},
     "output_type": "execute_result"
    }
   ],
   "source": [
    "tf.stack([x[1,1],x[2,2],x[3,3]],axis=0)"
   ]
  },
  {
   "cell_type": "code",
   "execution_count": 37,
   "id": "26437937",
   "metadata": {},
   "outputs": [
    {
     "data": {
      "text/plain": [
       "<tf.Tensor: shape=(3, 8), dtype=int32, numpy=\n",
       "array([[71, 84,  1, 89, 20, 49,  1, 55],\n",
       "       [34, 37,  0, 87, 94, 60, 35, 60],\n",
       "       [80, 63, 77, 63, 37, 60, 66, 59]])>"
      ]
     },
     "execution_count": 37,
     "metadata": {},
     "output_type": "execute_result"
    }
   ],
   "source": [
    "tf.gather_nd(x,[[1,1],[2,2],[3,3]])"
   ]
  },
  {
   "cell_type": "code",
   "execution_count": 38,
   "id": "fcc76c96",
   "metadata": {},
   "outputs": [
    {
     "data": {
      "text/plain": [
       "<tf.Tensor: shape=(3,), dtype=int32, numpy=array([ 1, 87, 37])>"
      ]
     },
     "execution_count": 38,
     "metadata": {},
     "output_type": "execute_result"
    }
   ],
   "source": [
    "tf.gather_nd(x,[[1,1,2],[2,2,3],[3,3,4]])"
   ]
  },
  {
   "cell_type": "markdown",
   "id": "b20a2461",
   "metadata": {},
   "source": [
    "###  tf.boolean_mask\n",
    "除了可以通过给定索引号的方式采样，还可以通过给定掩码(Mask)的方式进行采样。继续以 shape 为[4,35,8]的张量为例，这次我们以掩码方式进行数据提取。"
   ]
  },
  {
   "cell_type": "code",
   "execution_count": 39,
   "id": "a00d340b",
   "metadata": {},
   "outputs": [
    {
     "data": {
      "text/plain": [
       "TensorShape([2, 35, 8])"
      ]
     },
     "execution_count": 39,
     "metadata": {},
     "output_type": "execute_result"
    }
   ],
   "source": [
    "tf.boolean_mask(x,mask=[True, False,False,True],axis=0).shape"
   ]
  },
  {
   "cell_type": "code",
   "execution_count": 40,
   "id": "f181f4ab",
   "metadata": {},
   "outputs": [
    {
     "data": {
      "text/plain": [
       "TensorShape([4, 35, 4])"
      ]
     },
     "execution_count": 40,
     "metadata": {},
     "output_type": "execute_result"
    }
   ],
   "source": [
    "tf.boolean_mask(x,mask=[True,False,False,True,True,False,False,True],axis=2).shape"
   ]
  },
  {
   "cell_type": "code",
   "execution_count": 41,
   "id": "8df7584d",
   "metadata": {},
   "outputs": [
    {
     "data": {
      "text/plain": [
       "<tf.Tensor: shape=(4, 8), dtype=int32, numpy=\n",
       "array([[13, 61, 52, 26,  6, 17,  0, 37],\n",
       "       [83, 92, 81, 42, 74, 33, 37, 83],\n",
       "       [75, 12, 11, 17,  3, 45, 91, 12],\n",
       "       [68,  8,  4, 72, 11, 24, 55, 70]])>"
      ]
     },
     "execution_count": 41,
     "metadata": {},
     "output_type": "execute_result"
    }
   ],
   "source": [
    "x = tf.random.uniform([2,3,8],maxval=100,dtype=tf.int32)\n",
    "tf.gather_nd(x,[[0,0],[0,1],[1,1],[1,2]])"
   ]
  },
  {
   "cell_type": "code",
   "execution_count": 42,
   "id": "45e00fe5",
   "metadata": {},
   "outputs": [
    {
     "data": {
      "text/plain": [
       "<tf.Tensor: shape=(4, 8), dtype=int32, numpy=\n",
       "array([[13, 61, 52, 26,  6, 17,  0, 37],\n",
       "       [83, 92, 81, 42, 74, 33, 37, 83],\n",
       "       [75, 12, 11, 17,  3, 45, 91, 12],\n",
       "       [68,  8,  4, 72, 11, 24, 55, 70]])>"
      ]
     },
     "execution_count": 42,
     "metadata": {},
     "output_type": "execute_result"
    }
   ],
   "source": [
    "tf.boolean_mask(x,[[True,True,False],[False,True,True]])"
   ]
  },
  {
   "cell_type": "markdown",
   "id": "9c099138",
   "metadata": {},
   "source": [
    "###  tf.where\n",
    "通过 tf.where(cond, a, b)操作可以根据 cond 条件的真假从参数𝑨或𝑩中读取数据，条件判定规则如下：\n",
    "$o_i=\\begin{cases}a_i  &cond _𝑖为 True\\\\\\ b_i &cond _𝑖为False\\end{cases}$  \n",
    "其中𝑖为张量的元素索引，返回的张量大小与𝑨和𝑩一致，当对应位置的$cond_𝑖$为 $True$，$𝑜_𝑖$从$𝑎_𝑖$中复制数据；当对应位置的$cond_𝑖$为 $False$，$𝑜_𝑖$从$𝑏_𝑖$中复制数据。"
   ]
  },
  {
   "cell_type": "code",
   "execution_count": 43,
   "id": "50c044eb",
   "metadata": {},
   "outputs": [
    {
     "data": {
      "text/plain": [
       "<tf.Tensor: shape=(3, 3), dtype=float32, numpy=\n",
       "array([[1., 0., 0.],\n",
       "       [0., 1., 0.],\n",
       "       [1., 1., 0.]], dtype=float32)>"
      ]
     },
     "execution_count": 43,
     "metadata": {},
     "output_type": "execute_result"
    }
   ],
   "source": [
    "a = tf.ones([3,3])\n",
    "b = tf.zeros([3,3]) \n",
    "cond = tf.constant([[True,False,False],[False,True,False],[True,True,False]])\n",
    "tf.where(cond,a,b)"
   ]
  },
  {
   "cell_type": "markdown",
   "id": "8133611b",
   "metadata": {},
   "source": [
    "当参数 a=b=None 时，即 a 和 b 参数不指定，tf.where 会返回 cond 张量中所有 True 的元素的索引坐标."
   ]
  },
  {
   "cell_type": "code",
   "execution_count": 44,
   "id": "0fb4b052",
   "metadata": {},
   "outputs": [
    {
     "data": {
      "text/plain": [
       "<tf.Tensor: shape=(4, 2), dtype=int64, numpy=\n",
       "array([[0, 0],\n",
       "       [1, 1],\n",
       "       [2, 0],\n",
       "       [2, 1]], dtype=int64)>"
      ]
     },
     "execution_count": 44,
     "metadata": {},
     "output_type": "execute_result"
    }
   ],
   "source": [
    "tf.where(cond) "
   ]
  },
  {
   "cell_type": "code",
   "execution_count": 45,
   "id": "f8f5a0c6",
   "metadata": {},
   "outputs": [
    {
     "name": "stdout",
     "output_type": "stream",
     "text": [
      "tf.Tensor(\n",
      "[[False  True False]\n",
      " [ True  True False]\n",
      " [ True False  True]], shape=(3, 3), dtype=bool)\n"
     ]
    },
    {
     "data": {
      "text/plain": [
       "<tf.Tensor: shape=(5, 2), dtype=int64, numpy=\n",
       "array([[0, 1],\n",
       "       [1, 0],\n",
       "       [1, 1],\n",
       "       [2, 0],\n",
       "       [2, 2]], dtype=int64)>"
      ]
     },
     "execution_count": 45,
     "metadata": {},
     "output_type": "execute_result"
    }
   ],
   "source": [
    "x = tf.random.normal([3,3])\n",
    "mask=x>0\n",
    "print(mask)\n",
    "indices=tf.where(mask)\n",
    "indices"
   ]
  },
  {
   "cell_type": "code",
   "execution_count": 46,
   "id": "34d44b26",
   "metadata": {},
   "outputs": [
    {
     "data": {
      "text/plain": [
       "<tf.Tensor: shape=(5,), dtype=float32, numpy=\n",
       "array([0.03511791, 0.05371907, 0.75768787, 0.15414286, 0.14002506],\n",
       "      dtype=float32)>"
      ]
     },
     "execution_count": 46,
     "metadata": {},
     "output_type": "execute_result"
    }
   ],
   "source": [
    "tf.gather_nd(x,indices) "
   ]
  },
  {
   "cell_type": "code",
   "execution_count": 47,
   "id": "b6190caf",
   "metadata": {},
   "outputs": [
    {
     "data": {
      "text/plain": [
       "<tf.Tensor: shape=(5,), dtype=float32, numpy=\n",
       "array([0.03511791, 0.05371907, 0.75768787, 0.15414286, 0.14002506],\n",
       "      dtype=float32)>"
      ]
     },
     "execution_count": 47,
     "metadata": {},
     "output_type": "execute_result"
    }
   ],
   "source": [
    "tf.boolean_mask(x,mask)"
   ]
  },
  {
   "cell_type": "markdown",
   "id": "f26036b3",
   "metadata": {},
   "source": [
    "### scatter_nd\n",
    "通过 tf.scatter_nd(indices, updates, shape)函数可以高效地刷新张量的部分数据，但是这个函数只能在全 0 的白板张量上面执行刷新操作，因此可能需要结合其它操作来实现现有张量的数据刷新功能。"
   ]
  },
  {
   "cell_type": "code",
   "execution_count": 48,
   "id": "fdfcff82",
   "metadata": {},
   "outputs": [
    {
     "data": {
      "text/plain": [
       "<tf.Tensor: shape=(8,), dtype=float32, numpy=array([0. , 1.1, 0. , 3.3, 4.4, 0. , 0. , 7.7], dtype=float32)>"
      ]
     },
     "execution_count": 48,
     "metadata": {},
     "output_type": "execute_result"
    }
   ],
   "source": [
    "indices = tf.constant([[4], [3], [1], [7]])\n",
    "# 构造需要写入的数据，4 号位写入 4.4,3 号位写入 3.3，以此类推\n",
    "updates = tf.constant([4.4, 3.3, 1.1, 7.7]) \n",
    "# 在长度为 8 的全 0 向量上根据 indices 写入 updates 数据\n",
    "tf.scatter_nd(indices, updates, [8])"
   ]
  },
  {
   "cell_type": "code",
   "execution_count": 49,
   "id": "ec35bb18",
   "metadata": {},
   "outputs": [
    {
     "data": {
      "text/plain": [
       "<tf.Tensor: shape=(4, 4, 4), dtype=int32, numpy=\n",
       "array([[[0, 0, 0, 0],\n",
       "        [0, 0, 0, 0],\n",
       "        [0, 0, 0, 0],\n",
       "        [0, 0, 0, 0]],\n",
       "\n",
       "       [[5, 5, 5, 5],\n",
       "        [6, 6, 6, 6],\n",
       "        [7, 7, 7, 7],\n",
       "        [8, 8, 8, 8]],\n",
       "\n",
       "       [[0, 0, 0, 0],\n",
       "        [0, 0, 0, 0],\n",
       "        [0, 0, 0, 0],\n",
       "        [0, 0, 0, 0]],\n",
       "\n",
       "       [[1, 1, 1, 1],\n",
       "        [2, 2, 2, 2],\n",
       "        [3, 3, 3, 3],\n",
       "        [4, 4, 4, 4]]])>"
      ]
     },
     "execution_count": 49,
     "metadata": {},
     "output_type": "execute_result"
    }
   ],
   "source": [
    "indices = tf.constant([[1],[3]])\n",
    "updates = tf.constant([# 构造写入数据，即 2 个矩阵\n",
    " [[5,5,5,5],[6,6,6,6],[7,7,7,7],[8,8,8,8]],\n",
    " [[1,1,1,1],[2,2,2,2],[3,3,3,3],[4,4,4,4]]\n",
    "])\n",
    "# 在 shape 为[4,4,4]白板上根据 indices 写入 updates\n",
    "tf.scatter_nd(indices,updates,[4,4,4])"
   ]
  },
  {
   "cell_type": "markdown",
   "id": "b3e8b349",
   "metadata": {},
   "source": [
    "### tf.meshgrid\n",
    "通过 tf.meshgrid 函数可以方便地生成二维网格的采样点坐标，方便可视化等应用场合."
   ]
  },
  {
   "cell_type": "code",
   "execution_count": 50,
   "id": "fd6d95ce",
   "metadata": {},
   "outputs": [
    {
     "name": "stdout",
     "output_type": "stream",
     "text": [
      "(100, 100) (100, 100)\n"
     ]
    },
    {
     "data": {
      "image/png": "[encoded data removed]",
      "text/plain": [
       "<Figure size 432x288 with 1 Axes>"
      ]
     },
     "metadata": {
      "needs_background": "light"
     },
     "output_type": "display_data"
    }
   ],
   "source": [
    "x = tf.linspace(-8.,8,100) \n",
    "y = tf.linspace(-8.,8,100)\n",
    "x,y = tf.meshgrid(x,y)\n",
    "print(x.shape,y.shape) \n",
    "z = tf.sqrt(x**2+y**2) \n",
    "z = tf.sin(z)/z\n",
    "import matplotlib.pyplot as plt\n",
    "from mpl_toolkits.mplot3d import Axes3D\n",
    "plt.rcParams['axes.unicode_minus']=False\n",
    "pl = plt.figure()\n",
    "ax=Axes3D(pl,auto_add_to_figure=False)\n",
    "pl.add_axes(ax)\n",
    "ax.plot_surface(x.numpy(), y.numpy(), z.numpy(),cmap=plt.get_cmap('rainbow'))\n",
    "plt.show()"
   ]
  },
  {
   "cell_type": "markdown",
   "id": "a88c3e73",
   "metadata": {},
   "source": [
    "## 经典数据集加载\n",
    "在 TensorFlow 中，keras.datasets 模块提供了常用经典数据集的自动下载、管理、加载与转换功能，并且提供了 tf.data.Dataset 数据集对象，方便实现多线程(Multi-threading)、预处理(Preprocessing)、随机打散(Shuffle)和批训练(Training on Batch)等常用数据集的功能。"
   ]
  },
  {
   "cell_type": "markdown",
   "id": "ab3d945a",
   "metadata": {},
   "source": [
    "通过 datasets.xxx.load_data()函数即可实现经典数据集的自动加载，其中 xxx 代表具体的数据集名称，如“CIFAR10”、“MNIST”。TensorFlow 会默认将数据缓存在用户目录下的.keras/datasets 文件夹."
   ]
  },
  {
   "cell_type": "code",
   "execution_count": 51,
   "id": "3ba068a2",
   "metadata": {},
   "outputs": [
    {
     "data": {
      "text/plain": [
       "((60000, 28, 28), (60000,), (10000, 28, 28), (10000,))"
      ]
     },
     "execution_count": 51,
     "metadata": {},
     "output_type": "execute_result"
    }
   ],
   "source": [
    "import tensorflow as tf\n",
    "(x, y), (x_test, y_test) = tf.keras.datasets.mnist.load_data()\n",
    "x.shape, y.shape,x_test.shape,y_test.shape"
   ]
  },
  {
   "cell_type": "markdown",
   "id": "1482336f",
   "metadata": {},
   "source": [
    "数据加载进入内存后，需要转换成 Dataset 对象，才能利用 TensorFlow 提供的各种便捷功能。通过 Dataset.from_tensor_slices 可以将训练部分的数据图片 x 和标签 y 都转换成Dataset 对象"
   ]
  },
  {
   "cell_type": "code",
   "execution_count": 52,
   "id": "23f1e879",
   "metadata": {},
   "outputs": [],
   "source": [
    "train_db = tf.data.Dataset.from_tensor_slices((x, y)) #返回数据集对象"
   ]
  },
  {
   "cell_type": "markdown",
   "id": "05e78231",
   "metadata": {},
   "source": [
    "通过 Dataset.shuffle(buffer_size)工具可以设置 Dataset 对象随机打散数据之间的顺序，防止每次训练时数据按固定顺序产生，从而使得模型尝试“记忆”住标签信息."
   ]
  },
  {
   "cell_type": "code",
   "execution_count": 53,
   "id": "c939fa0d",
   "metadata": {},
   "outputs": [],
   "source": [
    "train_db = train_db.shuffle(10000)  #buffer_size 参数指定缓冲池的大小，一般设置为一个较大的常数即可。"
   ]
  },
  {
   "cell_type": "markdown",
   "id": "8a1d2f08",
   "metadata": {},
   "source": [
    "为了利用显卡的并行计算能力，一般在网络的计算过程中会同时计算多个样本，我们把这种训练方式叫做批训练，其中一个批中样本的数量叫做 Batch Size。为了一次能够从Dataset 中产生 Batch Size 数量的样本，需要设置 Dataset 为批训练方式."
   ]
  },
  {
   "cell_type": "code",
   "execution_count": 54,
   "id": "e8efcf43",
   "metadata": {},
   "outputs": [],
   "source": [
    "train_db = train_db.batch(128) #其中 128 为 Batch Size 参数，即一次并行计算 128 个样本的数据"
   ]
  },
  {
   "cell_type": "markdown",
   "id": "942d4e66",
   "metadata": {},
   "source": [
    "从 keras.datasets 中加载的数据集的格式大部分情况都不能直接满足模型的输入要求，因此需要根据用户的逻辑自行实现预处理步骤。Dataset 对象通过提供 map(func)工具函数，可以非常方便地调用用户自定义的预处理逻辑，它实现在 func 函数里。"
   ]
  },
  {
   "cell_type": "code",
   "execution_count": 55,
   "id": "a695ff7c",
   "metadata": {},
   "outputs": [],
   "source": [
    "def preprocess(x, y): # 自定义的预处理函数\n",
    " x = tf.reshape(2*tf.cast(x, dtype=tf.float32) / 255.-1, [-1, 28*28]) \n",
    " y = tf.one_hot(tf.cast(y, dtype=tf.int32) , depth=10)\n",
    " return x,y"
   ]
  },
  {
   "cell_type": "code",
   "execution_count": 56,
   "id": "3481877a",
   "metadata": {},
   "outputs": [],
   "source": [
    "train_db = train_db.map(preprocess)"
   ]
  },
  {
   "cell_type": "markdown",
   "id": "658c4258",
   "metadata": {},
   "source": [
    "对于 Dataset 对象，在使用时可以通过  \n",
    "for step, (x,y) in enumerate(train_db): # 迭代数据集对象，带 step 参数  \n",
    "或  \n",
    "for x,y in train_db: # 迭代数据集对象  \n",
    "方式进行迭代，每次返回的 x 和 y 对象即为批量样本和标签。当对 train_db 的所有样本完成一次迭代后，for 循环终止退出。这样完成一个 Batch 的数据训练，叫做一个 Step；通过多个 step 来完成整个训练集的一次迭代，叫做一个 Epoch。在实际训练时，通常需要对数据集迭代多个 Epoch 才能取得较好地训练效果。实现如下：  \n",
    "for epoch in range(20): # 训练 Epoch 数  \n",
    " for step, (x,y) in enumerate(train_db): # 迭代 Step 数  \n",
    "此外，也可以通过设置 Dataset 对象，使得数据集对象内部遍历多次才会退出，实现如下:  \n",
    "train_db = train_db.repeat(20) # 数据集迭代 20 遍才终止.  \n",
    "上述代码使得 for x,y in train_db 循环迭代 20 个 epoch 才会退出。不管使用上述哪种方式，都能取得一样的效果。"
   ]
  }
 ],
 "metadata": {
  "kernelspec": {
   "display_name": "Python [conda env:code] *",
   "language": "python",
   "name": "conda-env-code-py"
  },
  "language_info": {
   "codemirror_mode": {
    "name": "ipython",
    "version": 3
   },
   "file_extension": ".py",
   "mimetype": "text/x-python",
   "name": "python",
   "nbconvert_exporter": "python",
   "pygments_lexer": "ipython3",
   "version": "3.7.13"
  }
 },
 "nbformat": 4,
 "nbformat_minor": 5
}
